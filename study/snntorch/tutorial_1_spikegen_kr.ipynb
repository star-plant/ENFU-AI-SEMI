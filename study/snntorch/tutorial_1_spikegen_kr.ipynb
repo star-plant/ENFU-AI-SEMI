{
  "cells": [
    {
      "cell_type": "markdown",
      "metadata": {
        "id": "RBNKFLJIobYt"
      },
      "source": [
        "[<img src='https://github.com/jeshraghian/snntorch/blob/master/docs/_static/img/snntorch_alpha_w.png?raw=true' width=\"400\">](https://github.com/jeshraghian/snntorch/)\n",
        "\n",
        "# Tutorial 1 - Spike Encoding\n",
        "## By Jason K. Eshraghian (www.ncg.ucsc.edu)\n",
        "\n",
        "\n",
        "<a href=\"https://colab.research.google.com/github/jeshraghian/snntorch/blob/master/examples/tutorial_1_spikegen.ipynb\">\n",
        "  <img src=\"https://colab.research.google.com/assets/colab-badge.svg\" alt=\"Open In Colab\"/>\n",
        "</a>\n",
        "\n",
        "[<img src='https://github.com/jeshraghian/snntorch/blob/master/docs/_static/img/GitHub-Mark-Light-120px-plus.png?raw=true' width=\"28\">](https://github.com/jeshraghian/snntorch/) [<img src='https://github.com/jeshraghian/snntorch/blob/master/docs/_static/img/GitHub_Logo_White.png?raw=true' width=\"80\">](https://github.com/jeshraghian/snntorch/)\n"
      ]
    },
    {
      "cell_type": "markdown",
      "metadata": {
        "id": "4blpfg4y44uO"
      },
      "source": [
        "이 snnTorch 튜토리얼 시리즈는 다음 논문을 기반으로 작성되었습니다. 이 자료나 코드를 작업에 활용하신다면, 아래의 출처를 인용해 주시기 바랍니다.:\n",
        "\n",
        "> <cite> [Jason K. Eshraghian, Max Ward, Emre Neftci, Xinxin Wang, Gregor Lenz, Girish Dwivedi, Mohammed Bennamoun, Doo Seok Jeong, and Wei D. Lu. \"Training Spiking Neural Networks Using Lessons From Deep Learning\". Proceedings of the IEEE, 111(9) September 2023.](https://ieeexplore.ieee.org/abstract/document/10242251) </cite>"
      ]
    },
    {
      "cell_type": "markdown",
      "metadata": {
        "id": "lnF_PEo5obYv",
        "pycharm": {
          "name": "#%% md\n"
        }
      },
      "source": [
        "이 튜토리얼에서는 snnTorch를 사용하여 다음 내용을 학습하게 됩니다.:\n",
        "* 데이터셋을 스파이크 데이터셋으로 변환하는 방법,\n",
        "* 변환된 데이터를 시각화하는 방법,\n",
        "* 무작위 스파이크 열(random spike train)을 생성하는 방법."
      ]
    },
    {
      "cell_type": "markdown",
      "metadata": {
        "id": "d7qhH_lt8_mn"
      },
      "source": [
        "# Introduction\n",
        "빛은 망막이 광자를 스파이크로 변환할 때 우리가 보게 되는 것입니다. 냄새는 기화된 분자가 스파이크로 변환될 때 우리가 맡게 되는 것입니다. 촉각은 신경 말단이 촉각 압력을 스파이크로 변환할 때 우리가 느끼게 됩니다. 뇌는 *Spike*라는 공통 통화를 사용합니다.\n",
        "\n",
        "최종 목표가 SNN(Spiking Neural Network)을 구축하는 것이라면, 입력 역시 스파이크를 사용하는 것이 타당합니다.\n",
        "물론 Tutorial 3에서 보게 되듯이 비스파이크 입력을 사용하는 경우도 흔하지만, 데이터를 인코딩하는 매력 중 일부는 생물학적인 처리 과정을 모사하는 데 있습니다.\n",
        "\n",
        "\n",
        "\n",
        "1.   **Spikes**: (a-b) 생물학적 뉴런은 약 100 mV 진폭의 전기적 충격(spike)을 통해 정보를 처리하고 전달합니다. (c) 많은 뉴런의 계산 모델은 이러한 전압 펄스를 단일 비트 이벤트(‘1’ 또는 ‘0’)로 단순화합니다. 이는 고정밀 값을 사용하는 것보다 하드웨어에서 훨씬 간단하게 표현할 수 있습니다.\n",
        "\n",
        "2.   **Sparsity**: (c) 뉴런은 대부분의 시간을 안정 상태로 보내며, 어느 시점이든 대부분의 활성화를 0으로 유지합니다. 0이 많은 희소 벡터/텐서는 저장 비용이 저렴할 뿐 아니라, 예를 들어 희소 활성화 값을 시냅스 가중치와 곱해야 한다고 할 때, 대부분의 값이 ‘0’이면 네트워크 파라미터를 메모리에서 읽을 필요가 거의 없습니다. 이는 뉴로모픽 하드웨어가 매우 효율적으로 동작할 수 있음을 의미합니다.\n",
        "\n",
        "3.   **Static-Suppression (a.k.a, event-driven processing**: (d-e) 감각 주변부는 처리할 새로운 정보가 있을 때만 정보를 처리합니다. (e)의 각 픽셀은 조도(illuminance)의 변화에만 반응하므로, 이미지 대부분이 차단됩니다. 전통적인 신호 처리 방식에서는 모든 채널/픽셀이 전역 샘플링 속도나 셔터 속도를 따라야 하기 때문에 센싱 빈도가 느려집니다. 이벤트 기반 처리는 변하지 않는 입력을 차단함으로써 희소성과 전력 효율성을 높일 뿐만 아니라, 더 빠른 처리 속도를 가능하게 합니다.\n",
        "\n",
        "\n",
        "<center>\n",
        "<img src='https://github.com/jeshraghian/snntorch/blob/master/docs/_static/img/examples/tutorial1/3s.png?raw=true' width=\"600\">\n",
        "</center>"
      ]
    },
    {
      "cell_type": "markdown",
      "metadata": {
        "id": "lGNOnFM4DzHY"
      },
      "source": [
        "이 튜토리얼에서는 non-spiking 형태의 입력 데이터(예: MNIST 데이터셋)를 가지고 있다고 가정하고, 이를 몇 가지 다른 기법을 사용하여 스파이크로 인코딩하는 과정을 다룹니다.\n",
        "그럼 시작해봅시다!"
      ]
    },
    {
      "cell_type": "markdown",
      "metadata": {
        "id": "GAbXmmVN50Pl"
      },
      "source": [
        "먼저, snnTorch의 최신 PyPi 배포판을 설치합니다:"
      ]
    },
    {
      "cell_type": "code",
      "execution_count": 1,
      "metadata": {
        "id": "jxLoYgkhobYw",
        "pycharm": {
          "name": "#%%\n"
        },
        "colab": {
          "base_uri": "https://localhost:8080/"
        },
        "outputId": "12f8cedb-8299-40a1-cf5a-08370d8bb2a6"
      },
      "outputs": [
        {
          "output_type": "stream",
          "name": "stdout",
          "text": [
            "Collecting snntorch\n",
            "  Downloading snntorch-0.9.4-py2.py3-none-any.whl.metadata (15 kB)\n",
            "Downloading snntorch-0.9.4-py2.py3-none-any.whl (125 kB)\n",
            "\u001b[?25l   \u001b[90m━━━━━━━━━━━━━━━━━━━━━━━━━━━━━━━━━━━━━━━━\u001b[0m \u001b[32m0.0/125.6 kB\u001b[0m \u001b[31m?\u001b[0m eta \u001b[36m-:--:--\u001b[0m\r\u001b[2K   \u001b[90m━━━━━━━━━━━━━━━━━━━━━━━━━━━━━━━━━━━━━━━━\u001b[0m \u001b[32m125.6/125.6 kB\u001b[0m \u001b[31m4.7 MB/s\u001b[0m eta \u001b[36m0:00:00\u001b[0m\n",
            "\u001b[?25hInstalling collected packages: snntorch\n",
            "Successfully installed snntorch-0.9.4\n"
          ]
        }
      ],
      "source": [
        "!pip install snntorch"
      ]
    },
    {
      "cell_type": "markdown",
      "metadata": {
        "id": "k6E7VH5kbTmA"
      },
      "source": [
        "## 1. Setting up the MNIST Dataset"
      ]
    },
    {
      "cell_type": "markdown",
      "metadata": {
        "id": "Suffg8_ZobYw",
        "pycharm": {
          "name": "#%% md\n"
        }
      },
      "source": [
        "### 1.1. Import packages and setup environment"
      ]
    },
    {
      "cell_type": "code",
      "execution_count": 2,
      "metadata": {
        "id": "cR9okh0jobYx",
        "pycharm": {
          "name": "#%%\n"
        }
      },
      "outputs": [],
      "source": [
        "import snntorch as snn\n",
        "import torch"
      ]
    },
    {
      "cell_type": "code",
      "execution_count": 3,
      "metadata": {
        "id": "e4LPD0WCobYx",
        "pycharm": {
          "name": "#%%\n"
        }
      },
      "outputs": [],
      "source": [
        "# Training Parameters\n",
        "batch_size=128\n",
        "data_path='/tmp/data/mnist'\n",
        "num_classes = 10  # MNIST has 10 output classes\n",
        "\n",
        "# Torch Variables\n",
        "dtype = torch.float"
      ]
    },
    {
      "cell_type": "markdown",
      "metadata": {
        "id": "x5X2a5a9obYy"
      },
      "source": [
        "### 1.2 Download Dataset"
      ]
    },
    {
      "cell_type": "code",
      "execution_count": 4,
      "metadata": {
        "id": "OlbY8Rm9obYy",
        "pycharm": {
          "name": "#%%\n"
        },
        "colab": {
          "base_uri": "https://localhost:8080/"
        },
        "outputId": "cbf97111-b947-46a3-dfbc-3accf7248166"
      },
      "outputs": [
        {
          "output_type": "stream",
          "name": "stderr",
          "text": [
            "100%|██████████| 9.91M/9.91M [00:00<00:00, 18.1MB/s]\n",
            "100%|██████████| 28.9k/28.9k [00:00<00:00, 482kB/s]\n",
            "100%|██████████| 1.65M/1.65M [00:00<00:00, 4.51MB/s]\n",
            "100%|██████████| 4.54k/4.54k [00:00<00:00, 9.20MB/s]\n"
          ]
        }
      ],
      "source": [
        "from torchvision import datasets, transforms\n",
        "\n",
        "# Define a transform\n",
        "transform = transforms.Compose([\n",
        "            transforms.Resize((28,28)),\n",
        "            transforms.Grayscale(),\n",
        "            transforms.ToTensor(),\n",
        "            transforms.Normalize((0,), (1,))])\n",
        "\n",
        "mnist_train = datasets.MNIST(data_path, train=True, download=True, transform=transform)"
      ]
    },
    {
      "cell_type": "markdown",
      "metadata": {
        "id": "6ZyzEp9YHgPb"
      },
      "source": [
        "위의 코드 블록에서 오류가 발생한다면, 예를 들어 MNIST 서버가 다운된 경우, 아래 코드를 주석 해제하여 대신 사용하세요."
      ]
    },
    {
      "cell_type": "code",
      "execution_count": null,
      "metadata": {
        "id": "ZpGLLVqeHgwy"
      },
      "outputs": [],
      "source": [
        "# # temporary dataloader if MNIST service is unavailable\n",
        "# !wget www.di.ens.fr/~lelarge/MNIST.tar.gz\n",
        "# !tar -zxvf MNIST.tar.gz\n",
        "\n",
        "# mnist_train = datasets.MNIST(root = './', train=True, download=True, transform=transform)"
      ]
    },
    {
      "cell_type": "markdown",
      "metadata": {
        "id": "T5wXl2bVobYz",
        "pycharm": {
          "name": "#%% md\n"
        }
      },
      "source": [
        "실제로 네트워크 학습을 시작하기 전까지는 큰 데이터셋이 필요하지 않습니다. `snntorch.utils`에는 데이터셋을 수정하는 데 유용한 몇 가지 함수가 포함되어 있습니다. `data_subset`을 적용하면 `subset`에 지정된 비율만큼 데이터셋을 줄일 수 있습니다. *예: `subset=10`인 경우, 60,000개의 학습 세트가 6,000개로 줄어듭니다.*\n"
      ]
    },
    {
      "cell_type": "code",
      "execution_count": 5,
      "metadata": {
        "id": "5FPsPU46obYz",
        "pycharm": {
          "name": "#%%\n"
        },
        "colab": {
          "base_uri": "https://localhost:8080/"
        },
        "outputId": "ce4d52e0-4f6d-4dc5-d6ad-eb8d4faf8613"
      },
      "outputs": [
        {
          "output_type": "stream",
          "name": "stdout",
          "text": [
            "The size of mnist_train is 6000\n"
          ]
        }
      ],
      "source": [
        "from snntorch import utils\n",
        "\n",
        "subset = 10\n",
        "mnist_train = utils.data_subset(mnist_train, subset)\n",
        "print(f\"The size of mnist_train is {len(mnist_train)}\")"
      ]
    },
    {
      "cell_type": "markdown",
      "metadata": {
        "id": "9CedMagsobY0",
        "pycharm": {
          "name": "#%% md\n"
        }
      },
      "source": [
        "### 1.3 Create DataLoaders\n",
        "위에서 생성한 Dataset 객체는 데이터를 메모리에 로드하며, DataLoader는 이를 배치 단위로 제공합니다.\n",
        "PyTorch의 DataLoader는 네트워크에 데이터를 전달하기 위한 편리한 인터페이스입니다.\n",
        "`batch_size` 크기로 나뉜 미니배치 단위의 이터레이터를 반환합니다.\n"
      ]
    },
    {
      "cell_type": "code",
      "execution_count": 6,
      "metadata": {
        "id": "TrJLlWj2obY0",
        "pycharm": {
          "name": "#%%\n"
        }
      },
      "outputs": [],
      "source": [
        "from torch.utils.data import DataLoader\n",
        "\n",
        "train_loader = DataLoader(mnist_train, batch_size=batch_size, shuffle=True)"
      ]
    },
    {
      "cell_type": "markdown",
      "metadata": {
        "id": "mwSdczxKobY0",
        "pycharm": {
          "name": "#%% md\n"
        }
      },
      "source": [
        "## 2. Spike Encoding\n",
        "\n",
        "Spiking Neural Networks(SNNs)는 시간에 따라 변하는 데이터를 활용하도록 설계되었습니다.\n",
        "그러나 MNIST는 시간 변화가 없는 데이터셋입니다.\n",
        "MNIST를 SNN에서 사용하려면 두 가지 방법이 있습니다.\n",
        "\n",
        "1. 동일한 학습 샘플 \\$\\mathbf{X}\\in\\mathbb{R}^{m\\times n}\\$을 각 시간 스텝마다 네트워크에 반복적으로 전달하는 방법입니다.\n",
        "   이는 MNIST를 정적이고 변하지 않는 비디오로 변환하는 것과 같습니다.\n",
        "   \\$\\mathbf{X}\\$의 각 원소는 0과 1 사이로 정규화된 고정밀 값을 가질 수 있습니다: \\$X\\_{ij}\\in \\[0, 1]\\$.\n",
        "\n",
        "\n",
        "<center>\n",
        "<img src='https://github.com/jeshraghian/snntorch/blob/master/docs/_static/img/examples/tutorial1/1_2_1_static.png?raw=true' width=\"700\">\n",
        "</center>\n",
        "\n",
        "2. 입력을 시퀀스 길이 num_steps의 스파이크 열(spike train)로 변환하는 방법입니다.\n",
        "이 경우 각 특징/픽셀은 이산 값$X_{i,j} \\in \\{0, 1\\}$을 갖습니다.\n",
        "이렇게 하면 MNIST가 원본 이미지와 관련성을 유지하는 시간 변화 스파이크 시퀀스로 변환됩니다.\n",
        "\n",
        "<center>\n",
        "<img src='https://github.com/jeshraghian/snntorch/blob/master/docs/_static/img/examples/tutorial1/1_2_2_spikeinput.png?raw=true' width=\"700\">\n",
        "</center>\n",
        "\n",
        "첫 번째 방법은 꽤 간단하지만 SNN의 시간적 동역학을 충분히 활용하지 못합니다.\n",
        "그래서 (2)에서 말한 데이터→스파이크 변환(인코딩)을 더 자세히 살펴보겠습니다.\n",
        "\n",
        "`snntorch.spikegen` 모듈(스파이크 생성)은 데이터를 스파이크로 바꾸는 과정을 단순화하는 여러 함수를 제공합니다.\n",
        "현재 `snntorch`에서 사용할 수 있는 스파이크 인코딩 옵션은 세 가지입니다.\n",
        "\n",
        "\n",
        "1. Rate coding: [`spikegen.rate`](https://snntorch.readthedocs.io/en/latest/snntorch.spikegen.html#snntorch.spikegen.rate)\n",
        "2. Latency coding: [`spikegen.latency`](https://snntorch.readthedocs.io/en/latest/snntorch.spikegen.html#snntorch.spikegen.latency)\n",
        "3. Delta modulation: [`spikegen.delta`](https://snntorch.readthedocs.io/en/latest/snntorch.spikegen.html#snntorch.spikegen.delta)\n",
        "\n",
        "이들의 차이는 다음과 같습니다.\n",
        "\n",
        "1. **Rate coding**: 입력 특징을 사용해 스파이크 **빈도**를 결정합니다.\n",
        "2. **Latency coding**: 입력 특징을 사용해 스파이크 **발생 시점**을 결정합니다.\n",
        "3. **Delta modulation**: 입력 특징의 시간적 **변화량**을 이용해 스파이크를 생성합니다.\n"
      ]
    },
    {
      "cell_type": "markdown",
      "metadata": {
        "id": "3D5HSoY4bQDm"
      },
      "source": [
        "### 2.1 Rate coding of MNIST\n",
        "\n",
        "입력 데이터를 rate code로 변환하는 한 가지 예시는 다음과 같습니다.\n",
        "정규화된 각 입력 특징 \\$X\\_{ij}\\$를, 임의의 시간 스텝에서 이벤트(스파이크)가 발생할 확률로 사용하여 rate-coded 값 \\$R\\_{ij}\\$를 생성합니다.\n",
        "이는 베르누이 시행으로 볼 수 있습니다: \\$R\\_{ij} \\sim B(n, p)\\$, 여기서 시행 횟수는 \\$n=1\\$, 성공(스파이크 발생) 확률은 \\$p = X\\_{ij}\\$입니다.\n",
        "즉, 스파이크가 발생할 확률은 다음과 같습니다:\n",
        "\n",
        "${\\rm P}(R_{ij}=1) = X_{ij} = 1 - {\\rm P}(R_{ij} = 0)$\n",
        "\n",
        " ‘0.5’로 채워진 벡터를 만들고, 위의 기법을 사용해 인코딩해 봅니다.\n"
      ]
    },
    {
      "cell_type": "code",
      "execution_count": 23,
      "metadata": {
        "id": "DxorUvomL1ei",
        "colab": {
          "base_uri": "https://localhost:8080/"
        },
        "outputId": "5f1c0cf7-8b4d-40b3-d5bd-0cbd29d7db75"
      },
      "outputs": [
        {
          "output_type": "stream",
          "name": "stdout",
          "text": [
            "Converted vector: tensor([1., 0., 1., 0., 1., 0., 0., 0., 0., 1.])\n",
            "The output is spiking 40.00% of the time.\n"
          ]
        }
      ],
      "source": [
        "# Temporal Dynamics\n",
        "num_steps = 10\n",
        "\n",
        "# create vector filled with 0.5\n",
        "raw_vector = torch.ones(num_steps)*0.5\n",
        "\n",
        "# pass each sample through a Bernoulli trial\n",
        "rate_coded_vector = torch.bernoulli(raw_vector)\n",
        "print(f\"Converted vector: {rate_coded_vector}\")\n",
        "\n",
        "print(f\"The output is spiking {rate_coded_vector.sum()*100/len(rate_coded_vector):.2f}% of the time.\")"
      ]
    },
    {
      "cell_type": "markdown",
      "metadata": {
        "id": "l0E8Z8mSNflV"
      },
      "source": [
        "이제 `raw_vector`의 길이를 늘려서 다시 시도해 보겠습니다.\n"
      ]
    },
    {
      "cell_type": "code",
      "execution_count": 29,
      "metadata": {
        "id": "Y6uUgpktNjBg",
        "colab": {
          "base_uri": "https://localhost:8080/"
        },
        "outputId": "77d0e4f2-943e-4475-8a7d-c795abb8e636"
      },
      "outputs": [
        {
          "output_type": "stream",
          "name": "stdout",
          "text": [
            "The output is spiking 47.00% of the time.\n"
          ]
        }
      ],
      "source": [
        "num_steps = 100\n",
        "\n",
        "# create vector filled with 0.5\n",
        "raw_vector = torch.ones(num_steps)*0.5\n",
        "\n",
        "# pass each sample through a Bernoulli trial\n",
        "rate_coded_vector = torch.bernoulli(raw_vector)\n",
        "print(f\"The output is spiking {rate_coded_vector.sum()*100/len(rate_coded_vector):.2f}% of the time.\")"
      ]
    },
    {
      "cell_type": "markdown",
      "metadata": {
        "id": "zoLxfVoINzdH"
      },
      "source": [
        "`num_steps`가 $\\rightarrow\\infty$로 갈수록, 스파이크의 비율은 원래의 raw 값에 수렴합니다."
      ]
    },
    {
      "cell_type": "markdown",
      "metadata": {
        "id": "eYKsWmoGLz6S"
      },
      "source": [
        "MNIST 이미지의 경우, 이 스파이크 발생 확률은 해당 픽셀 값에 해당합니다.\n",
        "\n",
        "* 흰색 픽셀 → 스파이크 발생 확률 100%\n",
        "* 검은색 픽셀 → 스파이크가 절대 발생하지 않음\n",
        "\n",
        "아래의 ‘Rate Coding’ 열을 보면 이 개념을 더 직관적으로 이해할 수 있습니다.\n",
        "\n",
        "\n",
        "<center>\n",
        "<img src='https://github.com/jeshraghian/snntorch/blob/master/docs/_static/img/examples/tutorial1/1_2_3_spikeconv.png?raw=true' width=\"1000\">\n",
        "</center>"
      ]
    },
    {
      "cell_type": "markdown",
      "metadata": {
        "id": "k8_Lzm6FOcm0"
      },
      "source": [
        "비슷한 방식으로, `spikegen.rate`를 사용하면 데이터의 **rate-coded** 샘플을 생성할 수 있습니다.\n",
        "MNIST의 각 샘플은 단순히 한 장의 이미지이므로, `num_steps`를 이용해 이를 시간 축을 따라 반복할 수 있습니다.\n"
      ]
    },
    {
      "cell_type": "code",
      "execution_count": 30,
      "metadata": {
        "id": "nz70JGXqobY1",
        "pycharm": {
          "name": "#%%\n"
        }
      },
      "outputs": [],
      "source": [
        "from snntorch import spikegen\n",
        "\n",
        "# Iterate through minibatches\n",
        "data = iter(train_loader)\n",
        "data_it, targets_it = next(data)\n",
        "\n",
        "# Spiking Data\n",
        "spike_data = spikegen.rate(data_it, num_steps=num_steps)"
      ]
    },
    {
      "cell_type": "markdown",
      "metadata": {
        "id": "q0hATEwKobY1",
        "pycharm": {
          "name": "#%% md\n"
        }
      },
      "source": [
        "입력이 $[0,1]$ 범위를 벗어나면, 이는 더 이상 확률을 나타내지 않습니다.\n",
        "이러한 경우에는 해당 특징이 확률을 나타내도록 자동으로 클리핑됩니다.\n",
        "\n",
        "입력 데이터의 구조는 `[num_steps x batch_size x input dimensions]` 형식입니다.\n"
      ]
    },
    {
      "cell_type": "code",
      "execution_count": 31,
      "metadata": {
        "id": "ebdP5kFKobY2",
        "pycharm": {
          "name": "#%%\n"
        },
        "colab": {
          "base_uri": "https://localhost:8080/"
        },
        "outputId": "843c8f44-a0f3-45b2-d119-233dc66624bd"
      },
      "outputs": [
        {
          "output_type": "stream",
          "name": "stdout",
          "text": [
            "torch.Size([100, 128, 1, 28, 28])\n"
          ]
        }
      ],
      "source": [
        "print(spike_data.size())"
      ]
    },
    {
      "cell_type": "markdown",
      "metadata": {
        "id": "Cnas5Q89l_10"
      },
      "source": [
        "### 2.2 Visualization"
      ]
    },
    {
      "cell_type": "markdown",
      "metadata": {
        "id": "oVFuIXxMobY2",
        "pycharm": {
          "name": "#%% md\n"
        }
      },
      "source": [
        "#### 2.2.1 Animation\n",
        "snnTorch에는 스파이킹 뉴런을 시각화하고, 플로팅하며, 애니메이션으로 표현하는 과정을 단순화하는 [`snntorch.spikeplot`](https://snntorch.readthedocs.io/en/latest/snntorch.spikeplot.html) 모듈이 포함되어 있습니다.\n",
        "\n"
      ]
    },
    {
      "cell_type": "code",
      "execution_count": 33,
      "metadata": {
        "id": "4TYFlc4_ZK-u"
      },
      "outputs": [],
      "source": [
        "import matplotlib.pyplot as plt\n",
        "import snntorch.spikeplot as splt\n",
        "from IPython.display import HTML"
      ]
    },
    {
      "cell_type": "markdown",
      "metadata": {
        "id": "fwWROIkdobY3",
        "pycharm": {
          "name": "#%% md\n"
        }
      },
      "source": [
        "하나의 데이터 샘플을 플로팅하려면, `spike_data`의 배치(B) 차원에서 단일 샘플을 인덱싱하면 됩니다.\n",
        "`spike_data`의 구조는 `[T x B x 1 x 28 x 28]`입니다.\n"
      ]
    },
    {
      "cell_type": "code",
      "execution_count": 34,
      "metadata": {
        "id": "ZZxTqqOlobY3",
        "pycharm": {
          "name": "#%%\n"
        },
        "colab": {
          "base_uri": "https://localhost:8080/"
        },
        "outputId": "f35d674c-6216-440c-d892-c6a1fff73728"
      },
      "outputs": [
        {
          "output_type": "stream",
          "name": "stdout",
          "text": [
            "torch.Size([100, 28, 28])\n"
          ]
        }
      ],
      "source": [
        "spike_data_sample = spike_data[:, 0, 0]\n",
        "print(spike_data_sample.size())"
      ]
    },
    {
      "cell_type": "markdown",
      "metadata": {
        "id": "lJJyPUiuQ61x"
      },
      "source": [
        "`spikeplot.animator`를 사용하면 2D 데이터를 매우 간단하게 애니메이션으로 만들 수 있습니다.\n",
        "참고: 노트북을 로컬에서 실행하는 경우, `ffmpeg`를 설치해야 할 수 있습니다. 예를 들어,\n",
        "\n",
        "* pip 환경: `pip install ffmpeg`\n",
        "* Conda 환경: `conda install -c conda-forge ffmpeg`\n",
        "\n",
        "만약 `ffmpeg`를 찾을 수 없다는 오류가 발생하면, 아래 줄의 주석을 해제하고 `ffmpeg.exe`의 경로를 수정해 주세요.\n"
      ]
    },
    {
      "cell_type": "code",
      "execution_count": 35,
      "metadata": {
        "id": "4QVyvj9PobY3",
        "pycharm": {
          "name": "#%%\n"
        },
        "colab": {
          "base_uri": "https://localhost:8080/",
          "height": 889
        },
        "outputId": "69feee58-ee41-4f55-ef6e-d940c790aef5"
      },
      "outputs": [
        {
          "output_type": "execute_result",
          "data": {
            "text/plain": [
              "<IPython.core.display.HTML object>"
            ],
            "text/html": [
              "<video width=\"640\" height=\"480\" controls autoplay loop>\n",
              "  <source type=\"video/mp4\" src=\"data:video/mp4;base64,AAAAIGZ0eXBNNFYgAAACAE00ViBpc29taXNvMmF2YzEAAAAIZnJlZQAAcXttZGF0AAACrgYF//+q\n",
              "3EXpvebZSLeWLNgg2SPu73gyNjQgLSBjb3JlIDE2MyByMzA2MCA1ZGI2YWE2IC0gSC4yNjQvTVBF\n",
              "Ry00IEFWQyBjb2RlYyAtIENvcHlsZWZ0IDIwMDMtMjAyMSAtIGh0dHA6Ly93d3cudmlkZW9sYW4u\n",
              "b3JnL3gyNjQuaHRtbCAtIG9wdGlvbnM6IGNhYmFjPTEgcmVmPTMgZGVibG9jaz0xOjA6MCBhbmFs\n",
              "eXNlPTB4MzoweDExMyBtZT1oZXggc3VibWU9NyBwc3k9MSBwc3lfcmQ9MS4wMDowLjAwIG1peGVk\n",
              "X3JlZj0xIG1lX3JhbmdlPTE2IGNocm9tYV9tZT0xIHRyZWxsaXM9MSA4eDhkY3Q9MSBjcW09MCBk\n",
              "ZWFkem9uZT0yMSwxMSBmYXN0X3Bza2lwPTEgY2hyb21hX3FwX29mZnNldD0tMiB0aHJlYWRzPTMg\n",
              "bG9va2FoZWFkX3RocmVhZHM9MSBzbGljZWRfdGhyZWFkcz0wIG5yPTAgZGVjaW1hdGU9MSBpbnRl\n",
              "cmxhY2VkPTAgYmx1cmF5X2NvbXBhdD0wIGNvbnN0cmFpbmVkX2ludHJhPTAgYmZyYW1lcz0zIGJf\n",
              "cHlyYW1pZD0yIGJfYWRhcHQ9MSBiX2JpYXM9MCBkaXJlY3Q9MSB3ZWlnaHRiPTEgb3Blbl9nb3A9\n",
              "MCB3ZWlnaHRwPTIga2V5aW50PTI1MCBrZXlpbnRfbWluPTI1IHNjZW5lY3V0PTQwIGludHJhX3Jl\n",
              "ZnJlc2g9MCByY19sb29rYWhlYWQ9NDAgcmM9Y3JmIG1idHJlZT0xIGNyZj0yMy4wIHFjb21wPTAu\n",
              "NjAgcXBtaW49MCBxcG1heD02OSBxcHN0ZXA9NCBpcF9yYXRpbz0xLjQwIGFxPTE6MS4wMACAAAAH\n",
              "IWWIhAA7//73Tr8Cm0WXagOSVwr2yqQmWblSawHypgAAAwAAAwAAAwCQhHHua5XJPWaAAAAvYAkd\n",
              "R/ghH3kBNDCYZZFWrjpvUjoWFadFXimJb1UuS8/N/B3+j+Gt1R+BLVPDXd5gh7gTTcAN00v1OG4c\n",
              "6OfI63q6/hsFNXQrxWxBfqbVtRodtrIOAJ8Z9cc70ABG+46bFy2X74fnbyq3tvijKXjPGQslCrJx\n",
              "4fopxmloAD1TaMC91jER8K5iqpI7GzIxex0uTaK7jHtw1+Pn2/oDqOaBNjNCufhNbwkbBqD4fqdB\n",
              "k/V/95W5zvIZ2fLmP71KC5ua7I6YXvAeaBYtu3LeXVTDDhxTDYTqMqUFEoZmOcUixFWw0sZjGj+p\n",
              "Eomjo2MLihaz4O/71qO8tivYB0TLf+eIfyyVuMsVf/3S72Rpocnf4wsjvG09qeH17x3TUZqExsqr\n",
              "9Z4dcenVUGinMpP9h8bRMZtF2sHKzQCANOw2BpFFQgC8HANybzb2wsqu60YfOLxobxy9a3pHZcIk\n",
              "Mau3z+eJQxH1VvGbeIJvFtx30tvnzuvi5G2EdGXqQ0H4MQqznXxrgj/Gg2aIaIR35Lza38CgbnzD\n",
              "kyf4rcsjQ2LcV+poyi++JlANPw/ka/yBVw4Em1O1PVrENYJhukjkQHGSQphjDaULxVwjrTbRS5v+\n",
              "Y+2jbIyZ60EEkRx7THl2qgbXZY2xBGscAW9kJWgVKNr6HuEb5pplagwrJ+lwbfzv+Q3/0qbrpqBX\n",
              "sGdDQNfuJoe+0OcXTKknFtqzMN7/aKDSCZ+tfktSKzI8V5MuleDKYju5Mstu9FHZUu/czUaEu+N1\n",
              "yWOMKXWo/1PbguPsLEYXlEif27m0zCasmnACLCZylTmLTS63wvehDFYD9T1nDeFIt29OrFDDwfRv\n",
              "t8b8zBY6qfXkBVNm96zfPj4g7EQ9puJ6Btxoxfy5ouYifkfkK3Mi2y2rXrSkgxVPOz+DhAMAbw1I\n",
              "FPz6IJ5H+R9zs3qjB7ncX1R2N6vXELgFRJztNsZNo8Ms9KtP/Xkx43CZH2eDurooz2QV2UFpfe2S\n",
              "KtLa41eI1aDOWAxoxqs0xg3GP2q4GWIw/uka8zodOm4zKBCBjZ376Mqy621djmGr4tBCHguH/WTX\n",
              "BbMsLMXCcogfzNeS0aEZR3AwZK0Sxneix9/pv9ZgLxbHBn7y2OT+cIewIL2EX7+JSGCPca9TXlhJ\n",
              "xatQb4XTLdemTJtaybSpuPtOWzqEylDLDRIVnK5t5z0/c31IaEWBDOQsn5iHSytkmU641NEovvZ7\n",
              "jpzjKjaHCCxl1MssGNY2RU+HRwYKSgPnW8zBZJ5+oXtpDk+KN9rUBnrG22m/CbtlX7OSdoCFJCU3\n",
              "TYPQtqDHGo/Ur0545GBj9yq2ciH08XkeGAPEsJR5QklMJyl3FFSvtI8CYLfAvk8uzvnXFOiffqjM\n",
              "Ta7Y9YJpILaHznmfd4IOvhRYNGAwpv+peFe57q0lS6ODfb7A2IdWKShFGznBakfJSpMPCdylE9ag\n",
              "tYIL7umzi39pRvlpwhCXVPSzL9fXShDk+RTBbSo05a/qKknTe2/gaU0Lanq8zqqC8uphBqSyvK6m\n",
              "Np1GRtiabDTaJ5TQy0qxZdEDohG8Hj4L9FnBphL+GJ0kbVnkhvSx9Cb6NqFAiMTc6A8Yaue5b+ui\n",
              "mL0QstLZmrEWRtXyQxpieEKl0f7IycHmhNDlEEsL3BKDBKP2Fkwc6ArF03plPypwP8s1Qmkvs6Hm\n",
              "7koskP6Vb2+2F97OIP1YuRHNG7SgJaFnyaSr6v2xzFjZFxMvULq5JK7j12QU8clm0T3AFf2NOvf0\n",
              "jMV3syp+NZwuk8h9Wc7r1bBz8KUvqKspSkeVrzttx0D2Z6oIkRcrUYEPc1oVKzuP/nfoDQnuobbB\n",
              "truja0k9q9nvr6Nl/9PjhfEO3gUlBJPYQzW+6w5OSh/YZKLs2zVl7DzlFiDn4nky/M9BFh6bVMLY\n",
              "pczqWJ2iFvYMFjWBS5wc3gNGrBej8aXmMKQfs0Vap5P/QCE05rEnKZqdzRT8+bIVXf5I8ys02BD4\n",
              "NVQkREia4TIEBlGvyoD4RUp3FmBHYEWfuo+YVUGdaDv7AneNF/jTk5l8beViWY9MH938Ch7FVzUz\n",
              "A3OhSCKCZp8FD54YzGvdJmZIhpNeI9i1QvrmTJDs2z+FaN406GD+OVsef+WtRhCELBqSAcMUA0OZ\n",
              "CI4OJ7anKtfcYpaom/7bCaxLAQtwoZF4LhXMVarXDJNaoELsg/D4WiR5PgL38xJncs0Vv0oo0qgQ\n",
              "IHMJP1SgbeSUBWyviNdVmljj7JjmsrYLRBO2fJqKc6OSclyTAgfU/K1eiEnsgmOxjGF3CQEfc2Rw\n",
              "DNRMUV+0l4scw9StFJUhwDxv0rAsOFaREs5yzQWFi0XQR74/2/xb4XG13KhvngAAAwC2oz0rQwAA\n",
              "TUEAAAK1QZokbEO//qmWAAEgV+UADRvTjIY3Qo4jBlX/N2OzhiGuioI1Tf3DLMFUQCPgVagfxTlG\n",
              "sYKwsJkPGZeADtnTPds/9PySQqUZ/R2gcQzbvWpz3tWp3lsvZfWWKGiKTHFA7OfK+6ocAreEymwk\n",
              "yJera7P8aGL6SqgPgddG5cUXSHmnlEqfEn9dhWTcPUGcKu70lqa//s0tgcc+87fT0VX2l/sjG1bi\n",
              "2i4YUvilS4RANPLJNCjN0YEhRjKSmcOKsM9pnaJ+t7tHdlQSbNr5BH80Fu2aemWj2bvlzHmLRsHa\n",
              "eZ3LLY5H+BhRaWZKnIA+4OdzC9xDJ7j/ydzDWCGd3UH+wznhG/E6HrRjMp8Aco5lK92kHy5gkM9N\n",
              "DtQA7HHZyLX7S2J3srVPYOcSTmv/V18r1eL28f67c53zTq4tlpb4fVhjwt6z1xL8lmFx0qmqzt6W\n",
              "ByokaPRN5zlJCw9JJa7zAEeLvER0SEVfOcVEWi4mpm7w3mDwsNxFMQhV7r57XUzkk3bbDuBTxofd\n",
              "GFX4D4DZQBOKzUuffZO6/Tlih11ZAdt7KnJ8tDLwFGCNYDM40yEOwCfepuLApmsih2NqV7zYh/dA\n",
              "FzHYcrjTwvbq0Bkl0NSZ7Ks/yAyAZ15MovLGzSk/AEogdjlkhAbs3It4oYCIeN7l/oj9e64TAuBe\n",
              "fApg6w4qTzgACWc2mL1Jx3hmFip2wNWcFkVFctvc65xT/EiHtgfUMPmdyoceH0gNWCwXCEb61tRl\n",
              "gg+1RtFcKnwX9weJQnJK/1FaZy2rAC6WJGHyCcXviZRnk24uDa1lTuEX0iVTcEBctR5bfgJsDPld\n",
              "YQRFN/i3YAcaDNAHiSa6LwlCB4FM1kuzhQTvuM0Q5go3NFlUoa3e/dVxx5XL6K8i1a4S+ihy+vPM\n",
              "WliPb3SaGzg4tYb7pgoIAAABd0GeQniF/wADogPEjn+WlBmQ939jww/GeCalDhoIrQg5EiWrbeJf\n",
              "1nirINPDbC4kzA46gOFU2xgc0lKxf+B6Oi2NSZu1rUvzJAv+qIp5Pu+TY5DwGE/t6EYUPxsOBxJO\n",
              "rG2yNz+h0HoeIg6rYV2lw1Ua14y2BrNlaT66TVTeqjbLRIXc7U3JPapYlNPzx9sz0+Bfk0V43Lq6\n",
              "kAmD75mNuH7o8srme6MA4TM6kP5wH0GwmqyWP5msU6jhtIlkqWDooCX/FgXruW8oY2OWrkyZMIB4\n",
              "+cbXxJOJZTCUxk4Ec0FwsOuMNenkdV1Nkjld++O7gONoItYTeYz3AaB8YHROF/BVB5R1v0epaEpt\n",
              "4g9d+T7Bu1mHcJJ+zmAQjNEopK3buyjmHykbZbYQ/OWMWMZwluJqVylbuvURpNG7oxWI9tSOicdP\n",
              "BLCCt7p61BYnZZsPQK6DbA6tzN9ACxr+WO2ymGvxoO9AsOLCTrHX9idpSydtQgJKRAtNHwAAAHsB\n",
              "nmF0Qr8ABPznZcNJucbuzitjOW+sdoJZt7+NNrgamN+lnXfUB7uNYRMa8PuWaqOPeITDD881I47p\n",
              "/U9DPb8ObI2RCILvVKrWRuiV7mPK2kXnqElpwusw5tpfHpQx/zQbuY48nu2wNuZ94gpEtxuHW6SQ\n",
              "UGFNXCn7IeAAAACZAZ5jakK/AAT852XDSbnG7ogn3BAADkSSwygwe+JmVDBI4N1l2Tu8Ws5UKPys\n",
              "YSsd9Q6i6gwabKWqObz32oAW72UplTvmFMJmw/Vnxr+PoFNhMe1pXjvk7SrirGm77mv5TwFbv6tU\n",
              "9FpNAZsU2EflrgWj5NHb6RRmyy73yNraUIWhI4eiDZAu1BsyUpNoWawLBWZTnDbHAFtBAAABOkGa\n",
              "aEmoQWiZTAh3//6plgADKR6HduUUhRSdzknpbDsopYhif+v46u0l7E9xHeQ3FFQecbtlEaqN7LlV\n",
              "fNMWM+kfMYD2Mtp09LTpcZ/godpm3H36RPr/PFkodBsW/K/D8qM3+nZGKwre4vBvONoXcoJepTx/\n",
              "F1Y/QulK48fk2g+EQjUqO5HYqaLM5/hdYs93SzFCjr+kTR4LRn4k9hnlXI1cqCrVuhRPSiUG05yp\n",
              "dIa/rH5GT34AcswpeT6GcfJD1Vg+cpgm45cW3nMOEcLxNJvYQFrHFQxb8mftCzwHobYZsW+fQ5Sl\n",
              "whX47RCOTOznIhWCBKbOrR5iM11pp/OTULhhRZuQdiggq6bOcIM+Lmlv/jM70rM6u58FtT1R8NDr\n",
              "aqwv/HmkKuNB1DHusaZXS6UjuNz63jIVSEuRAAABEkGehkURLC//AAOh68nqJEqwVwFtccSt54NP\n",
              "t4y5JsZM71nZPVS+r9/E0HthP9W4D+/iJlsXRU/i+T+uiVinBdKr0tFGQM02jRcZVpnvpc4Lmssx\n",
              "fxByjhalOF24qWp6Xb64ZbjGEZA8l8YdsnmncSphoDF9IWVu1wpGIWwNTSis62ZObvokyuqU/fmO\n",
              "kon00gyfxwrelZhuIbGOpdP2x/1WE6C+zY5CcZ314XHW8CJwbuSxmt1AGcpZLi7TreQKBgupclMd\n",
              "5WGydz9jCYphUPLTNENeZ96qmlJcjc3mu7zdFjqnayRa4wSCn2tihY1r4vVQURHxZiPOSmGMtwMK\n",
              "6nKS51NQujaFmgT/OEAFPTXgTsEAAACsAZ6ldEK/AAT852XDSbnGyxQyfAcAHOCrja7Nb1RR6E87\n",
              "a3o3JWtyp0Zf0IsKKdXwsEEeGBWNDp1YuPQMLn1zt7roZik9fV8U0TruQo9/XpGCVdo2zPDg9Lgm\n",
              "4L9pFeaTAKlXIoH1t7fkc5G0AUDXwQjJcovLF+V8AjBjzxEJexCHlWn+JYqFJ648A4rwSKILr2uP\n",
              "9ihlvyKhOnUhyOvjMMNlIrdm2GqPZiih4QAAAMwBnqdqQr8ABPzngIZ/Qvsnhty9uiYVtQAO0FXH\n",
              "JcrEn9Bw6Cg14Dh8e6tG8h/PbQklQ1nG3szlg6lqD/GWqehSTFOaTBe8+OCXcDTT1JqjFnxwz1HJ\n",
              "Mbu2XyUwSyhLbBNHqPWPrBO4xR8yckqUJOlbOJKoHKj3I0q/VnGWVHkJjBQRQN3KVB1W4nUzfOc1\n",
              "fNcXwctwaqYcbLjHuouvgALLEifgwm5zeCicwAGrek08xyQljTBWJgjBC0Xj7ql27SRXVZPIA8kb\n",
              "+QH3gZcAAAFPQZqsSahBbJlMCHf//qmWAAMongVoPaD0gsYWf+gAp7bMX9WWxnEPQuo7H9oZ0WfM\n",
              "RKho/ssgP+XW1b4hmEQEOhV6SncW33UK0uxdfOUVnPB7tv7kMTJJDNIXaQMD8qSnJF2q2tTqiRMG\n",
              "fPq0ELg5ZrO4OhUaLEmxlPthjBWmH34iymyPf7vEsilrpT1wFj9vsF3DGATDH6vSUTyH3YONFRaR\n",
              "nn1ABMe1PljD2YPf4YHKsv6DAjhJY1pMmV4GIAn5tMfG5yJAiHrulW50R9p4uAPJnPARon6O2Mcf\n",
              "hlSa9sDc4chlRl0v5Ax+KdEEgh6+lLyfLQ8aqmD0otvYSCz1IvWUhmFYMuQOZnJhtbAVIG0YCWoc\n",
              "EJKnMS/RfVUUEMOS1oJixFGpl7UrqfUYGjToWR+IBQpjmp3pjjYNTrRv5/w9OpJ8MP/zIFLw8MR+\n",
              "Sj4AAAEMQZ7KRRUsL/8AA6Hrn2wi/Y+Y6Dix7eP2gAfgbx9rR8KaIHCvOvj/+6clD6l5GwS6dnnk\n",
              "DXNveG03gof8d4VZaubpP/Cr2t1/yZ8rfyhlbSPEPSEB2X+qLT2jLrIrFgnnUtg61qYOqRbSdm/L\n",
              "FYRh4J9yK6n5VaDHOzA7YKceEF3ghBt8hIPvbNFJBwhvqmC/TLgWc7HMQ9aBZrifW7rKnFUf747R\n",
              "jxGE7FQ8MdnTP7ctvJowcbU7+SwMLPCJ2yn5VcPGtlUjXuGy2msL6sAahX3+XVLvGf4+BgpJJea/\n",
              "yZNrUMwO0xesimLKINhNPEQGupxFQEasEFZ6DKRY/7y5WAw7DnFDqyeCWwWB3QAAAUgBnul0Qr8A\n",
              "BSDkJ0j6hfoZOOHWe6GCSTt0SGmdSzIDujHAWCjRQ3ZXgZRKu8dAy562ysUyoqACcaWAeBFxLpCq\n",
              "SImYmz7MfmDCfnRwoWyjpiHMmkr/0DDLu+dJY75JyYd9/9LZ00zaRxdy72scuVsugEvYZ5Lj1jve\n",
              "l49teTtVRJpNn0jnuN2fg/RV7MkbniGMshRcmVU/RxkIbewZEtfZ4tk97FbcHHt3T+tlmE9H+oZo\n",
              "ZYkVRF6/vPJ/3dv0CiWP6FEA4UZL8DhNVFGx3LcuHwAzuGt8+6ZDQynKS2IQ2dcDgOLcK6ZerCOC\n",
              "KHLN/nbN0JoFS4GquiJ0v+9iy1zWrFbJpblkwfZVZXbErCQ7nPCkgR6B3ugRlzGMFtUjDNCtLCFF\n",
              "JoZj/5olOBTdR2Yu7JzAg/f4BfW3k5Ub2KtNJ70sCnChYB6QAAABPgGe62pCvwAB2wI0y/0ueFdI\n",
              "+N1J6qFLg9wKjHd2l50TQdJtOn04O3Brr0lSKB/42xWn4VX24bNq+x4MMLWPCtlgKM6zSTbz4AVy\n",
              "H/5U+r+QBnj0iOlmzm3emev1+QjqZQEgXkMBU4tyZKoWlPzJ0DPv2d7kje250CVO9YhYdiJHK21L\n",
              "yDGMlvg4nkUSKAl39OiiiHoX+ykTfAYZJ9sat2aYKdQnKvUSjDFjy3JfUNhG/0KBu1fTvOB23msm\n",
              "sJg4tgc8WqoCZ21kQeKt/oTnNoRetP3q0vCYnZ7dtfTO+ckN1H5LG29L1sRtzNxn/3AXt56QuTNG\n",
              "U8Le1LoZEeNZWNE+aq79l4ZMCCx1PsrsyAqejoAh+aT1xWhoqIf2jAL/PofkpZLj1RAGSNy0yhMQ\n",
              "wX8HlDTrwrRUxVGcFoB/gAAAAXNBmu9JqEFsmUwId//+qZYAAShUvlAAAOuubQi3LDCAp2cStYUs\n",
              "2NEdDs4Znh1crHmnYyJN7JDLpskxP1BHqbywWibLZgQHp0XYjbwi4HnHiWvN/W1OdonU1DVv3La2\n",
              "f8qMfirJKv0kLoV1ret0+DRJNXmfFArzb4KPzct7gh+dYvvyCiVaTGzLaBKRGRhz4zWqJNM7HYIe\n",
              "Q0zjK0rJ2EEluTMQYbodOjQQkbZ8Qtpp9Rrcf53rMnHMG18JGtUrp6iDQipBBR+LnqztqzgraLia\n",
              "i2BW8aC1VGtK1aX4AsjVhOBKXfQ6fK7D1casUwcTw/whuvq7H5QoCf12OhHLl/0nEW/Rf1A97B8C\n",
              "a52V3ddBDykK0QNjYmD/CHa1GvusB3tk09qW02xGyzYRoWngGr6nvUoOTK5rnhbiaTEAQyfujbQI\n",
              "Es4eRswJnvt00ZtMWD4HGSw04QYSPyqwkMqEcrnRs1ZJ4z3ajQ4MM6+v2rtyNHAOCQAAAOpBnw1F\n",
              "FSwr/wAE/QkEbTQzPEZyeU74Dn973eaCmFh0FdV4TbgsKMNdd9fi4HWjBWIoT/96LjLRhrmPhGe8\n",
              "VjUSS4ohfWrMmUt+xDBRArRJyoIfXLWawJ7/pzrIP/ScS2ktDSTRnsN9VMHJGTgpQPVLDu49INZo\n",
              "Oi9HPSsKM+uj6Nf+7Nm0bSpVlgpCqzYarG+B8fAxW9UuTrWTlH4FiejSVb0rx0hn58hx4pmD0t6d\n",
              "RWBxOYha9aJRALWB+FkVxfCGX0yed0ITHD9hEiWAGCB279+Oq9XCHPDRXjAFviipJyjKELzq9GAA\n",
              "PSEAAADKAZ8uakK/AAT5p8O5Wkq1lrNVJIY/e6qqTmEZoAL7Z4rXSwLDYdgC8er5PEFtf0P7kYmt\n",
              "YvJlVqsWGCdIIFj8xFm9Udsd50OQM9l7Ufn+TW8ljPPzzhRvBU3gmnbYymKEjGJjBU/G+lOoGEx+\n",
              "uIms9Z/wDwwShsSZ+DuXb/sXnrSDvw9IUEHbxDQKzAqbAeS8/haBxgBImG2Ahz5/nS47pCKw5Eot\n",
              "rEF/TL7FS6I+Z8WzXsK3drimiwOKjZIxdxKJVruDKxuKh1oPSQAAAN1BmzNJqEFsmUwId//+qZYA\n",
              "ASFoqJOL51IebOuo34gG399dMA6vfEg+mqAhiDB3AFhK6Uxv2wQDnLX6hnzg7qwGCcRu//5tWEOH\n",
              "IFwV6pr6a5lQPOcImy1mX/UorEwA3Tic+j4oo5qQa2x1NlqzTas0VawfVU6eUiT/828k921PLHaf\n",
              "/j15wcR1ffAHOyUXzaP2YHPqTKhoAuRBOB1n+5XMKR6WXNLTRJ0srlX+Dr/I73fq5Db6HP/wfHSh\n",
              "Z6lUdkwYShPl5+U91PDl01iihH0PSMvcfuAV9gEgwzCPgAAAANFBn1FFFSwv/wADuAPKFWbCL9iy\n",
              "97/MAJJY+Acth5c9qqtAH6q9hqUuuCIinXrCUBwwgPuuvTTvEeXsoSMeqaAOMi+ieidWvIXB2eYt\n",
              "YUeFqFd/8W7+WO3vfLX/J8C/d6NAuC9JFTPJ9q4UEQUfQhQ54HbsXZX8/SOa/HUA2rUjLjfOFt0S\n",
              "LeD25u06PVWr6Ad9Y+zj89ULUu39yauAFE62PVHTgdo2PPqw05v9waKaRIa79ur3rKFrucrOjWt0\n",
              "NGkGuRaG1PlPMceIm1tlIeqoIAAAAMUBn3B0Qr8ABPskocKUbVTCO7NUq6f9yVEoq2pq8xPH1Z3h\n",
              "80ChhMhp2GrdFs0JiAEFM+0YXnAmeMvJcoP7/PiKpQgACorU8kvs5/iU810oijPgAOvcR6QSIcNo\n",
              "u9gEKcGlHLw8SX4T2MQ58WsCDUJrfzYM84EqV7Ff1dIJgwdDE+Qaglf3TNeRgcnsCmZRELOhoSF8\n",
              "UC64iM5g9bfMRnRi9UVXqO9bSLNMGBMHDcApZE64xIYZtST+hXvP3XEoSU4KvKqggQAAARkBn3Jq\n",
              "Qr8ABPmnwuEUJkDPS/BqYcQBCATgllS3SoqJqBkFNDL/4m84c1HnryK8sd0u05op/TwbnPufOjsN\n",
              "KfYXH8v8ov8gqDhAaNBa6Nkm4TY3LJtfSSAbMXtiyjD1yvLxge5NUouPGlMRm5/ICYwRm7Hh2v79\n",
              "HdoCHWc5JwpG3sqqQDancUWi/H/5kaP9KUnZiVq1Oc3hLCaexWS2uNslzgNgsgWtmG9FK3E63dtc\n",
              "TV6+YWqCGJA+gsFzW0OB9PBxOrGO0gnSJ7LFgU9uz6ixptaEXveref+X17IuNWlijg8/oe1EnZoj\n",
              "n5ncCe8FTVhScikQM2GJXvBTIz5dxaB2yaFsrjGDbHV7hwTJd4Fd1C4WvEYR5TACqgAAAP1Bm3dJ\n",
              "qEFsmUwId//+qZYAAy3toPP6SaG5yXG4iQ1hr36pNVZ/9fzamVEmv4RiezZwURCXkMN3nVbnbBJy\n",
              "9hzJex1XS2KGt39gAzqH/E5kktUihAH45jn4bDP6OWCecW1pFbSgVTPta07HuQJAs+NOrJjdgRkR\n",
              "s3ivDMCmVvoOVe20uAPpjzcAGCXQ7l3POishvgaaOyfu7g14CH9qFzsH/GIECuS8ik4Du6D5YjcC\n",
              "YGypwGDyWnMgiKyaQSGgqcKZ5GcL2EO5WtoRfBcXcyNvGL2u9IWvUXHXPGk0npTAy+SS7LwjspuP\n",
              "IFcouz/6gDJNi8ICd0IOa5LHyAFbAAABAUGflUUVLC//AAOh69rc0fMAM/PS8zgsrbwQfj94YdXf\n",
              "aiKgAZ6fnxXCu4sLAwdPJ8g7Q6Rym2H1Kyh+SVnBxEl0+3Ani6fdozmYmRBNv+G5uTVQjV9QaQ6l\n",
              "hyOv4e03mhgsm9S9s7sjQfYnWf3eHvqKCOZtqV3IZMzeuaZkt/HcTqN2d0w/5ilOxJl4+AU3lIXo\n",
              "+cMi6gh9+avwAMWlneRZKOhKmFCW9iPgc4sG9k8Le7uYMOcf5Lvg8IrJp2/euV1qsNYKPku6LeAl\n",
              "YrB67glz6Jw0UF6IU6cck8Ku/HL+bwk9a8XLTECc3spog+m40Qt4kiiyABfutdC5gIn7Yw+ZAAAA\n",
              "ugGftHRCvwAE/OLSTKL0+H3qGKADtDSocgbw0bMGUNKVJVAtYTPPDv/3rY6/rb01JCZXTxMrwrbJ\n",
              "Nm5I+xA5yzH0MvsGuFBvD79oq7gIAARacmYRh82W4x7Kv9GgBwGsd+UQU6wIOV5qHZaAqG7RFWoW\n",
              "dN7Z2l3hUPrrDKsjcANwndokLnt4Ote/7EuNzh6mKI6CKeqW3Q8KNU3MJ+i+gDL/+au95/Jg6eae\n",
              "on6o2D0+WaQx5ZopBogScAAAAQYBn7ZqQr8AAdBklYCdwQEG2n5G89VISoLamiP/s39U/heffYAN\n",
              "VoqeiSzC1jwrZX2q+s0ipK8EkrJ//Kn1P75DOos3XH5pmGLbrZHNhAFkPdq/6Ei990CIMX+uNxXl\n",
              "/4+Sj4ZXUhwV8gOQJokX+FGk9FUvKnyWTAOjGTBecHLffzV6KeKwLBrG8smaxaOjDU6URrU7cWWw\n",
              "ftZSnIkq+wNZhNDf1ADyFYJRw/BexJgQbsmTVhfi/stU1wv7C7cXJ9Dk0TtDsa2asehObYcAPbEn\n",
              "1boKkCOgZWF+seSUiSk4ZrlPfi7TcbnvOP7lILUPilXBnJdSzmdi0pyGl0WLy2Du+ZZSJwLjAAAB\n",
              "LkGbu0moQWyZTAh3//6plgABKF+874tG+L9wVQCJ8B/Y1DnF5rvVsrD+ujPPwscQZLyAwt1V4AeA\n",
              "jPcg8VEU+s9BI31g8NonT6mVM7BgGiELuc7OYEH/8LgXcEmQFc5UKfrYrXOjbqKtVq9hX7Y4swVp\n",
              "mCeB+Zii5czLYXxRd+OFpl7s2PMXVR9pFlIyT7utMRTduF0l5mSfeFSte2P/c4vaBkJhZGF6D8d/\n",
              "itkg9fl0lVb7HdyFCyBrBDEeuSLayApDhnx/kzI8XtH+9JFxL8Tkd7/NPqmEb4u6EPW0/Zg6rs0L\n",
              "xhPwa4sSWwflh17/YxLCWjuK7IV7xOVO7qjkGtLgO3KB+rLP5VsAB860jDpHncxeueKT9K6sOBdv\n",
              "KoiRpZ3sB4x3k7ankHKkAQx5AAAAZEGf2UUVLC//AAFiXqOAQCz7GSHrv7oNqYJyNbb5XCxjHEL/\n",
              "7fvOdWrEEcoeQR9HjrzGepuwJ8Nk60tZzQcIwV3/Fop+GpRcQ1mt2NMlnpLdd6NVpAKxRFJo2VIK\n",
              "f0gR6OlZ0b0AAADrAZ/4dEK/AAHa376gC29+YK6DTFQzGXOmMMSwgFIK7WFfoqcGfe6xUAH4VW2l\n",
              "TkMn09Aw3V/6b+Uds/waPxlxX/dfBblV1UxfuiwmB3zIcAJuctX4Xe0XjGe28rh1S699dIDfMBgs\n",
              "4IrhsYKLnoFSoFBf41veQ/C+fns6ZxsRYmn7u+BiNcPU2egqDKC8yH1P5wBko91IAc8i1U0CAACy\n",
              "JL5Q1Aky/oAAAOT/3bNPs7tycdfre3LFW+nw009DfsojFq4C0RjGirICmghunQzZ75pA2DZE/MSp\n",
              "VS2+cjaIzhxgHnL8duWAHmni2wAAARgBn/pqQr8AAduvMDEABeuqOw0p9hcfy/0LVyCoOELcXnaR\n",
              "w+SpAr7Kg/4NKBD3Gda0ktRhS5AEbY2ZLl8IdLK/19x4P1pGI+NzPyn/HR4yFbHzh2acvntk6cCQ\n",
              "UZFhrbOyYquD1H1Fc/XrxMGdR76ZJRRb5rVFcOU7BU5gdgXuxtRpNSdMm6gB3KEr1xn0cuRQx8RK\n",
              "aejWt4Vj+MRmcSIHtPJjqhQmYXFwVKQZDFf0ofZl2LakdQheaNaLCaTMuQ7S0CAaSOPrv3VjpK6J\n",
              "367C0zi8Bw+ZLQ2Eg/OGFhW3K52cdVlLFEoWhFuzKwCaDV8pUVR2+iYaUtbxc24y9eBzkZaLYSWv\n",
              "RCI+XOgacHIgDt7NkR6KL0ekAAAA8kGb/0moQWyZTAh3//6plgADKR6EQWoZqEsli2bzVW/yekej\n",
              "j/3lXEsWGueepoVbzcDcfgVnF3pxkg1WLR0cyade3Tuql8Z9/HlpIvs0Hfi3iIAg/bm4jzGuMG08\n",
              "vtNDLfQhY+y65XNuI3a1Cy8l/Oc0qhQ4oCqwVR8Xhi71L+HE++7u74LTUTzhw7+T/8PXOLmW48sk\n",
              "W+aGF+/AFbyORP4BUvy7DrwSItgbMmoToPmAHXc9LRC3Otlid8Ws4O9hi2izCnbhHE+qAuy0Lr7D\n",
              "g39OeDH4VfA891Umrn+FglPLC+ZcXkO5cc0/CVIIhvGAwFnBAAAA80GeHUUVLC//AAOh59Lm4r8S\n",
              "duBFilnz4wAP540tEnVPUFFgwQGSI69cazeCBkZz73f94iGb6x1fQjpMn9eHxwoPkHH+ALW9hUja\n",
              "NjeH+8axOkS5h41DQQCB28Lt3WejppRTW8KmWOjyCTfAg7QwV/uxaN2Bwak0YWrxvFLp7YGPzvjc\n",
              "RZlNGjtUqoOohuYuDbVNM0ws2M5hST78Z93NeoMAoiPHxoAMMNezpfpGJ4Hf45TsHMFZuFphV0XF\n",
              "Pia4n2fB6kr8IOxO3/Gd2odbwJUYETPQhwT0iBhNsZjVabK3s8kUuaMZIUX/I7Fs9NDs/fQZUQAA\n",
              "APoBnjx0Qr8AAc/PTmpoAL67qhsgb0xfzKZG644hEFArWCwNmQf226oyCwgqXDtq0neIpu0wnOAv\n",
              "RXtVos9kZLE7Kwe6jnbYLecmiO8VoPbkkM6/kx/UiXoZpEt4HM/iDjwE/qvKP1Ij3x2/JtGQBygL\n",
              "NiwP3UICAHJojJHUQqy1JWRPUIIotCBrcOqbQRRFheiX4lQRlHidWi+nS3VSw3U5hHDpsRYJJzTq\n",
              "FhYvxuS8YyjstU8H7dHXRz3efFE23FVfrM3lTnJTRZoDcLO4PD50Qe5NozZVksdw/uoq6zUZcjmB\n",
              "eR0L7koz5mDbBBs+2XIDOw67Mb/ZsxEjAAAAuQGePmpCvwAE/OeAhn88q95p29h7Ds3XI0B4ekKD\n",
              "xazaUmxcKj7JLkj40I1DleAKnqABEHmKna83pZOjLp/pwkOmFfHx5Z/EHHI7sxv4P1SanpdvshWR\n",
              "6FONaeIulCvsAXlGPw8PbaYYPjffbWP9dUj1tLmpuQAfK51QyB5VSDOYD9M/aizw1J7ShzZVQLyL\n",
              "AMvvztrpUr6tmV5rATE9uoGd0ZfeueA/Q0V7QsavIkFy1ulx3JAVqBlwAAABNEGaI0moQWyZTAh3\n",
              "//6plgADLcX6MwEfQ7ICgFX+5XljMpSgEQdRJGYt07BdhCqPi/rVIKyqccJAI3gl8GX1hCsjrwDB\n",
              "zgOoPtVcO5RCKEgtjlNrhIQYrjCg+4sYMhvLKnrNoSWS4m+uSWvs06BpdYes89AoNqMQLQNZSpby\n",
              "zOTKAclv/YgDc/LEzHAQtYoevBK1PMXzgoAgw4CZz6yrb8B6MwpkW3WmGLRsdeykGhM4XGXSPGO9\n",
              "SMUkjCTSHciL3Zd1ud8GOg8bfc6fXQL1CtM8z53whEfmgL6FulCj4eyFGPcUmELBT4XMFyDr/ozz\n",
              "fijMgvM8Qs1CvNxIyh6Qr/E1Lh92b4PCHicGt952rcfr/YlTxkstQZhxbqrES+8QdYkWEBazx8H2\n",
              "9UqTS6vlPf2PDAwJAAAAykGeQUUVLC//AAO368nqJGl3Od7xHsKlbCTQrYnCHo6LVPgfn33ANiv2\n",
              "P/ALwnYzaco4sdKTsprpLgMXkfsqS1M7k2lEaUgtMp3IACGnVFdZj0DcEqxxALqnk5E9p2AAv7UP\n",
              "S/TjE8j4rL6g6cNm6qfDEtCRIuGFd0/xssZI41HbjWj206yBZIltMkntSls8/voI6N+iJC7hdMQI\n",
              "ri/rS/fpVlPLRRPil0C9Gj9XtZXWAcinQ0EaYkpWbKtDoaXFai5hFcUn99XDAP8AAADeAZ5gdEK/\n",
              "AAUg54MF8/l85amGpRa9D/crvc5Gd5qQAECoi0HPRVtUCp4+d6Gbc3eO7xbbBy8tzftdlAww2Hqk\n",
              "5NxuvEsGl7Oip6JLMLWPCtlgqjWP+P0O3CByW1gH8bcvCkv8T3F2/0xQ0M9zESHiMyub/lEPklaf\n",
              "PBCiPgyWlPn8IXbYkAeKpXF1aXnQWFun4XWVS2d66qGqrsBZqPklD7sLZvCWPDar5ZL7w3w41Pz2\n",
              "wlnG/hL9kP//hyGox3nmFlEr/na6iQriE/spl4Ph7jmTWZnjpXjG3E6SLqMzAAAA2wGeYmpCvwAB\n",
              "z3qSIdPdZMAFujRXQnXYGtC31YcAL+kGvaN7DhyUF49PGeF2dqHFu0dshIu83vhARLar1nojfyli\n",
              "DU3muJ/ZglSyCDKtYt6cXeBj89tymr02JASasy1CVAd8lnGmXh+P6JqnTyJUz9AY/KZ+BMDS5/Wj\n",
              "YHl7S5zteaC47VTN891Yb7jV++tNXl8kRJ6oTv8DVOoonahgvHsIUCUY/QNn7iPMM0hJWTJn+Xmr\n",
              "JRmdJxzmvy7f7vbyJwZ6zSt1w/qci7ovriYt79Ofs657UQeBGOC6qgAAAOpBmmdJqEFsmUwId//+\n",
              "qZYAAz0eihshudjdh5qh6Y9bs/cWv0RzyIP24AhFQht3+e3ZiqxAH/wZVOz97sPsa3OSHaVdUibI\n",
              "G4Q0FsSq44txdiVxd3k/NKr4980xzcRDawDtEYwHXyecuSbUuWQIWkTLMctv4AxTMlu8N2w5j3TH\n",
              "0B9eJezu14W+0cHohGtoIfbeYE7YKVElaMLykInC4cd8yjL4yr59cuLb44lczIQ8vJqX2F8MRwp+\n",
              "8NH3swjIgqhQvf5OxRMEO3l0zoRUaYffwEeP9sQETgO8BapsdNqQgAClzhbsk1kAAm8AAADZQZ6F\n",
              "RRUsL/8AA83o165eUVMK3DnIrtaClwAgNSBDrMY3IyUaVflO7J+xpVeQePvFgp/1+ZlNLxCthrdV\n",
              "MSgEdBqsnnD//+v83ZPRLfgLeaJeDvtgOtW0Wrjv75I7pTsJ2AGoQEoXPdThp7/e70eizNlDGtSe\n",
              "9Y9RlbUHqrQTvdNQo/0ACTd3/kxQ7rWS2SHR2A70jPYWn/F+buSFjzUGXwIiKnnNvl3LukYG+0kL\n",
              "swJoXe8chvfhH8ABeaekofzfqFBY2IcAWHjKY1JW42MPATjQ5tF/wkBZQQAAARMBnqR0Qr8AAdst\n",
              "K7iMZNb+zT2dYAC5uU8RKdtFT2ZKsPf7g9tvjUErsTpB/ScXdLr6YUmCIfrTdX3j3Y8IR4C9GYNV\n",
              "yeu5nry7GtWBJwPOUv+YXjHsfveSl29WsKaweSOXkBzSPSx4MVW7ltgXh6j0M8uiNYU8WHP6QjDN\n",
              "6se2cLkUR5ygukcfza/pHrTkK+Wb/kofjM35GGW0h1PsEuhzNspPqcndzwZRUXlX4kFCZFUOJ/Ib\n",
              "fewDA8IiI2BMBznuQCOkoWmwnVljNqy+3m1V+uGoa9KsbACyTM5qM8CimdZvZSytd+vkBziWqNi/\n",
              "mppgWVnBTn1yNE/U/cd5P5BhbqtwjBhYXaijTaGfs7VALggNmQAAAU8BnqZqQr8ABUTkEGy+drVn\n",
              "YpIid9+eLTyMgxkAHWgErLlPsLj+X910iq5XEFjNRPwP0fkmqaKnlbYYK7554z7VouZEc4ZsiJFq\n",
              "nW/IQOJ5EgqI369yVPSK9cJr+oiEIr+n8iPcxDzYaIuOppyShpC+ettiGqF8iMsiOd/aKLWnm83W\n",
              "Sx5USGic+VME8WOywv4nmh+C3rlnxheFWeISzjCVEk5L7m4+Ss0QM9mXL1p0ECUzb+beUgcJ+ALb\n",
              "JZxuNCyHEJ0EMN0u6pf2FrW4MnOcE2nRfe8F/s3poCCYP+Ms0ZI6ZlyO3Yurb74l6IbSBVwwC2ss\n",
              "j8OBqA7r/lYoHOknBzMesPgztdsndeohjXN36b12tKBM6RwlZAhqzW+h1YG6T8t5hExlv0XBGG1Y\n",
              "vxmd/4owTpx4JhbDRkuiM96CmjwwAYldE6xK2M+EClaUfQAAAZhBmqtJqEFsmUwId//+qZYAAy38\n",
              "1qjOg4eC6zv+137DqrI5z7PPUqIgAhsQ4c79RhNcY2c5r3AtWMVZRqsBN6IP3EGygv/3K7aB/81A\n",
              "Mw9nnuymjz9UX4X2cXrYI84BWqSVnh+aJfVlmVhJfFKxCeN0KrVj0l4h7ayDo+T7OE1jmXugFNYR\n",
              "g9pfTVN6eiir/p2Z5drxxwDbJ65cV836mNRhwHOzXhnO2dbB/blibiWR2RZxYbcdWueIpYtZ/GWF\n",
              "U6d1nJ/Eh9e3Wio4pAVsAS5663z5Jjjnc6+JYHFBAvV7IH7L48SLFeLoXQ4F/moQsFzK7QqSPKOP\n",
              "vfcXfVgZPWT4qEnzQcgYcz/L54c1xnjDep5TZ8AbEstoBTz6+0cnxlgTRXKj57Iq5Ncne8ww+gMC\n",
              "VxLJr+kMH9qf+TR5SIQgwGvplvwZbweWQZjbM0IG/BXUFY7wvCP3+DiLFDyThDfKzedVZD+2Xik3\n",
              "AYQmwuoy66w7NYnaBpcxQm3Bxakbx6i1TAS+icGsJZ0U2O7HOeuxVMHkObDOY9IAAAEVQZ7JRRUs\n",
              "L/8AA80RVYetycFC0x/aen88QQsqSLh4gAC2HTCsjhEJ2p4WN2ZgwM2NNGSGrgjJt7hD5onljb5g\n",
              "wTsV81X9lodbIwze64F2eVOJnThJ5g9JGPja+20Tu03y3HSDnzem32ZTxrFNxaJt+Vu9RpJYX3gV\n",
              "SBzZfzkpEqgec/0wttoltnUmsVc90VulDkMvD+iwsMV3LYIfHiCyugFev8/wMnnZqIHvov9LA0/2\n",
              "0cZf2oiqJBujEVqna/qbsU/OyTF5IwJGAjG+HIiTurewZxUlDz+77hBNM3hNGDi8TJ9meJvzalDV\n",
              "MEoIv9V7poVQIaW3//KvK1jpr80xGT++3Ow2j2pSqEN5ul6Y75vH+SB6QAAAAToBnuh0Qr8ABUTk\n",
              "EGy+drVnYpIifbz1TvfemwN+KADjNA8yJ14HxmnlAYSiqsukApiHxsDF/60hvm99/307x5Y2E/2z\n",
              "d3To39pke+Y1Dl4pnJ46ZeDVDJ3IBybkhnS35VOFd1nGt2uXWOFLJnq9EuRsTYrWBa9KlpWGUtaE\n",
              "dudXlvkuXJ08kqPmSsLHHz94A1MBn5/HoiO0jDh5Hs3htgnqfdQgH6hjxQg5m9KkcBuI3qQsSxwH\n",
              "i+evwM8rux6HqYT+0w74YwZJH3z11Cn/rllCZ7ipJsQ2SbINN0apiC3Tjt9ySWPZosVLcuTuyUic\n",
              "HHQrKpjKH11zfk026C5i3NPQdWVX4/qELuIF3hkx8CRlyMGvMpyRiZucNKVPaU8CQwVBJ+ZfFUo+\n",
              "2K/clPlkO2z9+agfJJWVVTzagQAAAT4BnupqQr8ABUTkEGy+drVnYpIiS3QCbA+IWwLptevdapu+\n",
              "ZiAAGhY7VQbLx9MXlZIAux58ZdPntorAGhkhRSH0fiNPwF1OuF6N0nxiNgg6mT/DV/ggPfeSp7Br\n",
              "zFDKGFnplUIhnxM+EMS26g286xr78hJRp8sqely/stznT8aWwonFKIF2efARSPv1sbCXKpuAYeqf\n",
              "dPwklXlKOJVEIh3e0P9P1yTWgvTdPp4wi8MJYGIis9c+XAqexeYbE345GmTGYQ/JUFa5wUMR//w1\n",
              "+WiBxNiycKo/LvYE/vZRflUqIIGU/6NuucS2ncIjLdiyRQf9aNmrWoGmVR2qguUKj0tOYwYRPF19\n",
              "rRYCtc+JQgehj5p0Frlev+niFK3aarhcEgin2TbvI2VduVSloDhuJmmXHIPZZ7EAdn3Hts7YW0AA\n",
              "AAEZQZruSahBbJlMCHf//qmWAANB7aBfBP5ZarbDcYsAGe47oT7IjVaE6JurTH6+6duvArfF/hoa\n",
              "TRCdZbX/4YYvmfW8QGmY1gPI5S/WkqPHkthytlkmLgfgQoqu4K3zDx5YzFWjHGK4tmGLf6iOGPDw\n",
              "uxui5gUJYJyPUnH0AsWT7rSU5VmQTww6KtxOZa4bnzxUhugjIUkB0Fo6rH01c5HCwrqblHwGbEjz\n",
              "O98eniqmv2zPSKJK97kVf+pELD4ggH2vB85fG6m+BEKQCyrP3/kCjKsMFsPVa45feklZmCD/wP09\n",
              "5tTTo/QTAtjsalTDrlqddl4rtzUcwgvQ+iQ3wGp2kz7Yld5wNuDFS6V6UoZk+prmAydJfVYA9IAA\n",
              "AAECQZ8MRRUsK/8ABUGnuL8ogapHGrZvASVFQ/w+Vp6cIBl2PDYTGH0tTpqoENf2oUFhzH3Yr9Rj\n",
              "nGFEngmQypAC4Hvcciy61eRGDn/Kl1rVjY2lL/1niSfIsZBVUcKdfB2w1T/8gtgSBWElULHsIBRM\n",
              "h61YAwQBaVdooCO9NTDSKB9niijeCpvBNO2xlMUJThEnKPJKDlVxp9yYSRRwtHxioeb93cSk4Y/f\n",
              "le8aUlcarTy5fB1A1/f0EGBHSBbFFWDvZXrN3N1arkXESrVik4BrAIFOegPQKD9S2DqKKx0JNAqp\n",
              "5YS2kxxhhvkRuE3IVQeJrpscxqiTDKaYnHyBsP9seBbRAAAAvwGfLWpCvwAB5mSVEKALTm3hkxr9\n",
              "jbIFeZod7tmUSzGcAGfaA4dWZrm0/9Hjrcy5mFqSg9qU9VA913Y3P/hUvHEwY/0DhVfRHvgpdVD7\n",
              "Btil52KUujd/nxoOj/n5fZLmPHXG2a2mWg4vxjJj7Cde8HZSYk7o04uM/uK1hVSyGhjm7MrQ4B87\n",
              "iiHawqXdWLgpabxsr+Vv8tHn/So+V+ug/xicZXYjIRTKBn9uWsJ5u9yZCbUbFC9N3Q/Q2msVuUnL\n",
              "AAAAzkGbMkmoQWyZTAh3//6plgADKY5GvaDRTTJofksPxEnEqsS6v+1akCHX6+ECId1J3n4AHg6J\n",
              "jb0mS4DQ7csi5wJNwSti6GIoMU5AK1sWxCNgN7K7543swGmr64/qMrIQSwztpvxVdV9ustEx5XWz\n",
              "jUlK8mSi3LMh3kCkaARBB87ZGnn8foVC3SEzDU1BNygPm3c+D0EezXR3bt2BCODPrQZZhRM+RS9j\n",
              "xrogYLj1fJJBxvGo018XrhYsDRZLDFN8Yyw3PFJU/oTs4tCPYAKTAAAAzUGfUEUVLC//AAFryJIQ\n",
              "Xe50LV/GHafxf6gAlWmEV5jh9sQORnxup+/gnNYWA/8OdOejqO8OzXnOpae391wcXDkj/8fbcw78\n",
              "+D9Si0kNXP0v8IEsX2Ns88SYoP/9+w9+88YaG72F1zG8/720ufKxqQxPoDtSG8sOEr8MlKW7NJ/t\n",
              "iokbn4jMPDgk6q0M/FYy83rvmWQnS57AZEQNBV2kp78de+eby3efo1LXmVcyrFhY9o4B1ZC8z8A+\n",
              "6gopBgjtsKLPq3XK/yWtloxgAyoAAAFOAZ9vdEK/AAHl31aLDkAHOGlQ5A3hkmz+hoKkZZq8hX5r\n",
              "YrMrM7VSifnhiLwtNvSpZaDsACDvM24VC3K9F6hVQ0l9avWT2nDUUV0+yfSnERkpquopRg7eQnZV\n",
              "NsNxXJMrPOInQle17eJcmTAv8U0yOOB2j17ApAAww85P1UpDf3rccoPUBFLeXgrZ1Ijkf//j2Z9y\n",
              "lDdb8HGXkr8D1JdebY+9jkmRFtAnVxiQkw4nY/zn/zlPg22MBojNWB+wueV5LOgjHsqkouf/eavC\n",
              "nXjWcAytmNCDGjluUBenlFb3ULZQIF+Y08h9DXrBEgNnanFJ/gxpx266eZPIYEkRBxzCtcplGUAB\n",
              "MuB6lPkXEkO2f4KOzAEYcZehmQc8wzm/e3Clq6kA0BdfQhkYvBujVeRaFrZH52nuEd/EH2DDLc5A\n",
              "xP7Ty/y/0T/9kJ9/omAEnAAAAU0Bn3FqQr8AAeZlMPHFuqujsHEIms19dUHqVj/kmNWngVnecd2E\n",
              "u+S4TQHwChCLxp5QuMVABONLANqye2NcktXmqYv11OMH6FXsfcSBYfD12+5sDXubiNcK2MX1RdVw\n",
              "KnHzJ3L6MSrWBcAv51QsRCafmtRdzl14ZgDS3m26V+kkjabKKuzqGH5NfSsdKcUN5KMjGF8CJLT+\n",
              "aO341YunsoDWyZS90AebMka9l6l9LxiXb19lHIKuE/pdwRgjKVGKrsRM+rK3/ADGpgAZ43oaSKHo\n",
              "yGD8ub0VN/W4HmFNIRojZ6xUmR8SYb1QS2txThi0OltIt1E2GSkFAl+4Y/AfDFzstzets6XFssWC\n",
              "awHEYaGoDSgq0NMnB8QncXr2DArAGri9NGlSM2ycyJO8SA6HVqAOwFpRa/pbpICEL40/SLCB0E06\n",
              "PWYO3S36NEA7nTEAAAEfQZt2SahBbJlMCHf//qmWAAAlPw0g9eglRFa06AEG31Qm/2VgMMJrCdZY\n",
              "mIOESuMf9uI+IICglreln4f+0Wi4uoeB2mvodDdkNkRRX6JzyKIRQZDMQhrw/9l5ZLKRonv/emC3\n",
              "p3cIUY1QRWsd244Fhuz0e6geaxzLxocqByOSzn/fEsSfN/axhn6U4cZLK89sp8QF/uwSYkUJrECc\n",
              "4LIs2U1uCw7AJKU72FTv/JAiNHHfMurNPBH/xAOJVXX/UAo7PkmMOo5cKe5yweEMMGBRnn/2pS/6\n",
              "qcIwF5dJWVw1QXaSulO90KEjNgEfSQZsDJYegKui0eAkEncciTzfruiyDW4jopFQiOghG7eLu8NN\n",
              "jlGnacN4qeEXjZ7aZJeVMqYAAAHaQZ+URRUsL/8AAWvI6224AEQeNLRJ1T1BeZux1a/n7tz22DfC\n",
              "d+sc3fWx5KJi11l+5gB0DzGf4izcKiOOHDqYnTvu+JoFMeWGbMIL7YicLGMQAkb9OpOTcs2eAQuj\n",
              "ezgiAYddi5HzKrKWbQsGgzWwJR+aVgBNf9yAszvJ5upzVFoN8tJ6IInchEDOUh7m4BFc4tcq5P2u\n",
              "Y3KhmLY5rlwnhoIqKWCxZ8YZLECyFJ2nups8zNYU5UnXfiB1791XksNY0R0ELqrQGozn+PCWP/e8\n",
              "YTQJy3aE2M+BBZ/5+0bLAfCXFQuGbf4f9pMW6CMMD1dThhvf+05lMylgefkYCHhiuTZqPdLhM9T0\n",
              "vjwAPuuAFTMA1kmiMews50c89/1bxY8cNTKiSmQXHrAtJh8rbshpscUuW2xBIOme/xLoZ+Pjn9fF\n",
              "hubax5YDMPZHMwXgIRbV1Iq/BEd+19DugOcUICq9xpYDGAXKgRzK1rEIi49KuNVSDZkb/hwtRo+y\n",
              "0H//+M0eCdy/5DR2bjiWMjXSqSXbj6g1SAAT7p1KmkD5e+Ph11WM2qVfCpno3dOHW2uQDTgMczJI\n",
              "kCCKgAPIbe0fnXnHXys5ktDjSBDGXR4GF4yLRfXp2x2c1q1mJRbQAAABGAGfs3RCvwAFIQkEa0ky\n",
              "cOGrkH5dBW2I7X0YCtdlcqfA1vDmIDX29MWj+Xe1NHLlUlnsBlASdPQ//2mq81MlXUUPXQiUe2zp\n",
              "5nq7DKOlyQ8QG6YY9hlpvdH4BP9y1JeY5zqj2eVxm0DSwExSh823TbTZGoh0Mu0a7vXK1mcP/sE6\n",
              "1r/0wT47Vhj6T/HKjQONjXNfXIZ1TflTndvTee/iy8apmQZ2H+n3ohQzTHKSuF00GzjvJxTIwR1W\n",
              "SNy9Itg4TOwLy8dsozTkPOhpukuf7k4yDG2raU7MncYzOil+YsV7sRB+jDIoSKzA18Z6Pn+SaKpt\n",
              "FM0wlpyxT+JBhTHWrfU902haotMB6ocDtCIY8X5iu/NTMxPsoIEAAAE5AZ+1akK/AAHmZgngBIAD\n",
              "q8+PKq6l6hZz/RwuZvD71t3UX+r9kz9VTuH7XRUFAP9DXJFFwoOKx5XYT3antZMRMgG5RoMag3VB\n",
              "d1YdDRHZ+C8Ruthsy14kbKQ9D5ETzZ2TxXqsPQ+6lETljqWTyDyXvbvBZNDowuQBXEinF/pRWO4f\n",
              "5RQYTkyhFvgeL7xS4BZBZqLZFq4/V6zJJ+S7RS1mejxcmpABeVj/athYCtf5GzQI2MWW838/aQX6\n",
              "+QTvI6q2NDxikjf8fmq6UJrBcSJKS0eR9ml9IjJ/9tSJpP+jy77EhFq2+8VBep6dbrdiK0LJJNRo\n",
              "ihIvPsauf0CM4EubRYXattcCfL9wADB6DTot6BqEq7S4uENCArDjmgmLx3s7JWKHrWO2cdtPL9CM\n",
              "DbmQcsD+Fv/M9HAasAAAAXdBm7lJqEFsmUwId//+qZYAASF34CgAaDK3JIjvvj0AmOseqt28CpUA\n",
              "4Y61Su0SmzmzPKZV6ZU8PyjkwtsJ0yyQHiyb4YyIbVWnC4mFX+wwXw6LmbvsYSUmIuWGgakJi2uo\n",
              "qigyJqRSwiWjwWnK9PBvr0Y+6JH4SMtn6GK7+038Cy0EI8xTZrN0MQG7p3YXu4FeSUuvqmkLoZR1\n",
              "10fobAr6Q9nxLQG9e8bjwK1h3/xAi7XIcMN14Ie5p+PHamH/WQL4FgCOjNdJxld9u8NRcVJNEGz7\n",
              "ElQMbH1FUmc5PWGcPSsYiYVkFmZBB1pktgL3fI2+0BQnYzBELhCEgYC7bw+VfOrJkV2O4VgBshd3\n",
              "TkuD7p8DR6fNNx4vDb3UJ2mIklbOWrh3Hj/IKHqcIq50rozT3Z1Mhs95nne/IrrrQbTVCJcnea2h\n",
              "FI174l+s4L5GN+RK/cK9tGHP49kJeicTwXXkW24lBiAfZsqBXp4SThgmmcDmNop4JeEAAAEQQZ/X\n",
              "RRUsK/8ABSDkINPVA7J6m48JRJ3j3WmROtTFxdT83VZEQwAcnz5OqP7Sb3BBBosvAZElwsxbL3JR\n",
              "YcvuUHWdu1MjkCxPTQMQei6jwLZ2HSih1u6PSutn0u/i1JBwXUM38ZDZKNA41TN6CQgGBjMFOTKF\n",
              "DadvmBqRqiaGqf4g5GUIS/mfvEPuaLt9boPVBN0/XUb1v57+JuaZwXUbjOIbJsrmZmcmY3p97eG+\n",
              "PLHsuzT/ASNGixfZz1C5vhoJT7K3NfOzJzXvx6PTqGGqBZ3WzePdgGh6bxCdODZ0WPquO5l7jovZ\n",
              "sNndVw1RH2LQg3fFxPLJYtzwvcZ13Belo+AUV8Zu4vg/QrtcFt1Sj4EAAAFnAZ/4akK/AAVFCQE9\n",
              "TTdxM+BI39urG4WFr1ZdBje4MFgLnja5RM+/ciduDm7ufuNdxDT8nP8MgvwE7TdVMMc7pBujxRx8\n",
              "RmVozHKyFRD8oUHnrlmngMM8VIaOZoMgCF/dQs3Gk+EyTiPVL9Njx36Gs/lV9PTeAgtvg0NTw62T\n",
              "eym2mfwEGLqXFz72h0Sr+Tdn0KoJtkMps2PAKZM3x7q/ueKh2AvJ2xJJ9EaC5WqSfNcctmD4/l5D\n",
              "9CS4TigXTRoRLkfyra5x1g0ijhiiop+8zaZtafzGEpwHWp0OcDG2/cDuKXZg2r338ASOR/291WHB\n",
              "RzMvf8SZoMUM+QAZzalG/HBH9IzWVzrLRO2tN7rwJxA8Adzb/1w6HgN2JEjrx4vAY1REV1MmEf8k\n",
              "Bd68hUYr9FZEsRnuJfRbA6os9NoxZGtYeLtoFxflt9ukFQeWO+foCS48B6XdV1SX8VnQ0hanHx0w\n",
              "HGocUkAAAAEQQZv7SahBbJlMFEw7//6plgADLf0fQKbsKKEexA0Pv4wggOxmfNuaI+zSh7aRrrWy\n",
              "eRgAWBEtClPD+rqIXsaBUz8A+riYldskP+aF3ta8sXBAyoEMwPOV6bIp8FsJ3DkH1HZG1GKKyqgH\n",
              "NoM/3bvwY13LAxXQz93dYimNzDjsnMSTZmD+wK1EEITCGv6/mvf3RgkseUcHESq4cfSCRoMcD2k5\n",
              "hPW7sQKkIT/ztrjPjKZA4KyUu3e5Z0Gpuh9aGLP7m8oppPlFUIHtUD3+XDaTLfj8iswWQHRUkx7L\n",
              "LCfWDM046KmfGTAXLMiZaJtALHsEjnXoGka8OF+G1NAKm1IAxQPjV0GFZHsVlX5dYhnZltEAAADU\n",
              "AZ4aakK/AAT6v+dd/35TR9ZqqfEMXaGbKwBAsIl+zC2vdcTPE/gWFwPVahnf84g195MqFtGK78IA\n",
              "OQKtHOWNrSzLI7CO98ac3k8sa6LPeYXekqW7bPkJtE3yzxOfgr70dCKPRpo0IL4V9PBX+N39Z0XO\n",
              "YQ37mrBzsWjfrswI9CG7WMI1ZcXEOsNAi06Q0E7cknfNo7WGqRiMcbpUy0AsNL7jWj15oNoD5V9c\n",
              "OpXm6bwExMap66APgVBJQmq/eKT8TsjtLxit0yduyb6qcSsm/hOARcAAAAFZQZofSeEKUmUwId/+\n",
              "qZYAAy3toF8EzR4kMlOAaMbJHORif4ar307plLENbdJf8du2dHxYSq/GhgY5ao9wbP2NnFl7dGyu\n",
              "I5F+M9iCuSV8z6Ccx7fKY7ffK3COSds6MDh63+l1gXfzdNS8E2o43gID6Ury/l0D6x531d6VmvUK\n",
              "36nlo3SVqQt/bR+XxUitKQHG09pV2JdoNQsCdtorNcTAD/oem3ZcOajUKCWmXf+pa8WMdXbHkWGN\n",
              "8He0yF60DAer0NpMJ3loDC5yT2MGQ4sJA8z6Xvp/dU76fiW3R0dF/+rGQWbfheg+YaqApMdl1Cd6\n",
              "t78k317XDlEeIhKx1phCMEmn4veQ3l+lLvIbbk1mi0bnX3kzhXCgNL5/EDgbeT4DPPBDb0v3WQ/x\n",
              "eIpuWqlZuiwMPN9dqz/SvzShzbqTEjU5y1tsHS9bD5kUUi0/9zCeMMzQ8JyOMISdAAABBkGePUU0\n",
              "TC//AAO4A8FLPV8E8BJLD7S5YbA1SG22b7HJHTm4AigPf12HJPIofYx7e5HaG+4NsJldNsyGVa/W\n",
              "zMH3m4MO8i8hYNs+kGmxXkLFg/Xu6KIPyYvoMYT2AXwO1a9cl7Xjl1qY2tslY6+juGc9Y3D6jJfx\n",
              "9rQLoB+xf0N6ZUoganFs64zJKSsbkaBhMQFly9eWtZ7IY3MZUJsbYkP+CX1P4L7A0RuBJQseWq1I\n",
              "Qn4RFs42zIj0CdXvbbQ/e6iHYEQgQyxPkXH63JXckDx5uEVGbTUnzKF3jbEHUfkwXoGaH+pN3Hb/\n",
              "QbP3B0AaG75TnWhhz2KKMFAnTduUItgkQ/PXJVMAAACYAZ5cdEK/AAUg5BBl5M+EtLmi31JBPjCy\n",
              "82grwF90Be+i8k5TLyZFzXlIq7f+8YKrvrymQAOr0F60bKSnxtKwV1fY68myuFBa17HzbyZLUY7w\n",
              "Gbv0BZSFZyLycMOs44wNBDmCfOCh5jfj0EuM+eEiowwSPNW8xuJkp6d7LC4q4NYp+PWfijXv0NjR\n",
              "lIId7O+/jokoIvBgOmAAAADHAZ5eakK/AAHPIUi5meAAvraVEAFzeqWT4+E2En67OyU6n1oVQAfy\n",
              "k0MD/Mj3OtcH61UVP5Wktk3C6h9kPg6tWtyc8ZDFVzKsBN2FwxMQn1wi6ftmvr9fYQYTlZDQVaQv\n",
              "S2O3++vnT949kuvgfiYB9M7WjP6b1h9aGimpuiFTEa8GC4nX11isTVkL3hv24qiMbXu7NnO6fuWv\n",
              "xVVQ49wJERUg/LvZjRZpd6iBi6MzKrs4abL4jQimQlUFDDyks36ZZrJyiKZUfAAAAVhBmkNJqEFo\n",
              "mUwId//+qZYAAymOFLiI2xuXABQo2FS6d4W+Hpu0FKY71IxEbcb+FXfOdZbv+qHpnddbayG1Hhmu\n",
              "63mkBbQ7A8zGGewdTzhohAhwKA3cYi88+isLpeD31qxBqJfHSLiaQw+29FpaOew0e+7USBwwbyMb\n",
              "LK5p3Ojr5rwioCl6f71wfu0mt2b4t5KWn+lv83lUW4P2hEdE67u3RVT9QsD/8N4v/x4PB5FpYOIO\n",
              "hiiX4WHVHTS1jlH2458bEM8yQf73zZD7QIsmwXJq6T+CiuyBfBxxcpJRewgNj9belTnHSl+qQAug\n",
              "qGoOKjRrCZkWjqlHOR8aqXWJUrwN8ipWBWVVXgfwnMvGpuuyfLAtG3dKo+ztUXwjRQ0+yApM0Ve/\n",
              "cpQJSkBveKZOBYpUeq/sO8TivcfpMQQq9SMkm75gYl/qWkc9Obb4IBYwe5bfZF2+TNRQ8QAAASRB\n",
              "nmFFESwv/wABZ6TLNZO85tviS5oA0Co0k2F5GdXcUAYdzgYOe0I7NMGe8smd/5vuBafp+N/k7F7i\n",
              "xm0KFma/SEBZC1mmmiWyou+w8NY+PBm+zw5HKRQsk5CvFq2J9pIL65GV9zZfzkpEqgedFK0qYGO9\n",
              "XFMNXLIwJvy2Dr90b9kI5JRpmIMHw+noOetJ060obmRAvIvhukrLOoOMvv2NMmy7bP6/SEdqkRGL\n",
              "YLH0InYNwmL2KH5ZYYAHih5eQdyIis4oGBk04Ae6Lp/G8eyqKZt/WA1bm/lFb9BS2+4QggNUEEHm\n",
              "RSOG8mQHKzPJOtqaTus7OJyrupZCerCUtphbXqgdDZwLapRGZ3s9xupLyvuX/E20khP5quZgGs0L\n",
              "PqDIsoeAAAABdAGegHRCvwAFIQkAvKabuJoE/rf+8Z5tO8vkz/eti8NvOAAkbdZgYpXYcIKBn0Mx\n",
              "b5mIpjn1p/K7XrfvdcM8SUCHH3+XCnOecYn2w4xvy734MucLWFBHBlbH287bDhdw0e58dJC03hk2\n",
              "6jbPIIQJnkc6bwEuTErXwMN/T9idfGcBlla/5WX3NICqJvTuWxJRc7KUjtx0/jDtyqhlrpfEbH26\n",
              "SmVYH6nuX+tvewZCU9IUSGCv4c7ds2kumzXa0ZN+PZffGQWvBR1tKv1dEASYTroG1nIpak5nryq3\n",
              "347Q59tcVsWbJIUmXZe2DFaAJbxcFAjs63EC86iSwS0otd4uyEGlD2xen1n1SINgBf0+A0wsezl3\n",
              "7FV1yAwZ32oceeLfWRLpFA3l4BgYg1FBxrvIg2qJaTaL6dyJCv4uaIJujygHW36hoOFA4d4Wt7yZ\n",
              "1DW8kDfuKEbjp+wivXeJguo8vvFOJ9mIefzgPYKn9ZYBbyncA05jwwAAANkBnoJqQr8AAeZkZPJE\n",
              "pBPlfITsqarXaeVXqq9EC/LXHLRTSF3HrqLr6+NWngVnecd2Eu+Gm58Pdz3VdQADrIcaD+++o8Sa\n",
              "dQzjRR04r3CfCnMF6wwVYBXNBlj8+6lmYhssK26b5zMp/qvaDKfqesP8/0ixuUPOJlhgcrXpfnVZ\n",
              "2duuiAj2uJ+cMkG9UzQXCxLT9A4xURFaxO8CdcJetzTY/rIEXQgX9BMyXYu6cPOi4lvWOEAUx4PC\n",
              "+CKVrP2IA36I/enBT/Hys0c3H7kxZ1Upc8bVTWjZELaAAAABNEGah0moQWyZTAh3//6plgADLe2g\n",
              "XwVB1PmLZgBxvTjJQ6FnXRhrjzbvncA3f4LqpmKHWqJGbSzHnawz15M0XVK23Ndgh9tEeNMpxCxh\n",
              "YGxpEsrt17GCU3aTVbI1W7r4LS/KXuiX/xVFPxl24wEsB8c+ftEBsILvCYpqvHCdB2QLcQFxEM2v\n",
              "3IKQkezBoS/DP5CDMvugWqbQ6xGgl3YW/d+ZAzJQQpMTH0tcUhtT9liyxX80/aojDvzSCyHW/UPz\n",
              "z4ddcu4UxUOlYYdynMDWTlooJm8+r/hb7PJf0yzPT+LgOY7pqlqSfcIjZ/nE0U04fvaqhWqxgisv\n",
              "msTEvD/wm43oAmMSB06C/Ib52YL1zTFttaUeJVpTbMtElJhjadwzpaOc+wTA0KVYujkmYoaqkOPL\n",
              "BAb1AAAA9EGepUUVLC//AAO4A8C/nsPvMrxxSXcj94Y4xda3x/3MzWoRn9DwR8x1rFrKtinORR9E\n",
              "9tBCVBVaGksOj0hmDERwKCqox+hHWpwKaaXMMveIbNTihlKT3PVid9WTgqAw40lugTHySkfO8j+H\n",
              "lT0liXYGPVrw1gX0bUDBsz7k47xxVvgOhV1HC9m6Vn2JiFFd9Eelsz7mheuIC79dy4A6NwMa2FGL\n",
              "hr3tnOOCsGkKTcN6F3aEI3bXatJ55XShh+K/LlKP37vhuKLO/lKshuq6vC5ll8lKg0T0Wq0NKQCL\n",
              "Ac4qW2MN0H+IavVAAdL0cz4qzCPQnYEAAAD5AZ7EdEK/AAT6LzTRmHE5sAyae/B03oS4OTm4rmDD\n",
              "QRvxIhj7o+pEiwIWSg1XAWPgSXPFAJIAOYVnnCjeCpvBNO2xlMUJGMTGCp+NhMdPeEhB8YbysHD9\n",
              "nVhHQJszzYB48oBIqoglgxgHDY9IVAas61MgxpjLDJ2uv5jQ34z15Yg5Hn+2PA99mVPInnjyoyTV\n",
              "VP5MVPY0IIu+ubpDZ9r4OI0Ks7MpyDK/M8t1vp4GbjXOCWbDoiUWle4sZ0F1vLMlXForUqWFyxGX\n",
              "g6tcYn+lB/7bJ7cVL2kHBMHtvrvQQMUag/C2OrZdnKi6nPFyPHVQ7LyLAL1IZjwhAAAAxgGexmpC\n",
              "vwAFIOQQZmf6yiMtteN8uiatZWB+uSVDhq5rhSI8PIbdhUDLoAOXjYmUmyTLRACBB3D4Bu0frLZD\n",
              "VmowOQAONUb2yZZ1qaRGQT8xk2n+CWWXfdeZehwaxWm4A7PcDN07IMWPvfHb8N1WsjY1PYDDs7/7\n",
              "myjr3yrjajyCCav3TUl5f8bmXuuSEnI595vrNFeNMTow5YQCm+PvEGitriWPgQwYgfEigWmk3CJP\n",
              "dNzt8DLZhfVmhF8lKfWx4cEChgDlTQAAAOpBmstJqEFsmUwId//+qZYAASiRDr+hurCV74NmoVQI\n",
              "tttKjWYBGCxKzE4gvMHUYhB5rgpgLZ5EfrsUuul7tBJYmRtwuX9UkHW2CA0ZTU+ndFE57P9uoN+v\n",
              "t6dem53JSoZVhgYPL5Y59Os1kY4ZPHFm8z+nnASz62a51iWzZJjl/BuHbSxJKIHXUxrxj/yVzPDl\n",
              "dEbgRgBHEmiXxPidPsLuKhsP0KL13N9g7HrP0OctIwZ8teOw7Cpj/I7CzDlSTQy+ncwAQpHi2wow\n",
              "TsdIEZWqYntuFWKZgDm6/gKCpj8mTsd7sljPvdcQAZcAAAFQQZ7pRRUsL/8AA7gDwUs9XwTQxLeH\n",
              "FJy4LN8CfjS0xH7ptkooQO9b+Cw9bq4FRuQV3ExLkOv2FCm6H5vTls/NLdyDd/SBp1v1qykbxzhg\n",
              "Juv6hJHtP+IDc6PEU2Img9oX4MbxDhuIjELi5/yFlAy2fbvj1GKWCdqKdznA1NG/1HLGdJzIbhoO\n",
              "SvcrgRAKeenRnvUzcJpB1Eh/NwJoCB8RbeEviZdJo2yMRLiPp6jHO2hkpa9/hLmAEdY6PXEh//49\n",
              "GOj/wBJGIuMwoq23+vUgPMtOc13HpITQxjrtLqyjiNFc9+bO12AY4P+Fkhsf0SaZOfSGpSPfsiYD\n",
              "OLZPczavvFaJGrTBMwkMiURoKV4P99n1p3/Rcw5K7sjfL34T1SW7P/1MHpx42q/XrpJOZBQC4tv8\n",
              "kmfbRRVP9jauPUBBlFxLHucMbMPf2mcd8RBBfC2gAAAA5wGfCHRCvwAB5d9WgqqSRxkLbj7l0KlP\n",
              "AKy813hFy3QAJneSsxg1xTmNA7J5LZDWhvD/0BBIk+/UmImklKsJ/l+gmlux/QkgyBN7muLf4+8U\n",
              "sKGEt6RasYAdpH8uhlh8RsKWSduKjY/dhBgiK3axK4/CjPFgtbTOYgjvwGHHgYp8sHr+aPDiUvcX\n",
              "ecixnqn7GN//4aMkkbZnD88LkRqwJTCdrSELidDtu1irjeV/saikYcCfAgA/NsVFaNU4bBXpfV4T\n",
              "vZeAcWrrkIVWIIYQhEKOmewezD+gMJ5BrYHblLdCsigz+j/5bQAAAQ8BnwpqQr8AAeZmDgRziHJ8\n",
              "gQHSiHyu4AEOB93Ed7bMtdTnWebJ1VaTGPx9OnVqDNB/wW8MEf/6RZ4WFBQ78NGQpzhZ5wo3gqbw\n",
              "TTtsZTFCRjExgqfjUcXT2jykfGG8wLw/Z1kR0Cbaqf933b3qH5L+xBDimfP7ruyWkKajrAyW2lC2\n",
              "FzlRK/U9ZCZIcDeIttwgAVQ9oyuJByv1qZMeFgdiemnge8Ho1yFVR++Ogpw5onp56cDhNKHLthX9\n",
              "H6+j0nd1MDfVLh5VrCnleygi2tEagVdpiPrD4Sv99lY0WTKWJQc5LrJnL3kTHhgs+bcw5uyQMcWk\n",
              "A4QqBYIK++Xjqd4ePp3Z/Xp23CcbS6SAqSFtAAABbkGbDkmoQWyZTAh3//6plgADKXOtf88zsChI\n",
              "ATQG7Nu0axiaVA5ETvn5feNfkhwZ4JJwWwFy9dNEqcW6uwRDhiMEgWn6rtXiUZiE7BosXH7Y/gns\n",
              "hhs6+zu2jPA0AkZQwAQjqp/6KHbDcdffL8kZUeekmGaViPdo9qhCrk6Dn3oxd4ZUWFzxLsE5nhLV\n",
              "GoqEpS8lzEYQnos/6/5eZSvXw3XAz38JUyr0KgNIuJj9U8B8W+CS1D5LgiP22RDHCf98zUGf+jbP\n",
              "bn3YjBobeZLy2eACQ4FXFQu2mmc+LYEF4ZtAX/Xi6pg6lD85X1cIhq4bOGCm/zitCV9V0J5uNUUD\n",
              "EyftjJT1620WAOqGEPgpvHRTBHGlFkyrIWI9EHRIp+N9tSh/wFclUpI9Kp0HkwXWbm6DQYp/Y8di\n",
              "sN8O7Wa1ShbOF5rTk5rONS2eaddVtNSeHLWI+NxG62K+ZM0LYdh68zxnTC1AujBL+VDzedQBxwAA\n",
              "AN1BnyxFFSwr/wAB5q8edgGIa+pdqnAiSrSI1GarPv+/BsBugqRFC/A2RdhPz2UInZTFhwaAEk+j\n",
              "9jrmMl0tUKTFBUa1kUCgMfYw8G1/4eOhlPDyMPAqeYZh7QMkWmnCt/jMWHmLUXrkufsXJxqLoK0N\n",
              "JEigczPjZoq8Zybrvp/mP0XSdn+yw+RnNjmVw9ccqgxkeNg6q+4wpYJv/z2jKjwVty/6upFu6pQu\n",
              "tVY7cFQMkmyos8JA08WmWVGvV44vV4t8dnixJncQ0RqyvrQd4DGtnfxbeuUjKGLFTslFBQAAAJIB\n",
              "n01qQr8AAeZkZag0NwEjPAqCH3CIlNS/D8Y/ReC5HmAAOf4SmJaQA65ljCECWM3aoiZO5vPEGMmJ\n",
              "KtOHWTiAdHZur0Cx7EhXta3frGaY8ZEFt/khlDO9uqLG5HUqhR63uHV//x8nGHuH5DLuVyPKXD9H\n",
              "Hs6KblepEwHr9wA3ezxKJXMT3Q05RY1HxmzAB+ABWwAAAbNBm1JJqEFsmUwId//+qZYAAShUr9z4\n",
              "qKJYIQ1NiBo9we8Y3pDLzvAzyEuokz+14GQCUsULg2X/NDutZ9erhVoFNKk9wlr1odkuQHCG/MIE\n",
              "RReA7OxE0OQxK2pqiSg8Ih5l7TsASdzUD0laX5E2/b7amosP0Ibrfu6nP3mZT9hjsliTnrDtabBq\n",
              "BHDqEktJRZzl6BwRHh1UFKQk2qTsEquNGHkESIAaWAZGim0GOTamPZ9jqEind1X4umHSCOs2xMWy\n",
              "YX2KV8s/xu+YhQNN7f8AdkUSCriAhfCs+tNb2/ywjIe0zQjWZ2cSzOUOUhqiZZhmIiYRGY0t0DsL\n",
              "6EoVUNy5sEyTOllaONKydN0QT2TNj72xiNDmBAfVipG8qARu5CdbeAwysvS4MgpqgkCEcFf5js4f\n",
              "TVyH2LF90oZ2V7nxWSkKEk09HNn4cGesKRJK4hCBi4J+Zdm7tTF5371RVXVMNHSzzmFwOEPFN+qB\n",
              "6pZnNNFEZkIsGy+Yh+Vv7T0y1My0FRdDETNjIYOkq8S2kBUv3AzFvEUsiAatf6p2KeP62WpEJXjg\n",
              "uB/MQKYxIhDqJYOHAl8AAACqQZ9wRRUsL/8AAWvIkg/7/lnETl9w7vQQLbTlOsDvE+hMGQcpfMfh\n",
              "9E6lP+xuMnMrBNATQpzAAzcpQpThldI4u4q3DRX1mFCVERmu4aF4LZ2XlNT1YBMX2OxKiyDqYXky\n",
              "aSLl5VLcwlme9MmnH81cV9uIH19pGviFL5+gy6zJKpbnFi33/FkRBwCT0Jq5t4OXVfYkLAPeR2sD\n",
              "7T1+LbwnFVWCLb6go+MAc0AAAADDAZ+PdEK/AAHl36hoCD9bQWoeDEADrQCVmg3FNGq+UDXU3XIh\n",
              "SM1TO6nmTqrv4H2O+sJ+DWrmlsTcn0eHnUVtuODF7AkcB1Wh2xo4biLqRKzhCeufA0umUXc0PHG7\n",
              "FbIfiB7JQZ83tGjMPLmJ+C+fFA/cQvLh9m7ceb5Sv7/4rEz8zGjs6bA8HQ1npIwn1aKhnFs0prUG\n",
              "QkoknDhWlVVF3i07xy3edTo9CdaeBibnzKtGIJDyZFJ1t2u7GujjbA1CwAXEAAABGwGfkWpCvwAB\n",
              "5mS8suID6mGOUSvO62CZZhU8WwyCBns4ANqOq+vDmaWTozES+UukgZ++VaHv8QciyDhW1jXmb7mi\n",
              "7fZfhSNu1QjjZ5ZvfxAIUzcDdsytoHGOA2nbzxLxtKionVuVQHUrBwgUPATbMYdgaesJuCRgP/dz\n",
              "pJp22dD3gA8H3gkhhS0nomKyvFt7/wYWNlLNK++o6UAFZFFT7lY/X04GY3ZfdW1CNhAFhpiKBzhR\n",
              "vNXMDe7/NATN4qD3hLzxpKo9FSwcfMyzVZkLHuO2uDQ4U9hQNRF9C3BbY2k7PDkVnocMz4+xvRyC\n",
              "mUZRf2vV6dn2CoruMj6LgIaDHq2OO5KVMt/THUNNSavRH6Pii28AMLzddoD+EPEAAADEQZuWSahB\n",
              "bJlMCG///qeEAADd+ydYFbWnMwYmFwtDP9brQfj9rZCspsWFQlVYALtAorBXefKY5UxDJuOvsz8f\n",
              "/+K2o+tSSQRozjJozpOfzpOyysrZXaBwqcqHFU0ER72S8+B2U2VBcm2PDYtquJ9/zsmk1XxkQsmK\n",
              "DTKEfzWxYCTAIWFsJc2yNdnchtRxTXrCtn5c8RP9ilKYnWwNHyP64U/j4v1mKvgK9LymFFfeQYny\n",
              "CBSF/k+/GgSmVzK3vkMzU02XcAAAAJFBn7RFFSwv/wABa8iaLceVzqCB1CyO+psQ9Nq1KvIxuzGl\n",
              "Kx+CV8BeascMPIllY2YG1eb+qnpDfVzYwWMvx7l1QvR9JszDYsWnxX04+6L6WyDpQLxCUs0aJP6H\n",
              "GkxeApi5I/HAiyU6+h3jD6YJG3QCKiOpoqBnDtvvYA0msYTBqpJZ+yUoaW6UwHULuwlLCAO6AAAA\n",
              "fwGf03RCvwAB5d9XZdU6jM19bSyg4LMzwAhqoN/To5P0g7aMF9SnJIp/8o1mSjEaiWzRov+7wAQ/\n",
              "OFaAEc4g2A5++5uAGicuhlfEohHJZMNSHRiRvnUUAqfc1RPpsVkT1nMKcn7pLnZpk+jB9o72xJrc\n",
              "bxgn9Vp1X8KUTfQSgakAAAG8AZ/VakK/AAHmZGTRpsAgBMfoTyUmzVT/hvbCd1uZsL6V616ZVXee\n",
              "64iB+wU3iJj/N48Hpwnbp//LSrnnFzXGe50TmJKO+UC2r/rqcR91LUilr5HsgeriPcynnfi7mPuY\n",
              "xeXJKADS0cpsCcDI86bd2piFfmW7MBwlP6iXwbYtYHtkcVoXaR6V9iXtGv8wnDm9IcQpfYDjzAcD\n",
              "9L6HpzMXPA8WaUQErOKBNr4B1FHHFDOtu9CgEI12l018Ue2py+DU2xD9D4bEv1IWewNXM6Cz/GCw\n",
              "CPxpKEh8nyCfpxSkLpnqoz5Fih96MqsKCcO+vKp6pmkOixFjgWtlUar2KUbCT/X7EEDMO5I2+Xe4\n",
              "Sy0/d32wah0thDewIQcUe/UCJBgSifC9Mf0mue+aE/j6tYjCKs2RliT/xjnkYpgspOoeXkcK4Rod\n",
              "Fr72XCaNZphmTtZKfkn0rGj1DcNn5NMONaiCjNKkFCrCWidjsc9gLL4WpUFRsUOG6Fv0dengOvT9\n",
              "eBQfVKHbEI7Lq9xqigN0IPUz8Rwj3YpWPSVDQU6gi+77YC5lFHnrxE3AQORz/KonMIjfpv4iGMD4\n",
              "Fn9LeSggAAABRUGb2kmoQWyZTAhn//6eEAAI6j9FbAAJ28llzE9Wv8KKEEBZVYNIgWduqZ/Ixl/W\n",
              "OlMICISQML/L4YeUZxTl7qSTPadryVIZxHoqhntw2iGa2jbdJFyQ9aaY6cZhMbv7D0QelX0OLWqY\n",
              "rq3SUtm8XuxZDxPkCopLif6ItF3yskljw7V6aH4jUTb3y+Awn55bhu1wNcxNndZNHIntogVT8vbU\n",
              "Q/9zKWCIrwgR7GsGek1fKgsiwBkJ6/BXcaDcZvteYi0LBGsErMQbMcef2be9x9MmeoT2mydPS5iZ\n",
              "xhMLv0M+ObZqa/10HKdYU8BXodQK2kUQzaGjqG8P6ifNnjctEd7BAjTUsQhjLSTNFE5nD15z08Io\n",
              "cIGn6WdBSZvdGI4Cr0qiITum5ACFyT57wThXK5Mc60M73RMQnkmjHMqzf8DHiazgF5EAAADKQZ/4\n",
              "RRUsL/8AA6Hr2tzR8wAz89LzOCytvAyODczLPjGAEMYFNgu3EkEKDqK+lmR+MW2sUNqK39fOEqub\n",
              "6xG1HFeIOKpqrfGs8DMyZEKlJM50n/dAXM3x4EOlgN0mvbgrC03xql7tgN2iJjNT5aeqVgnfPXah\n",
              "rPw9iLTaamXrJ6siJ5iYTtLB4kcNKuWvbOobFIe8ItBXUg5Tn8X9UVlyQbGnn99C3t98B3vCTjrE\n",
              "/qT0W9mljgpw8CNCqg843l1xLj1IwOaZqYCkgQAAAMoBnhd0Qr8ABPzi0kyi9Pz9vGWX/81AAOyA\n",
              "sLGbgKenYBQZ39QMu4/i66PwDivnrE+O3v8ufkjVN865iGa0TCnXuyU2EMUoMZX2p3Z9BnN+x9M8\n",
              "kFoLqWLNeHuAl70G5IsLi2mdSrgn1mRFaW1PVCrwK3+BfciD4509k47ay8Usvd2zV0mXfw8Toaro\n",
              "m1+dzN5lgbu9MF85hjZQlHU1ABJiJmiHGuisj4gQIggbOhvRcaqg7W1+7Skf7SynfeSF9lgpJdH+\n",
              "3uATqypgAAAA3QGeGWpCvwAE/OLSTKL0/S/s9D4OOagAHZAWFjNu3fxZMPTobdIaP4YVie/oDEdR\n",
              "G5vmd7sdqfkYiFm66drEqzn5dBOaqZUwA1TXGKy1JLj9E6F7sWMI79bQpUakBBP+T7PJvd8g9hex\n",
              "n70Q9KOvBqNaCLMROVfJGYNSn2WMnn/0VBmhiTG1sXup1GgWeoHHufr15u5VlbZv05usZBw0lm/v\n",
              "ats6802i66tZnyIkdp8uxF3Ab54Giq0bKYQ5HgTFCbTDzblRSQaTZN32g5ch2nnMU/muxszEqjR+\n",
              "LRT/AAAAyEGaG0moQWyZTAhv//6nhAACOrZxRXf/I0P6wcRDyROWE6Jfzt2DRGH/hC0W9mEXJenG\n",
              "WETqGRX7aMuO69rjwmWlqTThE3NyjG6kWvxSHScPXvXd6TPqA+8EzZJfFqIp6Epm2fx0FhweCB+7\n",
              "UYlAwObUU9J602oSl1JL0X0FhshbE/F7c/lGec2L4JUxVkZzri2PLBS419RsOPN91ZeAyZ8B919i\n",
              "JxyGn5lNCFRi+yN+WCZsCletcHzyGtySvqM3DzxkAj9nrfn+AAABbkGaPEnhClJlMCG//qeEAAJM\n",
              "wjBOYACNtbmvMdHcW8gjkTPhS2z16E8S/rIRovzO42zRizEQlJnfDqhiCOX1tUI/0ZRsSl6DQ6B2\n",
              "P+qgRqJLubur2qvD5iXtyoASLil9pEcgppHNxbgn1tuDEr3jeHdS7SSa+YnrKu6Er0shpfcd0Czs\n",
              "38MeWXCMjTOo4c0THcm7wue4q9vLlj0+pzBFV2pfSAABdOORAn4iPkANqv/i2/670UuNkmTjSkmD\n",
              "BYWZUS9kf1Tmr7eU1hNQXNhh54tLWRfy2JX/oUHqz0hz4y+eBSdE8fjhK2IdqEyP67PiNr8VGGn8\n",
              "cL8aJFNsY31VROVO45bp3gO9PKc6ZZaMUlP/MyrEZNUADCMSbAEqXlFyGeu3+0neLgig8MXyoZjo\n",
              "0tzT2Yos+wM+qNrnjpD6G7LKLPsQUqw79+l++SrBjySjKbJOxMf3nNWDD5ERDULYeGqkCmWiaumC\n",
              "oAwccDgDHwAAAPFBmkBJ4Q6JlMCGf/6eEAAI6kB2/9gANBNIs6ZJhCqZcfaTRpVqTNyeNB6K/0bf\n",
              "u81qPvnZ//ILr21f/f8ZnzA8RiRsUwSE4ORM+mlO3dKEFtK79an/1GX5X4+YeX4eqFPNU9zVkz8b\n",
              "ZjOFkjTBETe4x8dZgnAEssPNKYbABXlChcXHz6CVRRFtk16pf6NefzTxnl+TVf4415i4uqCZk0Jr\n",
              "dQo3FKkWTWWAZAwOuv7b14awlk535b4AqNuOYzu6GCGyDgFgw7cXXtHCehQd+oY0ZkyCMv0J4TNO\n",
              "8HnznOsSH8u5023bSDNzz1svtf2HMDehAAAA9kGefkURPC//AAFrtWIYp2aXZhOySSKG5wGrXNA0\n",
              "RBXed1u2rZU5ss6WCDeN3MMK0tkedyL4v68pBCw03ORk0Bo0HKfgHt2MC7/o89rI2MLfAAKD2Smf\n",
              "W0jxoQ88LC+Rjm3fZBWBi9Dl7Tvg4BP4Kk+BpSWa4jxxJt0JcjcVO1Z/c0KLS0rteWqkc80C1mpD\n",
              "e6q343xxl8mP5VGDa6qjDKlvsc3TcAi/mR7AipwYzkkvXsPhop6rFFQMIV9UYQanzLpMA61px8bi\n",
              "npTtjB0hp2tGm+8tDEWsihjJYa2BlmYs/T2WAIwzh7jYqBDiaW85XyDFMIBUwAAAAOwBnp10Qr8A\n",
              "BSEJBFo1Jw4hBbangbGNiab3wJFxY2rBT9NnpuPu8jq/EXuPi7QSKgvs3a82h81xkxzM3FBvJMGV\n",
              "lhuR8qWn+4p7JPwyJbKmw6WfY1mihMMMB99dJBi0iTZQc49J+qgD0V2/gZsOMhMyCPrnrPIIQuYH\n",
              "C6Ow7BrinNpC/gREa+RNUtcLV4CWx0F2/6wng4J6L86WaesUTQ8VyRKN1aagFL3O1M8wkWw2MyTs\n",
              "7ffUNbQ78zLaaKzX0rh27Q1P6bwiDWLuvwgCXCINZoWPqCh7gaaAfGNGdBkkRHgDlIjFJWwcwuHL\n",
              "aAAAAMMBnp9qQr8ABSEJBFo1Jw4hBbbFHODp2BkkzuqGyBvTF/MLYl+yzxDwVsyhcfV/ICQV6juK\n",
              "gX1KBMvx/UFp1JY0bVSVbzIdweWGSq5m7UjltFnUPGeU3io2hHDdEFpJcI2pWiTaC2Nn1g6ADTSg\n",
              "R//Gw4TyWnKwyQDhptXIzGD5/dRNBDrh5cTbevgXjgdk4js2WmUS2huWNRDjjPN71/dn03A5CYcV\n",
              "M2zL0wTne3Semy/RJD80A/1+4UNUt5jYzoL8E5cAAADBQZqCSahBaJlMFPC//oywABgHPsI/P8tK\n",
              "DNU/tWzoiWXiWfu3eZ+deecrD7ORvs2wg+t0HSUKjB5HmRae2la5YYwjEtHaLapE1Z5Uup9HtiNF\n",
              "//4d3h+Q5LHo8GZo3yyVzHrkX8vqTcyY4M2RqUF4XK+oP/w7OhLeDIIHOz8fPd15wMinUeumV7Dc\n",
              "5YAOSyR9v+sP4vxAoWyAW8T8s76F3brdo2uUm/6woWS1lEQHuvjX5aGyZR7fpsFUAD7IcADrgAAA\n",
              "AT0BnqFqQr8ABSDkEGXl8ptCvckq0Fix7a/RndqpmMAAaFRCgfFRK3nsfsjwi3P/T++Gd3MXxz+a\n",
              "e4Z3XzLPCK16tJuqkIjL4XELGVrvCNco8lZjBrinNxfre5qG4As0pdJZRpteyduLtygTb1sHjWg6\n",
              "Vs1YmjbUWWwVAXsS2f6NNhLCQ4jxiLF+Xfluhd7jNNqyCvlHm9Q8zGeS6NFjaaY16r7ZEnqrkBCk\n",
              "HkPaKJOzLgkJJ9ijs77DnMim5jnfzDJMar5TUYLZPtT17gBYh4s9hV0R9FQgFS8NR8Jh19HCu/cE\n",
              "wqwjW5JgtgkQu7NPQzzL4bJcUKLk5gH3258SkstlCWJ0Gg4VFacsPds77dVAeEeOapW+GQGhalQy\n",
              "xfhLrdRFxzzLnEjtwoARNR4Qn/mecUcFaJfIn7skJtBTQQAAAJpBmqNJ4QpSZTAhX/44QABdfWFe\n",
              "r+gsZU17yLJTAQuK3RzGG7bjsAqd5oB84p1nFiK7cHjggA5YvEGD+73BPtVTNngtHzAvAhc24vw3\n",
              "mCfNkPzhL5KrdVDc5xd15Ck1Z2nRPa0nmi8xesMnQEMLLDISeN9KmLoV4gKNhU4skUmSmnyn6BG6\n",
              "q5TxiLyekE0svLcXhYf2QoGwjjS8AAAHum1vb3YAAABsbXZoZAAAAAAAAAAAAAAAAAAAA+gAAA+g\n",
              "AAEAAAEAAAAAAAAAAAAAAAABAAAAAAAAAAAAAAAAAAAAAQAAAAAAAAAAAAAAAAAAQAAAAAAAAAAA\n",
              "AAAAAAAAAAAAAAAAAAAAAAAAAAAAAAIAAAbkdHJhawAAAFx0a2hkAAAAAwAAAAAAAAAAAAAAAQAA\n",
              "AAAAAA+gAAAAAAAAAAAAAAAAAAAAAAABAAAAAAAAAAAAAAAAAAAAAQAAAAAAAAAAAAAAAAAAQAAA\n",
              "AAKAAAAB4AAAAAAAJGVkdHMAAAAcZWxzdAAAAAAAAAABAAAPoAAABAAAAQAAAAAGXG1kaWEAAAAg\n",
              "bWRoZAAAAAAAAAAAAAAAAAAAMgAAAMgAVcQAAAAAAC1oZGxyAAAAAAAAAAB2aWRlAAAAAAAAAAAA\n",
              "AAAAVmlkZW9IYW5kbGVyAAAABgdtaW5mAAAAFHZtaGQAAAABAAAAAAAAAAAAAAAkZGluZgAAABxk\n",
              "cmVmAAAAAAAAAAEAAAAMdXJsIAAAAAEAAAXHc3RibAAAALdzdHNkAAAAAAAAAAEAAACnYXZjMQAA\n",
              "AAAAAAABAAAAAAAAAAAAAAAAAAAAAAKAAeAASAAAAEgAAAAAAAAAAQAAAAAAAAAAAAAAAAAAAAAA\n",
              "AAAAAAAAAAAAAAAAAAAAABj//wAAADVhdmNDAWQAHv/hABhnZAAerNlAoD2hAAADAAEAAAMAMg8W\n",
              "LZYBAAZo6+PLIsD9+PgAAAAAHHV1aWRraEDyXyRPxbo5pRvPAyPzAAAAAAAAABhzdHRzAAAAAAAA\n",
              "AAEAAABkAAACAAAAABRzdHNzAAAAAAAAAAEAAAABAAADCGN0dHMAAAAAAAAAXwAAAAEAAAQAAAAA\n",
              "AQAACgAAAAABAAAEAAAAAAEAAAAAAAAAAQAAAgAAAAABAAAKAAAAAAEAAAQAAAAAAQAAAAAAAAAB\n",
              "AAACAAAAAAEAAAoAAAAAAQAABAAAAAABAAAAAAAAAAEAAAIAAAAAAQAACAAAAAACAAACAAAAAAEA\n",
              "AAoAAAAAAQAABAAAAAABAAAAAAAAAAEAAAIAAAAAAQAACgAAAAABAAAEAAAAAAEAAAAAAAAAAQAA\n",
              "AgAAAAABAAAKAAAAAAEAAAQAAAAAAQAAAAAAAAABAAACAAAAAAEAAAoAAAAAAQAABAAAAAABAAAA\n",
              "AAAAAAEAAAIAAAAAAQAACgAAAAABAAAEAAAAAAEAAAAAAAAAAQAAAgAAAAABAAAKAAAAAAEAAAQA\n",
              "AAAAAQAAAAAAAAABAAACAAAAAAEAAAoAAAAAAQAABAAAAAABAAAAAAAAAAEAAAIAAAAAAQAACAAA\n",
              "AAACAAACAAAAAAEAAAoAAAAAAQAABAAAAAABAAAAAAAAAAEAAAIAAAAAAQAACgAAAAABAAAEAAAA\n",
              "AAEAAAAAAAAAAQAAAgAAAAABAAAIAAAAAAIAAAIAAAAAAQAABgAAAAABAAACAAAAAAEAAAoAAAAA\n",
              "AQAABAAAAAABAAAAAAAAAAEAAAIAAAAAAQAACgAAAAABAAAEAAAAAAEAAAAAAAAAAQAAAgAAAAAB\n",
              "AAAKAAAAAAEAAAQAAAAAAQAAAAAAAAABAAACAAAAAAEAAAoAAAAAAQAABAAAAAABAAAAAAAAAAEA\n",
              "AAIAAAAAAQAACAAAAAACAAACAAAAAAEAAAoAAAAAAQAABAAAAAABAAAAAAAAAAEAAAIAAAAAAQAA\n",
              "CgAAAAABAAAEAAAAAAEAAAAAAAAAAQAAAgAAAAABAAAKAAAAAAEAAAQAAAAAAQAAAAAAAAABAAAC\n",
              "AAAAAAIAAAQAAAAAAQAACgAAAAABAAAEAAAAAAEAAAAAAAAAAQAAAgAAAAABAAAGAAAAAAEAAAIA\n",
              "AAAAAQAABAAAAAAcc3RzYwAAAAAAAAABAAAAAQAAAGQAAAABAAABpHN0c3oAAAAAAAAAAAAAAGQA\n",
              "AAnXAAACuQAAAXsAAAB/AAAAnQAAAT4AAAEWAAAAsAAAANAAAAFTAAABEAAAAUwAAAFCAAABdwAA\n",
              "AO4AAADOAAAA4QAAANUAAADJAAABHQAAAQEAAAEFAAAAvgAAAQoAAAEyAAAAaAAAAO8AAAEcAAAA\n",
              "9gAAAPcAAAD+AAAAvQAAATgAAADOAAAA4gAAAN8AAADuAAAA3QAAARcAAAFTAAABnAAAARkAAAE+\n",
              "AAABQgAAAR0AAAEGAAAAwwAAANIAAADRAAABUgAAAVEAAAEjAAAB3gAAARwAAAE9AAABewAAARQA\n",
              "AAFrAAABFAAAANgAAAFdAAABCgAAAJwAAADLAAABXAAAASgAAAF4AAAA3QAAATgAAAD4AAAA/QAA\n",
              "AMoAAADuAAABVAAAAOsAAAETAAABcgAAAOEAAACWAAABtwAAAK4AAADHAAABHwAAAMgAAACVAAAA\n",
              "gwAAAcAAAAFJAAAAzgAAAM4AAADhAAAAzAAAAXIAAAD1AAAA+gAAAPAAAADHAAAAxQAAAUEAAACe\n",
              "AAAAFHN0Y28AAAAAAAAAAQAAADAAAABidWR0YQAAAFptZXRhAAAAAAAAACFoZGxyAAAAAAAAAABt\n",
              "ZGlyYXBwbAAAAAAAAAAAAAAAAC1pbHN0AAAAJal0b28AAAAdZGF0YQAAAAEAAAAATGF2ZjU4Ljc2\n",
              "LjEwMA==\n",
              "\">\n",
              "  Your browser does not support the video tag.\n",
              "</video>"
            ]
          },
          "metadata": {},
          "execution_count": 35
        },
        {
          "output_type": "display_data",
          "data": {
            "text/plain": [
              "<Figure size 640x480 with 1 Axes>"
            ],
            "image/png": "[encoded data removed]"
          },
          "metadata": {}
        }
      ],
      "source": [
        "fig, ax = plt.subplots()\n",
        "anim = splt.animator(spike_data_sample, fig, ax)\n",
        "# plt.rcParams['animation.ffmpeg_path'] = 'C:\\\\path\\\\to\\\\your\\\\ffmpeg.exe'\n",
        "\n",
        "HTML(anim.to_html5_video())"
      ]
    },
    {
      "cell_type": "code",
      "execution_count": 36,
      "metadata": {
        "id": "ko8KJBCNobY4",
        "pycharm": {
          "name": "#%%\n"
        }
      },
      "outputs": [],
      "source": [
        "# If you're feeling sentimental, you can save the animation: .gif, .mp4 etc.\n",
        "anim.save(\"spike_mnist_test.mp4\")"
      ]
    },
    {
      "cell_type": "markdown",
      "metadata": {
        "id": "gu1_f0XZobY4",
        "pycharm": {
          "name": "#%% md\n"
        }
      },
      "source": [
        "해당 샘플의 정답 라벨은 다음과 같이 인덱싱할 수 있습니다:"
      ]
    },
    {
      "cell_type": "code",
      "execution_count": 37,
      "metadata": {
        "id": "7Yb76uofobY4",
        "pycharm": {
          "name": "#%%\n"
        },
        "colab": {
          "base_uri": "https://localhost:8080/"
        },
        "outputId": "a1e9c04c-30e6-45ef-811a-37b030fcb230"
      },
      "outputs": [
        {
          "output_type": "stream",
          "name": "stdout",
          "text": [
            "The corresponding target is: 6\n"
          ]
        }
      ],
      "source": [
        "print(f\"The corresponding target is: {targets_it[0]}\")"
      ]
    },
    {
      "cell_type": "markdown",
      "metadata": {
        "id": "YTRqW-wtobY5",
        "pycharm": {
          "name": "#%% md\n"
        }
      },
      "source": [
        "MNIST는 흑백(그레이스케일) 이미지이며, 흰색 픽셀은 매 시간 스텝마다 100% 스파이크가 발생합니다.\n",
        "이번에는 스파이크 빈도를 줄여보겠습니다.\n",
        "이때 `gain` 인자를 설정하면 됩니다.\n",
        "여기서는 스파이크 빈도를 25%로 낮춰보겠습니다.\n"
      ]
    },
    {
      "cell_type": "code",
      "execution_count": 38,
      "metadata": {
        "id": "ymxnM4CaobY5",
        "pycharm": {
          "name": "#%%\n"
        },
        "colab": {
          "base_uri": "https://localhost:8080/",
          "height": 889
        },
        "outputId": "b9c0f826-6e0f-4e32-ec24-aab6245fd023"
      },
      "outputs": [
        {
          "output_type": "execute_result",
          "data": {
            "text/plain": [
              "<IPython.core.display.HTML object>"
            ],
            "text/html": [
              "<video width=\"640\" height=\"480\" controls autoplay loop>\n",
              "  <source type=\"video/mp4\" src=\"data:video/mp4;base64,AAAAIGZ0eXBNNFYgAAACAE00ViBpc29taXNvMmF2YzEAAAAIZnJlZQAApENtZGF0AAACrgYF//+q\n",
              "3EXpvebZSLeWLNgg2SPu73gyNjQgLSBjb3JlIDE2MyByMzA2MCA1ZGI2YWE2IC0gSC4yNjQvTVBF\n",
              "Ry00IEFWQyBjb2RlYyAtIENvcHlsZWZ0IDIwMDMtMjAyMSAtIGh0dHA6Ly93d3cudmlkZW9sYW4u\n",
              "b3JnL3gyNjQuaHRtbCAtIG9wdGlvbnM6IGNhYmFjPTEgcmVmPTMgZGVibG9jaz0xOjA6MCBhbmFs\n",
              "eXNlPTB4MzoweDExMyBtZT1oZXggc3VibWU9NyBwc3k9MSBwc3lfcmQ9MS4wMDowLjAwIG1peGVk\n",
              "X3JlZj0xIG1lX3JhbmdlPTE2IGNocm9tYV9tZT0xIHRyZWxsaXM9MSA4eDhkY3Q9MSBjcW09MCBk\n",
              "ZWFkem9uZT0yMSwxMSBmYXN0X3Bza2lwPTEgY2hyb21hX3FwX29mZnNldD0tMiB0aHJlYWRzPTMg\n",
              "bG9va2FoZWFkX3RocmVhZHM9MSBzbGljZWRfdGhyZWFkcz0wIG5yPTAgZGVjaW1hdGU9MSBpbnRl\n",
              "cmxhY2VkPTAgYmx1cmF5X2NvbXBhdD0wIGNvbnN0cmFpbmVkX2ludHJhPTAgYmZyYW1lcz0zIGJf\n",
              "cHlyYW1pZD0yIGJfYWRhcHQ9MSBiX2JpYXM9MCBkaXJlY3Q9MSB3ZWlnaHRiPTEgb3Blbl9nb3A9\n",
              "MCB3ZWlnaHRwPTIga2V5aW50PTI1MCBrZXlpbnRfbWluPTI1IHNjZW5lY3V0PTQwIGludHJhX3Jl\n",
              "ZnJlc2g9MCByY19sb29rYWhlYWQ9NDAgcmM9Y3JmIG1idHJlZT0xIGNyZj0yMy4wIHFjb21wPTAu\n",
              "NjAgcXBtaW49MCBxcG1heD02OSBxcHN0ZXA9NCBpcF9yYXRpbz0xLjQwIGFxPTE6MS4wMACAAAAF\n",
              "gWWIhAA3//728P4FNjuY0JcRzeidMx+/Fbi6NDe9zgAAAwAAAwAAAwG5pYX/dnfziCAAAAMAdsAV\n",
              "r+/ghHykB3/JgjRY8AzRUd7vzLlY0XhabljQ+Z7e0r0cjJpdjSs4OgtoX9lhEhC58g8CYk8nWvvD\n",
              "KlFEfjONRmu5kU8kSX8TF1oMinLkg92a+kzM+sf/yAAxTffwZ7b5HWQZx5/LJx7ORkCk3MoXAXP8\n",
              "nXoZbly7aSE0iiAYxcjAUD3zdmiCfDlb5u0HQ4QknMT0EWUe3ogVJykluZF8iqLjFK8NN07pNY6P\n",
              "81hbVqPjRqFBEADxf7Pdr1oQSbWopFjyzL1ryhSf+MCIXvW+2DRMoOdcdtQpc9CMMD2UKJtIhaxI\n",
              "RFbjOo8rFZjalA15QbHtY13lQGZYGQijhp7RGYCZC/Q+wsT6/qLDdfoVZchzjQd6qm5t6+q5txQC\n",
              "ZD7OyRVCI+VIjY3IBttSPD+bLTa1GBPJdBhU3Zus2D1BxP/h34ichvlgdEoirVPFWqWmFLEO2V3G\n",
              "UjzmXWP5Zp0LucilU7oIQXgS6Sxk09smK+dci9HQq29Z+3hLqURLo69gsSIU0FzEnLqvJUAIUQnk\n",
              "3IpRX6M810JSspzxyEOcdtYso2GvnRpUefSAUtafqtF8XuPk2jiqvSk7meqz8mvWR3edf5ndcubZ\n",
              "SGeVcfz+AAGRZB7P+ImnhbqQlr9KX3ONmMvDbq1cMX6eXrL89+nm+if8UqcTzuYcUfcvYCf83/4l\n",
              "TZo66qz0NJGv4/a6d6OGhhLDlQc2TiheNHvYypITyfff59fQwaW8NOWcmrmxZbHeOMAaE38KKPm1\n",
              "ZMbHZaXSi7qSR8tOJEGni/ayPLdSNO/9A5EmFBf2f+PadLEHFR9g7xjR60VXNWBwk6HiVZAttpAV\n",
              "IkC4juZZvdoIOR+PrRO4Z/kcTSyXWG9bn3bL3UB4KYIOtMZsnyVO3S8dYLaWeGAXNIDe0J2cmOTs\n",
              "BvyTy/qqhny0ES0h5KN3gVZHi5Md6YdprdIVkc2Xe/Q1QfmsUfL1Lcgj2NUTpO+QOvH83r2iHyax\n",
              "Kf4F3V8tFvZNFGwC3CP48VeL5w+XxB2yiWFCzgfGk8KUyvGq31BUCQQ+5nr+Vrc0KM+h1qo9Fu6f\n",
              "qf297bhdgAlyR8+ko/kb8zlzw2ELJCeY/PIjWJ2dutwQNCEPjUrfcip78q6NEmJidMFHOYWyGdZ1\n",
              "Lw3jr2QQneMIkJQXMhelqKNtintHwMjYSsOka56fpMi2617nmsgsK7EbBfyOo2I8VXLdM4nd5Ft2\n",
              "42p+osJxMXtk1taqa7t3TIMojU8rwdLjXHiULcvwIuDbCP/eygm9byaCEqp7x0XX+KcepUL6Hx5A\n",
              "bTOBKndJxmnEjM5VFiF95tVFd/n/JjRVM+bfHUyDf1ue/Gd1zk4rZdRdVDkP2Tse1iFwc/8c8N8Z\n",
              "PXo/5VLzylngtaVDYVL8qmHSaZZ7mUMKY++L+1cEaBhgV1yPzJJG5b1y4K7G9z0nWYdpG1WR2A9R\n",
              "utHYP+7FgkdH6hegDI3Mmb+YlwlTMUF+LxpRLQ0qKV5t35zrgKVLGmZdJjKuNIe2dwWtlw4dmx8U\n",
              "NbAAnfMmsqi3qsayM7y1ZkpSzhNkqoQohghWbQ3ZXb/4PgQNKo0SQD8pUSobXWLGcZxAVp3wQfsh\n",
              "zEuywqtCMcCUmJbxBXn9h5/n4rAVsaqkUf+BTvxb+OVK+gwm8roBi8nYJRTRUiWsOF50CLGeVB2k\n",
              "K+KHBL3qNvN/XZILucC1BC/2zAw8sqgK4brgMNx9pPU97xxQNqO/BohOVeN1EKUgIkz8sBZCBg/Q\n",
              "sAT0YcXxd9gw21+fdPRpFcuHM3sTu7JY8TRZAl5mcAAABDPzlxIAADihAAACyUGaImxDv/6plgAB\n",
              "IeV/nEHp2ACjbbPhg58NXMsyUaFxKE3Vroz2JEkJTQqVvNHkzdOCb9OMGoiHV5O6gqLnzU7Pu+xy\n",
              "/sq3z+RdlbMDAO9GJw/0e/Ty0FW6QtF0WgiudYk5urro81EI1+eqfcn2IqAURMbpWckdesXnTvyK\n",
              "JR38b78ksa5kxoIrEuzN6VOnUrH9umTQ07oV1RluiHiOTZw3mOrTKaLfCwPyoW/icQwzXJVZGuxN\n",
              "T7F8S2aZJ4es5hbpk0WDVZGm8NOFIi8TrJn5MXva3tqJ09jGXTsOpIKZUqQqJwRxhVj8MZjrVgU6\n",
              "dDAGE5EeadXBeS663KxQzZorfI+OMKsbmV8M0LP5/d4nGn5oVOoV76N0DoNf++cI5N43Uwso1GlS\n",
              "l1SchJxX58aQ8g3e8HWEvPvhZ900hFmVSTVUAhh/gkpcOxdcCDRsd5gm28kS40xOzwpDbFtPEp3j\n",
              "2/wPfaBcRfkOB8yxNGfi/exjnmYVEkdVcZOS7+F7i/cQK3+JHIJuAFEpJLkZVw0Q0FcagSsVNLtm\n",
              "6VtA3W6E7tw+GXHj01ROaGKKrWpNZAEhiVj0syvRQ9376J1R9ElK1XxeOvPr/aX30tTQGSfTsFd5\n",
              "GC/W3pjBCl1cXp1Paz26EFeuU8j59tYJ+xTdJsnYWtNwDwhrX5S8R4RTS5oHNxb3tPbRGyA7swhc\n",
              "GqQvNHwjSY/oYDdQk0h3q8HnOdJFtKerK4Oez0p59yaPQ+0zQzMa/zr1u5ILNA+hSVHULe1XDkUj\n",
              "lZrNlzQLwkQCcwKzCMXt6iwsnBoVywyJEUAczWcdGGqAhIKPC7HgSPHiiNmnokBa+lhPGo5doxLB\n",
              "G7PUySfV/Vj0kFgOGZE7HW6ya7J4kEDg5ZBb4PIQk0pmXXG7GWb+ZlaB9mh+Y5fsNEKzgNChp9E1\n",
              "iJgFPirX/S2dhzOzKDzx8kfAAAAB0wGeQXkK/wAB24aT8rUQAF21fGxpukcjf5RMS6WRNVaW0SXx\n",
              "Vifahb8iGPYVXGP/b4IP63PzenuSPttfV9EptXLgq9weo5g0LTuNMthKaFYEM+/DgP2+f3IGM9I6\n",
              "QuZvXKlrZS2o/440MShHcajunkdzraxIHjp2J4cpnLAk6QvfTwq6lPBWZk42zlnRoC10fRihDSYJ\n",
              "sTPhIdI72b4eviOrZ6RbMtefbLecGXFE1OI1V5X7ydUebGgxEmqBTR7be8glwc13VhXg3iBivXRD\n",
              "VBeXgJGqaYcXgWWi1wVuyygbiVTIwJyz923OgBFDBc2F4stndBuJCNY+LMiqJGWQevYyWcT+/9zk\n",
              "Aqcezn329WVoZvSgJC3LBSFyt0vE5jd8iSGjB2QkbAI7UtfqCUYv27AoqIDgNEaDas3jRcLdY8vk\n",
              "lTwKHRna6/0n5tMjcp5nfvXNaadrZU3VCjqchRyQdLZiaa8joAUiUu8lVvidTnM/lIVqIUg6HWTj\n",
              "fe0afcraEdRmAr4IKx9p1QYyZJh9skpHHB6ahwUDrcEqUtoZGTdHFP1OOwWkd/vIM9JbQuwtbjTe\n",
              "mMpSOo2ljtOCeO8BVEhI+sCJxE3Bymzj+dvwBIhlXUW1AAABNkGaRjwhkymEO//+qZYAASH5HWgu\n",
              "aOttKNeaU0xTFkr/sp+E2vBUn43l8z7Izw4e1PGVklffjEADOKIpyq0iopuBOl+egfQvrk8tYPBg\n",
              "Ftd61xv2rNx+hoIBWfjgLID0vnibITisF0zYN56OEPVEov/4ZrCyhSxqrOCO16pnQ+jgnjajg3ac\n",
              "SeL8gndR2FlJI2ZmyeT4o1rEjIk7AodgwTrVoFEC785L8zGO9MdUNXovF1B56rbQY+mRVrfS92OO\n",
              "MFvDwEf8vtuVzScehOmP2qahLna8ZJoBQiRaqBBShzzVVmK9JMU1A7QldLim9xGXuxA7jRZc0Wpt\n",
              "O4jWFUkfTmpK2E9WZdoGYLU9dh6GSJt3d8qzObDEt0yJxKkgsOzxGZ7VplTCqmNuHXHcCWGbvLfp\n",
              "e+ZdqasAAAH1QZ5kalPC/wADuAPCU25OCaGJbE4SviUQ/hCZ8yXhfpWPfkDHne+zgPsyXQZbtBOf\n",
              "SrcTzvOBf9z4ZGDVmBnZJ5fgOztcNY0ids461k4Ctm+foz9rK+fe/HxgoIklfGX4qjsZ+e4blSkB\n",
              "jed2xXf8bfnDs34OHnVQj+WT350/7TL58pdctOS+xsnRbJoP1yBI8k2VmCeyU5jILnfKCGaGjSUS\n",
              "q9H+D9SR35XhvzIEyym73M+IRzthw7SFkntZKCBRcEkMvIY9P9vlW+1oGhzEwGyBdrMb9H7J8IlX\n",
              "tnk7V4gxy50ZT2ql27IArmuoCjVssMSJBUXISC6XhNTL33wZvW7qkTGMi/Ez4Aw8m+LUUDDGDS9t\n",
              "1jbIvfaIQFmk1xa/TcS14gF5UOJMeRWEGviAUz8yp8wJeOgFn+eSkVN7p5eOlEkLZHIl9z0H1l1G\n",
              "bLY1hNrR/wfq2xAwK52rfUxSV0f9gkzG4lyBAplzvC97ZBYMZXlvBnKC4goIsQjAl7Ns0KOKVbU9\n",
              "4HH1sUtQo3XYPtgA9PlSJddpX7xHiio56ACL5IMOsdOTGzs1glB9pHet2YP9CqWiUZdrP4mDN8Rs\n",
              "8yRlvIm+Z/OgziMcfs0fixbwOJmmq353j8t8JVf//ovYEXiYbioSHBhmBWvOQn+t62eSTYVNAAAA\n",
              "zQGeg3RCvwAFHyGQfJUVWXnBi25qzZnhSopNSCEYV8ksUL1ABcYDOoNsPeLlsiR7vxf25eVERdiU\n",
              "tHBYQyMyzVDnayXLjRBwXUB/vgAxhuocNVILaB2XnPbQT8X93ri1axwv8T27h4XWKCtPeezYCl83\n",
              "bLXuKp28DSqchSJu14IOnjaxXfUNtCkMblsElj9t91PL0+K9ku6PD/NqzoPmeJkzIrXJyCzjAfun\n",
              "hBTbS5HpSKXuZv0nOhBGiampxBWGsivI9Fthyk0uXLIsjwkAAAFpAZ6FakK/AAT5p7h5Ijf3bcuJ\n",
              "GpuS80SVolK9YxpdAQwa1fskGJWaLO0AiHW6cysx6qOxAO/R11iOQ/7pGHQKH8kmCNXeAkOR66PC\n",
              "jgL3C2oXN7n5YoDKGoxsbIpQhQGF8WytugN+ETxPFhuvTM0/lJZ7zxeHVXUfq+ZpudX/jeR8dY8a\n",
              "T76r65gfKG0a9u/+Kyq2ICEkEz32+/yCpXbH11F3cEXVz0lEk3oISyhalBsFhliT+YddAqPiPq2j\n",
              "guzkYL+0rliU4IRE6Bgh/RKaZKhvXhyLqu4pozFmbleCCdX0tVltK9dEhE6BOIMdGxd85zR/iOmv\n",
              "/LWU1L2MezfoXUdgASDDwCpirIsOj0tCCdaJ9HriEDSBbls9bPxZMqOyujvQdFCPeRjQ/ZBUeLXl\n",
              "hETQD1VMUJ4hxdnbmVJFHIWWXOUWS7ktJ1lco+ddQEDQRUsi9DpxrMVmFZy+21bLAFZNQeSO9nQC\n",
              "2wAAAdlBmopJqEFomUwIb//+p4QABkbUKijj9r5GSlFRjPOIEfMACph5GaIwQ2ViBRnmh411PHm5\n",
              "xYBLxBd3/DO0/6rFQO6J6KJyqXbzi8GQ5bYNZ65pqak219kKJq828is6nEsiJl5s8V9bb7lM7bgb\n",
              "kPpu4z+bXXCrVmKS7pDEJeHTNxepjwAat7cTB3nYRsAjDvdu3au/pMdIR1OXHF+9sGVMf0xGeTkk\n",
              "vmhGPb8kYYazcJwhV4hsZGqnEqoChfkJAUZgPVly7gk9NwBDnLCvlG97SHbPuC/P0C09QeCUAcY7\n",
              "+f3Vd77OTXDE4wD+TC1Th5eXMlfMq/hgXUUUO0QfNmohYxWpuA4Z9rTy4kiadQtJSnCfGmArp9FE\n",
              "DoynbdCJ7rcUqx8ZOBsh1mnR0IkJPk00qdCSMeWLlN7NXV+/HDSZenDY2pY3Zc12dDTWy9xUA7y6\n",
              "14GI6mFO+rhACKRstYWGdfJvHVnwCXar4/bIOPeEo5nWc1lD4Qq4LKG2NogaldZM/hVVNnxQju0/\n",
              "o52fAhgkHvr1htANTKeZwk0Ug/6mKFuHV3p68e8FaJV0qMIwgH5MKEi5FykxVuJ/GiZ1eA82D9Sh\n",
              "nBkdybhl6mDgHHNJ0yvfsoFIAjQj4QAAAflBnqhFESwv/wADtp1vpJzOqT5hoEpgv/+YAaHP4vY1\n",
              "26WR2BG4lAMyx4BX/Of85G3i/jN7L4qkKCfQcxuryKnnIYrxPCh/BbWkGv05HPVzVzs50k50qUpw\n",
              "/M44gRG//8OSWxUsEFlrVFoI31bfBP6KrXOEDiB39K/C+QR+RnVsE6ADk0BiG87nLTMAWgC9+qxe\n",
              "ChoNfdTZRb+9btlxc0ErPIehK4Y7pOJ2aq+OaNH/aJyPA25AzLo2aTErNXB7Pse2eUvpk2xeBY6T\n",
              "XckhuYM9Rxj1lXtQ+uUB1uALYz9bglBhdLtkCE+qCoGqXiRuykUZde00kTbvP+3MsbU6GYdTY6hP\n",
              "Da+XTsPkQ6wanaPGCQ6QiDFg4QeWmlEgiD9xCCD1Va1r240P055rl0D5AGtGABQchv0qdQa9dO85\n",
              "8rXdZOJbOtEwyQE6Cc+JKPu3QJHOKzVlOEc87A6UxguZB3UJZhNQbANM5XuhMY928/lgTLsN260z\n",
              "dNdc8AbhNjJmGZHlC8HzA8iNtcBPmuGqSeTxZITkNLILXmGw9XtqBGckW+H81m+qVOFJRFoijN/o\n",
              "Vrayf4LEj4T4r59LMDQ47Sf4Vsi+dkkX8C3elOvzl7zkYL59r4aNXmWvEvvKgmmAWXCtIIsS0Se9\n",
              "ZXqpM/XiLt51ybRURUE2SaZ8AAABUAGex3RCvwAFIOLSTKLcRHO/4X8wv4cyzMAEBZV9oCLOD1MS\n",
              "QZ+Krmz1P9xogcwqjsQDv0ddkBmCk9LhnCQUXeEA95diCwn4/aXKuj8fgd32oPZb+Rdmm8sb7rpc\n",
              "hHZH/k4XWefushpRRDttBYn6WiNElQhAEMdW3UsvUTG3BX7XodvK8br15KgPIkVcpt3OOn3OMz23\n",
              "zUjDcLs734DwR+6+xd1UqO7N2RjFa1WMjUUVKLOpzLMJ9ELtbcUhUPWMo6icRW71UyRIf0a03S4T\n",
              "zEWS4ylpp0wb123oBcWnaq75hvSWiu11/95rHNLysY79TpnFEr9np0Fh1Iisy7LnVsQurTfd3li+\n",
              "rafynAscs4eiv9mk2VMjqmZXrhRe8t10ovxg1JAoFexaDh12b2IVQ9YGbcrMFyInuAKuw59vacvF\n",
              "ytAQD4eeF+peQBJYt2BbQAAAAS4BnslqQr8ABR+TMJ9ZJMX5bZbriH0r4ALo1fROJnTH/cd+aB+S\n",
              "IbX3Ok6fwxblAoXeEs1DXgLR5Zv3QTAMtYGnUs/s3ZEjNZwCbOd8Cva2ZCNwwOYqo2n7dR/6Rf+6\n",
              "zu3mVh6+o+O3AZwCDBm1ucCzC1OZmvVD/IRyGDuXJ60YQnrwKIWLG211eq5UfDCqgVETxponnEfo\n",
              "ElVz5Fv5fEJefv3qaqo7oim38TrIar48Hsk34SEPE1zeBuBuskuq7cBhsPHGQKun/dnbPqdhU7cc\n",
              "CyPj02IFVDtz12yTOYKTUzdBbrRBKAhty8sWOlLWzKOqQrkoVjRD2LTmn7/Z+PGDDhBf85ELsdcI\n",
              "noIuKG4FdpFaHSECjTb6Qnx7b95+81nivmAbEjAfw7WQ91QXnwAAAxxBmsxJqEFsmUwUTDf//qeE\n",
              "AAZP2VEeXYIrP/BoSzIAM4lGYJTAiAX0YoSFBnROuNCdSTB9ob70T48iXn/fiN7GufkIOHm//xAh\n",
              "/Tfg9/IXCgp4y9rTNW4PofuVlWnHieyIY4h7dQVdw5mx2VLa70/7lSFbCynkZjCmbXHE/uHrBOTs\n",
              "8P7U5kG1LyjHaPfsCgARsy6Wt9LEZs5HEhKzqZZpxq3L39q6lQPeZ8p2QaMMdyxNs8IeCkOOAGRI\n",
              "JXhlY5mo9iySRfJHOeivsZ7PsvRzW7vi8lAU8Vn6f2KYokYK5sUqrvNiWVJQ3gP6uCy9FeRCfaUp\n",
              "ImMD7FKUfYMuA+Bn4V3MLKvr7lzQ13Nrz2dr4caNyab57XrGZcFiUDyKXj/V4zODHeNiZzfVdIqy\n",
              "DHvSmOZWbkA9nnrzMGjoC7O5ZgmR2Sb7exNDe6e7SI3NoDeBQv+xEeXzgHKlvhSwctgRiArOBHjL\n",
              "6Sq+NUTPUrUblMvCw7l/jznUSNAytIAxJbeIHFP3JSjMqxYSzd58QmPiPeZZOXDGOZkZBuP/qb+0\n",
              "PyEvpNNfA/o45dkMb846FjCk7mAhiVLMYL/I1JkVNF+14LUxrHQjhtxhOwf1KFJm6tjAMmy/fZ9M\n",
              "k9VcgcPMDxZAewP3iY4hgEjNpRvSPF8bjFyhPTh4ab+4b8fK9i87TPNU0eM9TD99IT+1pw0BuTLj\n",
              "p6gkfiPrsGbznmr0LXUAzm/JJhpqOjfFVWfDzb/Xsm1QvIKpwZmDBeRowB49w1EdYPzDlih/Jgzd\n",
              "/XrDRkJVOFjyk699mzf5lmmiKMwDUT7+3pk7LD8jVq+bZJ14VS5SW0P8RZbIxRWveEt/+x9Q5Aoa\n",
              "Q7trdW2HtkRnjkog6yFbSOGT8/Pzqu1yTYKicE6NohNtFyTj7X6JB0AA7BFrt83km6Z5kxqHkbqu\n",
              "NV9/b+0oig5fHXNPp/a869g6J0eXt36hcVlBuFAh3U/Z3ONfZeCPm0PmYdVs4j8aT8q2wpJNNeA9\n",
              "AyC7S1Qiy0TZepio3TXfyYQOFAwg+CahhUWJcIKjcUJ69zMMmymgAAABQgGe62pCvwAFHae27rzV\n",
              "bnxh7wzDN/rPIIJj0AHMu9PESlotQB6Gz66NX9aT46NWqTJvx76vSBQ5LJJ5wvHnL+QXLTfxwJQq\n",
              "uFQRou+uDy8NvP2QA0YKDb5r6FyEXWVTuu2kzXz/9UK6FUcpVwLtFIogJm4UpqujmvqRFEi6122z\n",
              "JhMXv21VLYYtOB6lJMXVddIVlZVtIfYG5LaVjpQROmL/nhfmQllIHScYnSuT18I0O6hmVnI4S6iJ\n",
              "CCgqS6OSlzuAeU2F84ukq4qnVF3fyllsVxclsVzjaXrbFhcxLossxHdmvMLfMKVpSOlY2tTwuqzi\n",
              "Y7W+uXpcPyZzyk6sTKrFgMznUDBu1wAIPiqi7bpyq065E86rxWagT5/RfAMyXOjuN9+VLy04aiB4\n",
              "dmp1nA1UpWV9KZ73rHnIA4jVsm3/2YAAAAHuQZruSeEKUmUwUsN//qeEAADY+ynA9Yi7hAyxe39m\n",
              "1R8GCBwwARNQGcpJ1imFKw5MF3KeDMokjUtb94NPoVVOVYfxCs/VWY8kd73lXRf+6XTir3dB6F9S\n",
              "xxWb1XB+XDjHi0DUadT5TZZ2e12AADE/Kw+6QBYJ/YbtRIJtAkMFlz6AJwpZILa24KD/D5XisULQ\n",
              "662vc8XzYx+K9MLHjOtE2v99LTuHtpIiaLJBGgQaWdRP65jyE173XFFySYsW/8BBmHVwwGX96wUA\n",
              "V06Wh3So6s4lFORMT9PxkJbkRXW+g7toDiOYSo0bTXwN1Eg47jz7S7dxObSObrfN4qhM38ykNGul\n",
              "ixeST0+Aarf7bKvo+du02IsW2rkaVWDnZTK6hEDHRq31NoIg0j8DID6AoRHKHuIAfaI2KiLjM28U\n",
              "dhxsH7rQktT80w04STnGlRx041fzMAMkaQgq9pNdm3yxrWjXptkPtcgMpEZrgwG4ABrhUFeZwVLX\n",
              "ET1JLFV5A6jQ8F9yFF+HrGlV0BJrvGMpKC1gclcs8Pr/Ob+g1UC/ES7vC/a2fXgwGvIbKDHKOKwt\n",
              "c4rUCq0k0W4G1YEHS0A7kfVC71cDrP14R7kF5FI9R5fxsPKVqkZvX1r4poY3exLtN9r4wJMmrG67\n",
              "zBSABP5GSsEAAAEUAZ8NakK/AAC14OYcBMmZiUECADk3ISwJksns19jmQGIf89cUCwAcKTiT/Mj2\n",
              "HD3C34ls9VURj+FTjag6nlddljVB/W3MYG6LB+XG/uccJbOWhcUrXBkXlJDr5Vd1pCEUqN2rQw8y\n",
              "AN0H7aVPUDoOZnBmczZbu9j4NXzStR/O/L1JxBTIt/95LND4Mkli4eXFbGOhKQdIkldOyG+X2xa8\n",
              "7W/rCljG8uzmZlTudeL16DrcN4Lr/OWKnFGeHMTU6UsPHWsPPKamBV6vvtfXa3DqjjKE4QD/+poH\n",
              "DaQbm0BktwMX5KMhKdj1fB/dS+ZVwiR5BlXWRucpUsfVesldc92t8cXGsGEmTtOwU8UaFZNei37+\n",
              "03HBAAABc0GbEEnhDomUwUTDf/6nhAACOl1RABEHoHu6PS2AcsoQP/pLyrU01FTSzjM77hl9g9P3\n",
              "2+fWG2Lbi1dGXsLqzxbOeOwq5X2md7F9aaipIp3WBMAbFrCqrAMRI2xOVTdsrmkODe9+Q72KahEQ\n",
              "yZBgSW16EGxo6w22DYDI9Awnyp0kv4tMcnSQZxH/cqvMmX+2+BzcKOo0I8p8FZsIDMjoRGVNs6xU\n",
              "I6PV40zz620NcUuM9TkYwRfjgjbB8u3FZGF11+uoAuAaRBGaDY0Tbdq6Z38guejbXdj5CrzHWP5R\n",
              "dvQvcNrzr+MRLzoRJ2bEqeD2Z7sMtCrAArcBHoc3blY7BXomrUEVviCzhtr7dUifGYnSZ+I3X+w0\n",
              "HrwEyB6c8pI0Bi939dON8uSVtT1QPHS8JmMKTQrqYyHuvCq54JmyNpUM3+t9QdIqcSmYcAh/yUy1\n",
              "DgnqwsdXoKO2Ls0ngJyhGu9ZKJ/fbogdUP+DCJH3On2drGzBAAABbQGfL2pCvwAB0AHY+U7icgM8\n",
              "pFAAhvUwfPnGpWC8RRtd+5sWXBeLDem01GoVhVTxd91qFwQoNLHDuXL4bxv/bHR1YoYm7Mq6oBNT\n",
              "Zi2hMi8cxlcZhTbEGzbCaZGZx9h6ctNiTPifFH6ddA20zKW58xbMJyQEued4TxEhUzeIazysElB3\n",
              "+HZVcGjXchG17vn+eSeBE0ktq6eAnHwFomZOYAFWvUvo7ry0TO0wHBz9WtUVDXmapLRhlxBsETRQ\n",
              "vnCWePDU9G9cYcmXKquoGzd0fb8f/02havPWNfWPbHb0gVQLcJvsYYHqH37NUegulzL4fk+GhnL4\n",
              "Iojp5aDb7SM8No22fC50U8md6pb/H/Rvlkg9hETgLkseJH0fGkjlEoR7oMnmT6Ik1Ev29t7rnDR2\n",
              "AwmjYe8VXQcbaZQRZo4cm4P5HHiHDnEBdxnFGD2zN6MJQSqBuNhLlDxnUMIxmKaUw2P5b0ks9SQt\n",
              "xXXztvKwAAABHEGbMknhDyZTBTw3//6nhAACOqDxlGaMqzzS+C2SCGiO9FOdYsXXha4isAFPI4Z/\n",
              "8hcfB+ufGAbLFgWEqt3+gxjibHSVw3zpwxEPnn2No7VpYIN+pvaYpJgLAMXUi+v2WZqGGvx715SF\n",
              "ygsFd5X0/nRlHMF2cutz6H/MJWtTMfWxRPvc+Bo7gYd6gRxOwBy+Uyk4KYBwRkF5HcD+qgUvz/PV\n",
              "ZYkst4IhroK8KZ+NYhF/V8I3wmRaYcn9hS+hlvmfGwlvFptZ+bz/tC0IFy2qx7thW4mh5Qv8vNKf\n",
              "JbQk4eeql9o1SMg6JDBs+c902zBtWkwbk3096OwZjuYlA0r37tRBW/P1TTpYbOao9Ws+gUjzvA0L\n",
              "MQ2HgNejeCzgAAABfgGfUWpCvwABz3G4pWB7zxiMQAHDvf5RMS50BSEr40QpkUxE2MtYYSOHGBBg\n",
              "7bWg8lk8S2iK8QkX3DaxLoyFqPKU2pnTtNeKHxZI8x297tjCr+9gzIqzZ2XE1r+6X4/mvYOrDBFc\n",
              "cYYYrsnGTLic1qWoVCmgTsQuhm9S9Rj0jXdcFcbagvmF/qH0jgRq7eete2ftYlnRgjxIR3rHh0Yt\n",
              "ued41RWMXN2mk4dCjkfo6Y/sd3xM6NJ1C2sVtJobHztsj/m23Od66PJLD6aq0VW30CeX+QvDDKnk\n",
              "Wq77UZ9pbmxAyBfl4WI3fQTcbxIqvzLgEgn277OqpjjRaMygFR1SpFqpzxCyKhNyoNesQ2JiR0Pr\n",
              "QKd9va9z3RrtFJg/TuE1wTU1VK3p4crqxRIpvk3Bty2S+OmsDJ5M/DF5+jZ2Wq3Pld3H2sHRe1Ei\n",
              "f7yvH82BTu0gIP3ixmar4l7oKZbb31jcVNOO7ZY5RRUDwY+0vpUPlGKioJDeF8wnQhliFN0AAAE2\n",
              "QZtUSeEPJlMFPDf//qeEAAJKrBBTxb5dqMtVsYUoDfxgr+wdcBOAA2QBH9XaNRMpEPyBfnwk9F6/\n",
              "qhtv9Z/3ovjhNzy8BltuG9FpTN1llpCpslVXaBZnkKDDtC7JaVk9rRnx5bnrD3gfd6iychlD3xFk\n",
              "pY5CCJg6rnx/x7Ox68Va0kG3sDg+5WyXpeZBobKwKhnk8NnEg+V7rfnqGbGSdkFN0mHsxuDMCDCl\n",
              "OcHGLffThgq5xm5/r+3LD/ie0bsuj0454YaWBdua9pMO85tw5lyA/NQ7MGmLl1a8b4tf/G6v/lD4\n",
              "1PHq1/8EDYHSIqsGwGRRX31OD6bjFbRcApAftrBRUUkHC0IrCF5awX6FEji+AmpSOjg2p71ow7ah\n",
              "AvZ5AUcCqlVJ4YdoQICo2ldKUq5YTQ/CHgAAAZoBn3NqQr8AAdZRzlS98aIUZvABeuqOxANtn49/\n",
              "YvHb+sGg8lk6S5GcgWAo/wBzmKjt9/D02pnTtNeKHxZI8x2n1oOLtLr0M0fgHHbeaYdnjcarUy2n\n",
              "Nk/HH4mILUbkPO3cnosLXj1Dq13EjnlkFuB9CttRc3aaTh0Fh58GZPov1b6mWGgu+KnAQAll8Ox1\n",
              "OyOy5rcFBLm66Lt/F2WfpF8fmqAof0PWNXnJp4VWuEv4GoXRqIf59SibDUdkXvc7rR5amaM2ac2c\n",
              "fO+BSH/Ah0dOuADjgI9fGOgTlSpEIu7mfUBFUQXPPIDiH4ys++aeFt/WLSH0T/+XEYZVhJEgX962\n",
              "k5QSNZRlf8CYyywpfvAaCFzwOr2E8x23/J0lPpOc12K10GiDHoUxkPGVNXq6gwd8jKAiyt8NTKHY\n",
              "nvXLOOL5Sppcdt7QOzvf21lhlbxFVPT6x1U/+tqZV994+zhiXvlsz+uNdmCn2i2PZFBtUnI/2a19\n",
              "P1xmokD0n2f5PLpkrvlPtCW+gC+B8fq3EQj0X1P/D76oLOp4YYZypgAAASFBm3ZJ4Q8mUwU8N//+\n",
              "p4QAAk3yNfh+AMkFUjJWituABkwp/vn+pf+/FkJ/0GG3RN7K+XsKca6LxM6QYN69UJsAozlBtm7/\n",
              "ReT5Q9ta3bXEy4UW+pioOJhIYHlNZ+G6vx+oVi7Qj3bgiIk8F/yil5+LEQQt48LH2qw2IGWUXP/Q\n",
              "c/iw2H0AaVAZ0O2brWNHpZ7eQc0dCAucUZiIrTsZea2X/AoLpE6J1Cmd/e0G/FEcJWCfkucGWhE7\n",
              "Cu0XmhP9Sjj0p+UEtX1AmUc0ojIy+Z+9MjcXKPfm5w8EI+aO0ZLwTQcj+nDdJWnwOKRWbr1hXvNQ\n",
              "+tN4F2YfZGs/i/AyBEOw3Lya4CYmnLaddJoJ2gqIPTfuYaK/KgKIC7bdZ0TQeCBhAAABWAGflWpC\n",
              "vwAB2wMs01TcaMIMIwAXrNIWgoqZep4vsfsTORx3zZxLrzzkQV6uDx/ju81ItFMjQGSjG8UjH8RP\n",
              "ZWnGwt3+EHpzQqh7TXMhztxujkLmKWohDi68d1ib45EJOcBxTalmGbuv6wO7+TBngxAF44Vaoqkf\n",
              "YbvPmqVaa7iIYzzicGn8rnJG7NQr6635ki6MCtjjZ7T+qjys9SavXSojdi2luG31OJut5nvVfSIF\n",
              "TE2n8FLinf16f48UVtU8aO0TnPPwwmVGnyisXPTQjzd5TLhrtza8if9zSj73zq9MD19rf0Z+5fX1\n",
              "ZrPJxkGHcjIPw0alZAeRHAm1AbvueKeLEUcACN8kyQkY8AhdgSrz/YLJ5DeV+bv8OdlRIppvQbNJ\n",
              "bDOm1PX6g6Y5XIJB7VBt3gwr2CIjE7jUjIMwtKSLmLdDn7obVZ5UPNTWEqr5W60swHo1blTAAAAC\n",
              "g0GbmEnhDyZTBTw3//6nhAAA19IgqtaaIBatEYXje1msNJWteKpHtTAkjmScRlO/3CH+bpO8HJKu\n",
              "/5JT/HoCpN1g7MyZvo7v+beRRTCFTGdAAebDZx6nkyfGWG4buVt6UHleoC/malScWj6w2hGOwBSP\n",
              "sNMIqSYYoKOEBCgS09aH6N9hiEYmvdRaO7rdatKOa4FXYVTQIv2FvkyaTjxS8u701QBLHRmzxrlB\n",
              "uE+UUZ1nYiKcF+nPYZ4p+r5FeswXlf+BCPypJjHePdWO0MrX5vVQAo+Jbc4VDcgwtL2V5fJ0MdYr\n",
              "0TLuXojLga4yfu9zPTLhU2iRj3LoEFkeopXAvMWUdYKiauN5aPnQFdVZouVSnSSk+aN7AcSBpTmS\n",
              "sV94dPLIvrMjvb22w8DDRXUc3m+dfC3MTNqydPOj0SKIPkmRBv0AuVTuXR50UAWQOA+Al4fZKof/\n",
              "glgVEvjsrM1yv6kywtycUG0PENxchehjdtmMJFjFk3XNuGtfeELHpMQram2PeYcClXUxuMh70d3E\n",
              "6OK2v9bey2DmZfhQs9wUOpEIOedJ3J50qon7BYEcAxmnFOgx13m6NFmt2gjVffC9uecwff8SGmw7\n",
              "7eZ156332AiG8GKfVbV0FFJDqW4CGj8aITCncsnUSxTB7oOq5LYUNY7vsQ+Pw9QWuz2kDmjgBMiL\n",
              "Jcu2qH075VTtdWvB1ke4Ktqw3YLJIzw2UPqVkIr+8ngtdNjyFuAVcIJMP4WFVH3HG0hRe6k3qTVd\n",
              "Ftgdc8fl+caf6bqIvLtftqJnyo+35q3WHIKtXmtqDhLgiU4mOUeWcHP9bFUV4mEd8v19G24yHWCf\n",
              "Tp2H7KXq/ykZpPi3A+3L8WUAAAEjAZ+3akK/AACxV7lxaAWxEeSJXRd/qE7t4FMq253Ev46nMwEK\n",
              "OMMhxeMMzdBKbCix4znW4/o5Glwb8Jo6ZG/9kj2tJs11HN9nsr7BgA5F7HTdxb8lPbV+A9ud2JrK\n",
              "rZvZkSINw3BQaUSDwRPQpEmqMeFtMfNSLSeLIpzQQHjzkI0brm5QBTLIbrh3FcDcNQ6MaqTtjZ4j\n",
              "BW3wrXS9CdzkjSMzq1c7S0KtfTajJs/hO1t0b7BvGWheRJaGHQ52cwdVPA6M0zE/CwtXe66yzGeL\n",
              "SztBeELBrUyWEhCaNkhpLGqlCTl/6EyRmIBKoFrHa6GZG08XljT+rx9qg240CtUyoPypEgJAYbPH\n",
              "/A/KRsTa+9UdEK0mZTBPQjEemTqwbFCaZUPBAAABOkGbuknhDyZTBTw3//6nhAAASz/xLfbp+WCU\n",
              "lwAFtTH/b4nQnMu805l7VV5bI+40T9q2ER98Poy6vCN8x0FTT+rmOxiY2xdGqnHlGu0j7TOHrrlC\n",
              "LocaCOR17q6EvMFdVOK7pQ0Kjbsrw8Ie6OZ9DmWyBT/lXg4ML57RAhssFFoG/Zd7hnHO9U6TsE8A\n",
              "0vcijwjAc8aLW/E4eU7DmAaqFwQYw+f7zblbakZf+TxwnM47KTEv+2M6XRql+/1/ToHnG5+hccdJ\n",
              "HY2P/uzTUxZGfbNSc2vrjKz9RcYS0OC+M5+FVJ0kMrJyhSb2RSRJMRSn9c4ODpm8+WNlS8SytUBX\n",
              "dIHDh33Sm88PyAG9kAXmt5T52jgK+UDTngA7YGGyh7aR1DancT3gb0U5WDfIGScKX8TT1oVmdgNU\n",
              "IGrAAAABRgGf2WpCvwABy7C4tlsKABD2vnG5z4Yz3BIiD0M0sN2eZzMW8Y+UmQN3zHCjCYO7RRtl\n",
              "shUpP9+OanchXJJ1qMCNx/A+XxNFirpTRIi2ApAheMGyUq5wJD75iLCBk59Aovc3NNhTJZHnzsKj\n",
              "jTIInSOxerSZPccusZcfs1lWF/IXMVcJ6KExx1yQ78hlZB46kreYZOddQRrjeoJnIV8G+aGwUlEN\n",
              "Da9DLvoYIlNlRKLuAQnoXgwH1yMXkN2wUuduQbI2RHCUedEfksv4hz+Jnt/UWV18CQnPURAAD2Ke\n",
              "a0avSMl3Y4rapJwmOfU/YGjEY27VMnWaGB9b0pXKGDbrlvqMdiWq3nDA1kCQn0wNaVNoePC3QQI9\n",
              "fwsoaR4vrnPz+7xo7xBBXNP/XZZ+/8Pxyet5Erykz9yTAyLFU3AgQN2onB7UBh3RAAABsEGb3Unh\n",
              "DyZTAhv//qeEAADY+yn4LiE93Q1PAyde79NxuVCBwZFrcC3iqJpZ87bzL/UMQ4trDxD0sb8D/VUn\n",
              "xl0wqg1ZUHw/X2/twAmJ2wQ9KoUFzhi0tOi+ZmjWkbiKf/sqUfuzggRePLqj4Fxd/DIuT8zA5qR6\n",
              "7inabfCS0968YDjtd7LO2kkMf8UMrYY3v54raVspSFt9txRm+oN1pSEn0SfUZCedwED94kZ+zATz\n",
              "Z40w7mizaJsLRc/t3SlX9stXfc2RBzUiCj+RGMaXh0vXy2UfQhyiRMTXiUMDAwCMHVPP6Oyvjfdo\n",
              "A1ycsbwu+Q5+ix9pa/IDtOEKGL8X+Oewhhfe7hN67jcmaoO6YhJEZ/gu3GugJ8yonfEs4eBdWYj3\n",
              "6C9Dy42jb+Wnf+oLPVfVz0MRRWzPPlAV2hZ9vIMr/3Ff+dlC/jUmsb/J+U84azQt7ZcYr5r6UtsK\n",
              "uA/jDv5p5f/0Y5yULQeumwT2U8c7gduEGse+1U0rGoczGgU4hoUBQO07FprII5erU15lv6O05TgW\n",
              "IabwKYetpgjBTfMzi2BTma2168Nn9tjoHiapgAAAAX5Bn/tFETwr/wAB21bZr5HTACNabZy9gQnE\n",
              "9XIPcAh/BAHXr9HsI2oGTvJQ5SfameoJL/mDoKSsoS93jxHwbQVG/QGXoEDAZYB+twk7awIGDkh8\n",
              "vOWeKUi4C4NtXe/xWYWJpcf0YOyc5S5x6Dm1Dql8Xb9k77aLS+BFbX0pxjBIDdbzFT7mq1RF01gQ\n",
              "LCsOb8Hc2whHt0T74vai/jDEPGRU1Y/NEm9JtHxp3s5vHEFSscp1/hBh3qXDe2sUFP532LUkXly4\n",
              "zPm1fKF2U4An0cVMGBdlcZg19ya8tO19wkINH9RrvESnCgrEooE0PHze3QhRrxfTykEcbgYMCydf\n",
              "Zx4+P8kfZ1lhiRgOQHqiUTGD1o8rANykgE4zYt5J6xqLwzQWtJMguoDTvAYe3eiiR10sciwxQwXM\n",
              "iw7xy3PjB9jBd8wTPWWOz33hXa0ZVsq6JbQqaWvnqXSaZHVQmxtnK6HDlTXjKl8kktpEluxvd5Kh\n",
              "2Up2T3sF7T0b27ZsDgr5AAABIQGeHGpCvwAB2wImeDYK/GlwTLVBb/D16mqD2N8AFvTUv67PcT4D\n",
              "72zurG9O14wn8kkB//x5p2YMtJ/dSe2CwYEnn7hPhLYx8zKcqzW6VJ51UEeP5BHF9nJkLTM1rTEh\n",
              "hR42DXFTwu7xHt2CQp0jSS/x6sWcWd/T8m2UU3wNZ8i68elV8GPs6Gf9mdrQ8UnKtkE7v/g86nXM\n",
              "pTTSby1OGDmzPEPTSx7u8t+9mXuReb8PDhX9Lc/iE3Gr9PHwWKzF8/wKY9wh3LlNDTsXnCtfoZWW\n",
              "nFUFw5PHdEaSsGaFrLYMSldcV00Kd7xGDWf0AJ1+TIbJ9nwpZKPxM7i11TNDVxNikRZY/6j4EBdz\n",
              "DtpghhpZo5J64Nz6xOHYnzdUNUzkW0EAAAJdQZofSahBaJlMFPDf/qeEAAJKoPHCqp+4ZimIAXPg\n",
              "6amrvdCFsEQqe6QEvMntorfiNbK7ahlCcpVNharKmq762eMirB6gTGf5RjOAHSULu//zn96lp/yI\n",
              "vf/j66nk6lIw6+/1+SkhHu5A//xA8/twD1gR702wEVNyaRv+5+w03UByhPZtUyeK/gcjJ9t15tsN\n",
              "PcAy40qerTV8jhZTeoRedV9f+xA+uWUfkMhmuBcgyf8SBv5aKTTK0vLOreNtO7UYcdFK6fozeeU2\n",
              "1+BO90LtLMh6ZYK2MPLdZgk0no9KWlTe18gMIy/+ZRHkWTyuJixmeOXIFd9WHy7F2C7NuyBL1xiK\n",
              "YSzACGy4jSQNZXYLS1xxObsT//ab4tSStYlm5sAYFkRy03MXomLletRcAiY5HbKg+1mdgSqp0kB1\n",
              "LebOuxADYjmL9IHmIauc4tiFpphkTWRR/1L/gmMc/8OBPqOWGXoJZVGvYgvYraXfnCly/WW+4bt6\n",
              "FBgrNUANrBKPp2lk5UiGZaqIN2fkU7TtvriUrA3JKDkANIdwKhulL2/vkKTVzJt8Vl0+OIoJ85BU\n",
              "Wwwvz5fzMgKn1pa1v38eRIMKF8TcStHqsrvnrY4KTFptPbx+yTCNd8qGS7g07RGguO1g6VRz3RAY\n",
              "ch7Txb0EuldiecJ3PrI+r4CXt9qokheaAhW8EszuivgU9D9ZxTXocjdeyzp1o1Mrydk2Dy5filwE\n",
              "oomTZ7LvTX56pRDQR9nMJ24dFunHhrGp9/SdH99lFHh2KRP5NKupnwneipetPDWOqKh47AjeX59Y\n",
              "rKrwqYAAAAHdAZ4+akK/AAHa/uz6cW13vgA2MAlZcrsM/GC5Pf0Yxth104IxBHXeDTMW9xnb2HH1\n",
              "Z635WnPBrBKJgaHtsoqvqjDIuRDpDIy8Fp7/0HNTe1XdLWsoTZQh1v6msG3TvKWtUDDcykR9uAL/\n",
              "t6iq/x5qQNe8YYGk+sXPdwGtLs9qsqoNSmgz3sWabYTCrQ1SDau7MkGebQzoOagwbBXaOdctP8Uj\n",
              "lS8aJ5qE+M5od2rfuBSyl3lEeSNOn/YrHbVF9+YcBcNNkwcIxh+vTm7k4RCYRe7SVZOs5DEBQTd6\n",
              "+GxdjUdMR8UKpXNcwIcKiYz6uyuqBrEoBFhp8nD5gEHPFc4q/ceYujwSX/qfcvuaTvecFsUgz2KF\n",
              "C4HnKEreigfROWlkeOEsvntzXqJctVBnwvjEdSsq2YNYamXHmBwpJnY1sVd8+6XLfb5gcUoliR7F\n",
              "2p8MHgS5Y8W9UtpFreonW2eB7VMoO6XzXkE+xl2Y7ADyGPgx7VW4l89CwLhMNRvj+gxKGmK1Ro0o\n",
              "8p+B68GMSl4ABOMHdz1auBEItaN4D9+eBq9qWZsz1QMk3WVHr+gGEBvuX8cSn5S0c9nnWPOWaDv/\n",
              "kFerDEjzbg2oR6ntZFE1nfPHKIqUOaeIwnxYbkfAAAACCkGaIknhClJlMCG//qeEAAJN8i2ygQAI\n",
              "g9A93R6WwDllCB/9JeVammoqaWcc4HfY2HMXX1woqSuhuOfOcChJJUhBfjtkXTEYEVnF5R77ix7G\n",
              "oSKUFDsLKTtHx45Zys6onlLVHumgfEGoLDmuf0qElGg4ueY0Zdm01xBTpw+ICZbjdp8ClFv9gN3B\n",
              "xj+UB/pppe/LUx34AUHhPBMskK9SCnTNhr5imyR+dpmnZMuBxe/8KII4rWC6EbipGXFDxBK6qsV/\n",
              "e6LJk5e927eayvpA8MYux1lIX+1TaLaR76otas7Z5PAdCdGcQ6mvDQxVJ8e4w/gQ6QNcy+Dsb1rD\n",
              "gvBm0aNUS7cP37Aoqz5hoND9nuGvUAOzm2XyZ2EFCimQ61rqa/6VgxcThmUqkEf8Cipd8GHv16UC\n",
              "9o2NkoEDaFYO7LizKa1r9hMCDx25M2T3Albauy+6lxEtSQcTVROYg2kY9gmv8L9860Tv5CN6ExuY\n",
              "S1wzNfqa9syo2EK22+Dy4VIeQVjKK7QtAugwQa5ev/2aYhNLUgnBsn98IuXOF/K8DdtLfP3zXEDq\n",
              "T4ERfHLEq11ZAwOtbZ4aSE2JLQHNv6N6pPfGnkUghgGsBBAEGUsZpK6hX4Wlygg8+w4wF1WmElg+\n",
              "xctJ4H2vteNlGK2hEWX7BRh3ax20+u7i7InhQusYnw95BIWxYye4qTlnwQAAAVdBnkBFNEwr/wAB\n",
              "22S8iuKkH4MbQAazy8gPUSxOKZ89S+176A5f/9+W7Jh+tqUgZA3mnt8DztXOorY0cyDcxbkryNDS\n",
              "n6dGJx6yTAYkH44ZlT2L8SYr1HbLA48t0a0+iROR9WRjhF07R0g1OtNDl+rGu9OgDqe77hxzHGIF\n",
              "CApjfNTAh3/tHQ3ljwxu7JIx+mOsQDbA2XNCPE/clEElEdEts7DTYzYW8SHr8pvKqal3cyr+4XmQ\n",
              "DrNlxM1hteAY8tKS/q5T7j6aPZK6p3Ija/8AvKmvbYVtwwez26kceDI5UPuioaDcpA4ZJx6Wce9k\n",
              "dHe/abLx57rqRHmQMS0lJ0E+3+HevBwViJx++Em4RQpp22s9jkQbkcHCijQahhV/nWSXp4hhdCIX\n",
              "6FihdFqmMZev254iHb7dACyu3IHf/xnbwj5OfyaarZFJpa0rXbXxZlnZOnQXwwWUAAABvAGeYWpC\n",
              "vwAB2wEQHeVqIAC+tpecuB+33G7jf56WOUro6f926CcSKz3QWAsVaQIQuZzwKEBxohSyrp93fdz0\n",
              "/W/kN43hfvIGrW3DhtKZ1agrZQgkjDnbHKvm+QmrkrLUvHRgTGSEt3OsGBDOkiszrQquqdb6JBFI\n",
              "K8rpGZ8OZl1Y203DRQJDLsW/H/Y2duvnLB4lqObSzB+4I0/VcdJ2QCxROdXQslyVK8qpFaPaqRTD\n",
              "xrLDy4/eOl4WFIlSw07bJF0tHnnn+w7dO01zP/22C4qjP37tUvMYwOvLBF35yGw4naw+nPZw2RIZ\n",
              "y2rB0oyhY13QXWR47RDP9UeEqM2V+0Cmi+mM3+GVQGYXz1eDjr56LfZiHTmqrCPxor8iUD2y+JBP\n",
              "6CMTUAacpm7K977CzP7tC4x1oXcGdq4DSJhlYxRgJrRrJX1ZOPIpRrvPo9p1pnb8EMwL2XnZebiF\n",
              "tk5cCBP1eYP+Ik/S76GU69aENzNW+yA79G3L3UZqIb2PYmD2USIMM9/bGmWXfuWOeHRBo/17TzIC\n",
              "SIvFuQB5yZZJ7eEzVkcjcJg3NgyARISCH5Hf8IdNfUF7yVe/RkQhbQAAAYNBmmNJqEFomUwId//+\n",
              "qZYAAykdYIrOm2CgxrKp3c9Jyu7gygg3pDncE6IABo3pxkMboWjggTdogGfp6nlWda3rcO9gF2H0\n",
              "k7CVx6Lg2tkHfSWVBhgT+l4nG+Jg1Q+Kf5zoIm5lt0Dhf/tXTwLUPF/TqqG1yAvcUEUQhbdDN6y7\n",
              "/8/bVmJ5H4nRCpYQgm7DShp6TUqkRkBuGhjtpDFyoDWArXWOkP0M9h5NnCc+7C3mHqwdoWqUqk6T\n",
              "Ix9HSsBF238s92mo3vzpTWzNbBiUDwDh/ZFnxe6xqfNTIlC7ICgLXWqlLG9mtesx/bZNHAMBX9Bx\n",
              "KRGiLVqNeHtUUt+ntRtU79dhMRJhwjrdzHlIULParan9oEasq8Uibxzj+1RNUNY8gDjriJvti+Uc\n",
              "+dc4XXhHstPxnjMFqUOj6E2AE7pMzav3vXYubFztpqmTvni1CJUI0bNlugfsVYsdLlAd5pk4Ok14\n",
              "p7+yIv7Bw2fGO/XgrDylDv48HChCg7q7prffvfHKiMoAAAIMQZqHSeEKUmUwId/+qZYAASB050AC\n",
              "pbbPyIqkf5FFHJ9H7M38uAR87Xq0XLLBQY1jXLd6xG7Nrjb0E9JJaRuQCFevp+WeR2X6wJhOyx0/\n",
              "/EI5s57gilj9/jcd7a+yxkfYLKg7PYLL0lIZ5Vsq3oHrrZG0XiUddv8oWfll4ZOcPpp6CNF6+Wdz\n",
              "KJQOLjR4xVtpU7UymaxPrGMONdLms98BjhNBfgBkuSzuTfXoBDDH+PJY30NgR2f/KI4+gGu5zVYo\n",
              "9TWpi9r8uIDVptYBFmVy8tApydmkjSKBpPI4nFPNOyt9CbkDYDFNAcskAIY+lf6Pebts+lgYo1Em\n",
              "jf6PWzxPrX0wdA/Y1AGiHZ/UbNHVpYMM1jR2bDU5/Pg/hr0dwRJBKWncjBRxboOQWbjbeKYW7yTF\n",
              "c4YdysYDug6Ztd9aMHvtcC9YUVsa4JN0xIBwR38XXHEIzJIIn0lDChaT34z6Pb1hx1Yd1uny5Xna\n",
              "GQqmUQD/xgs8J+XQ2euCFxnoD+mFFvu9r4uigJgpk7DIzSwg8I7m0B93kHYripbkySjDoY0A1n0l\n",
              "hGWOmNuydM1TDoEVdZCLpBBf6O2JrvoaCsnQ0EdscbMcV9EWPB/B0wu5QGVky1OQDuKRTHyjVj+P\n",
              "+udOoek70g2HkzFp8KbiHjQ5TDRUhDfHLl5WlSIquBhZUzTRyxkG8bLLkYqyPCEAAAG5QZ6lRTRM\n",
              "L/8AAWKdqBtV1Gv74Y/GTwAJXaL9KR8QRkw/MFrlZYZDH/uuC5ZPCfSsLLj3abIBrbmPdBfbaBeF\n",
              "4EHGSqfocG0/0qe8Gb8WRwT//J6tJ9WVhd+2OB1tzAVfYpoB2cWa8F2Hu/vHX2uwQP8VvHugnhxw\n",
              "d8Wy0HCuP3Y9eKcEEDhHPga1a6ULoeS0HKUt8y264inXI5LDu3uzlXNakdquGS4OBmzJzNoVatA1\n",
              "9GgaYA3JvInBN3/QuXfnPj3XO8fW+l2V3RmRjY7QwpD6LPtX8qL2lQSNg7tyXGxGQuy+TNwH5Eou\n",
              "v9MXugkWLFGxPwZQrnrkU+1IxkiZZ2BGwiNlvHW10BuEnT55xMM1rbZHL06AZgx66Tt2vp7LoqdZ\n",
              "3easaKvqggsLFLvOAMVMKnRyip+0P1W0IgNTeWJvJ8HI2O9VRpWDLuZrXDmGiXNqaEnjrURwQFkD\n",
              "7d3r5nfE+jnZWycqn8fs3ETwevwgBQiC0SHg8do0d6AvAuRpUZVfnaBH9UP9JknXfUykuMe2Vh3M\n",
              "axQPBwtnwX/z5oT4IXeX5s0G+XVC0AHMK0sQvzvwbEQWtzfNAAABEAGexHRCvwAFIOeCWQw0Dsnq\n",
              "qRTlICly9VxfEvISw23tIWlT1hMnTjc4f524dTW2Gtzl2wQEmj3goPlOOn4V5WZhILrYit9dY0Pf\n",
              "ITBdOaUJlyVlrnm79pgJ4foMgfRWJD0mdZBlGGhTfCptkqk86kmS9KA+jDCEzuymgOFpXmicOwMY\n",
              "BeCUA7LaV7AMkZwMigT3nWjze1JNRckc9DPtAK+jV8l84AobvfYxwedbHAzpU5ctGK7v0fNriUFZ\n",
              "03iJjg55wu4xM1EwJgNw/BXPLKheb62TCgNAzBhHxX3jOQn1ThB4iC4tQSCDAUU/FihrfJaWes63\n",
              "AvoZ1HBcmvT2CMBHFlfAp+89b0l3QoZYS/JfAAACDgGexmpCvwAFIOeCWQw0DsnqqRTlKLwswhc6\n",
              "JfH4yAEBZStrzrHYGCrd1Q521T0TOeau1962WufajOREPQ/AWC7tqBl+K8MXNFA30skcA4mSFITQ\n",
              "/TdiFpFB+m1lDEfDCIpYXypS6KvuOQ+FLvQVN41qUnHyyTOkAPjkEb9fZWRPV7q5pRJeJkQ+Wb8P\n",
              "zVlhubzMIKDXTIXZ7qnie80QCLAn6eczEoLd61VjSC8wsbzjQXYPGDYuBGvqK8TUTQTtOrCEP5Rb\n",
              "UcQ/YSKGuywZUR250TI39sU2frCPK0iSfYqmAHqkMjbTvKZAy8Tl4onYhGuPixuL+/ya9NZfqA1W\n",
              "+FURrxOTmJAQKE7rgRyAeFxPz4LqyL/Ipq/uU9CtsCLx0SCm/Cj7gJbJFCrRfHzRAA9PA80n/oh8\n",
              "xu30Q/Z5nGz7b7R7fEdvj5jaIX3niJfkjctIHEfLwcGUGmSG8l6sMR9j58ghVvOMZ+/FOkvF4icV\n",
              "cTFxR2yLHHy/vshJqe+hf7XzHsrmB6SS4yGRJgGtx7jwAGHd3vwMyFUaAzyrf0Gllwf+PaVHQwSd\n",
              "DYZNMjk3MUF175fVvBJfp2NWwZ03bdC8jhJP7y0PWie1ZxiZzz/tFIH0ZDPkj9/RkHxa1krIvBo/\n",
              "EeK50cbdlO36nl0biDIn5m7eA/O/YHWG7M5GaV2L/vql8XkKQm/J722Ax4EAAAEWQZrLSahBaJlM\n",
              "CG///qeEAAZP2VEeXXlPdjbDEaRWdJtTAVuLxgPIyCgtWRUigbDrdFytz+Rp9YMiV3VuP/rDHT6S\n",
              "r8KxPtVUwlW9/f/FqYjaIP7JJuuG2ZMZWN9qZuOzz4fM5PpyjBQcjWVmOL9++gD39wm3GCFq+JmX\n",
              "E3F7jKboX+mj8I2x+Yr4QBgaKWw/x9G6Od+9VUp6/jI3/FFG0P/GeyQMaoo/m8nXlHFr45dyLfiw\n",
              "eTVy7wT/+YmhbV8Xtf545TsEiy1NSkEUUQ3qdsKNpIXBOA4MtrcU2uBaSQ9qzS8FcNmnPabRusPX\n",
              "mEsyapo5TkrbsCs17ZyCLulfv+lNNboNZMdyiX3KOBpmRNCHBjcYLOAAAAFEQZ7pRREsL/8AA7fo\n",
              "164RkjDyTHonG5N/LbrbOvEU/+3W27CnJDvK1UcDQsFzIQtsAC65cJg0nmZd6ZIqvEpYNzfsD901\n",
              "lIb0Zi4b8qn+nvPaoUHZTz+EKTAJHkLR2z+35uHHzpVSPCkrA/E/QSYxP0/tFmyTYRo2d248QXHY\n",
              "03nDOdbxuF/l2nqpLlz3puslmx7nKWttlJ/9fG13AE+63bPB9KeMG904wmK7ErzlfvmxcbhFl8Gh\n",
              "E91RYJmWhMjnrH2LP5GrDNGIw/ggLd4vmdxM0fab0tHgmGJPOoH5iTzIG/NLmEYbWjV9e0ID+e4Y\n",
              "fqew4BNcGqyB+Boupm90i0T3F0mqvexVny47X/9MwJKWOO5prpqMQ8jlxMY9f1QWmkk0pqeKLnWq\n",
              "3m8xnP91c630OjVCi13FLid3lrA2DgGpwLaAAAABLgGfCHRCvwAFIOLSTKLboT82alVkAqgAaDxU\n",
              "SHSJ71nbw/XsC9SxmHejiEzLYL+wgwxstAf+TuHmgPTMJSdmDjWXsw4+RiwP2jmv+WIukdQBwL8D\n",
              "4UFNV4QoBwB89V02143uEzJdFqkURrafV4pMclrpjqg3mw0GNyilaL8FPjdoigQQiz6Vstnc94zx\n",
              "IOjAw0FfEBTz/QwLSeJi7XaVkNJsClVbR2mrg8iK28QdI7nrNicITVxIdd0WaMkzb4+VcT88k7Xf\n",
              "YFp5Fh9jHJG1vDaufgulvrhFpMBviOeIYMbPHGYeTqBxVYmSDKi0eTDye3k8MyG6WvOjxk48Jk6a\n",
              "7+4rLvqtvStyFD5wKmwerVIg6EZ+GiZcawZjFyMZc6YAzDQEn2tPEa02dGcCAwW1AAABuwGfCmpC\n",
              "vwAB22LUvi3VASABD2vnG5z4auDZnjfOrnJvhS6GaWG9G8q2QtnVLetQo9DLB42IdYTYRq2RgfWB\n",
              "QO7iVWDNGVeiwQ4549vXyyvstDqlnpnBDZ/o/fk839NM9J5OcRm08S/WGypn/zX+mjAVJ/2/DhIA\n",
              "pqXrDdq/ssCU8a48ENgZAELp5FVWKZ3xSCssh1+jzaHRsEzIINBysSoX+2dyQ612X9scID4IHcWx\n",
              "PIqw5xE2VOH48Ww1WuDawvy9eBNmB7qMRfJVfUSyMWpRxgwOt7856DJpIKOqtiThIUttO69hWf+g\n",
              "42Jjdu+/EVcdRt5cxjMnih7vw5K/bxNaA6YYdO0Wg77MvMdp7nhlWbQzIjf725RkOzE77FMPMm2H\n",
              "n1Qw7N6MLZY8XFCV42OXiOPYdvS+4IsVrFoHrimfP1MhtQ8d8yggs9dWJ8qBpFm2niI98nSH1uvW\n",
              "8UvrMMQKaIsYYoC6AjTk9KEfpCiOs0/rDFx6J3cta5ReIDMaAsnV9qCdD9nhyWTGfQELt+8k5TJs\n",
              "QGllld5mrNY/fjXoMWMgr/qkTG9l/ErrG6/8/Be8ua1srsbf4B7QAAABLkGbD0moQWyZTAhn//6e\n",
              "EAABPgd9mpqZBKWCLiXt0o2DvwcKMoVQ6SLNTn13Ep5Qi26sslpdWgc+/KGh4tz2DK/B43ucgAqT\n",
              "fnetGHeLrEDEuTuVSUFyVHaGzTjg1ebA96n2r17/JIfaSosqnG5B9q5ZIb68VvtPVCv/NKJh6Sqb\n",
              "VFjwXaEliyLN1G0UpQ9WKBmXxUFBHxo+77hLTH93JuR2YT5+pr++aMV3TSmRdo67GNToEd5gkgk/\n",
              "8Hpym4uEAiC0A2/rRAwufFdoHZSlSNcvsKkb4xXuUu/zGe8z+S9t48hVcJth2MY3yUtPPWGx81Jk\n",
              "mhDFGnZZfUvnPe4RI3p3M6Gq+oCq6uqVH1D692GCFzZyd1LMRKFxzQLUphmztvmgKHXDg7bcQBvs\n",
              "4/nLAAACDEGfLUUVLC//AAFe8X5YhmAAB+58iyCBj+gXfJOya4Hzvs36ZX9nAJ7CiumYNkwBPlAZ\n",
              "U7V0nc99zDWbbNia+tItqo8jnFKmX9xoJyeKQjqiaLQLCBgLQEn0wqblwSJr4de1eovIszR/8BMs\n",
              "8lgwVXKEeVc3oQM0WqzoaOBkYVaJpcX3/ReW7Th0SzQI5Jwd9ZNjv0vQL0SXbjgWToj2GGVYFCAI\n",
              "ojVj5HMz6JN0MA/K9yxg4WStFEZdLs3qWD8QRHLoNYfkvatD4Hmr5kSkDCLaCihmkMP8XpNBg42h\n",
              "FfRHN+0DtK3nQTsSYIagIDVABNoyL15AEavZlIGVr6lnEtrJyvw0XZ9/leqT2hp5UjkvhpXW9wnG\n",
              "2hnY/v79awtVI3GMyVscHxbo6rGuDrm1nCMONvqpR8jc3IJsCeLrs05fYVozfSou0s6z4Q6pXmAe\n",
              "8ZxKIqhoU3fdCSVDnM7067SjtuF36PK3TvXIlTrfXRsWPKMk6tbub4C1fyAGO9iBVBcwQGqDxjsi\n",
              "hFnlzDToCnXwzydQvmLUTljqaSfGw/tsf+G3x+QptTQszqT6T88at9+3DSFGaI2UzhqfvFbIQG+E\n",
              "jFABfLEanKm01UtRCcuZB+UmoSI258aA7YhLgHh6MbwI9gHxPyETMMljtO/9JDTZL+X0zlL8NIQM\n",
              "wC+yEwpl9HvUzLlIk6TwQt6BAAABsgGfTHRCvwAB5oY/uaDcHWZ7W/mKyam7QAcz+nh5WGjoPmYQ\n",
              "jrnr03YsJxL//S0YMoD7ZYYvbsW0OcCDeA0+LsVBFEl1CTtYboC5Nwlw1jETvtIQmL9Y7fjCiNqX\n",
              "wj/+8XLFVi0JToIEOTCohw6b/nGYfSS9/UhRU7vT253trxqtNYN11rCgU+rShmbPr1pKHUpJ/w/j\n",
              "8K3ZR1PxxIOWRv74121q1AKb74zNxBftIy9lbmCKQO6SaffMQ5BGC1Li+oKdDuz03grxNMFc2uIQ\n",
              "CXS45AF8Zd3DybQEv9fVSU//4JZqnAqARRovO+MUgUPXxISYl2mcbBMkUenRkoddC9lDTlrDQgDf\n",
              "Ny0gXsnZdBBXIgm/o8+NraAhFvsyFyMb7SlgV/VWCLbZVTzqZmRTDlUlhrnsXhrYZfx+5ij3Rnw1\n",
              "v3hrnqJUFRMizocBS37Hbe2zD0PwmzbQ0pVGXTGpB06O8EVJdGb1rIv2NPddpBSlKskY9Y6OWWo1\n",
              "DI97u6LACXO9/Y2X15g3QtIDgOn1B539TSA4sc3QXbbQyz4Rdy948/XDQRhUAfLrYvt8veE5Lb5h\n",
              "AAABmQGfTmpCvwAB5f6iccOy69WaC+uLZoHwAcz+nh5TlU9FYG870AvDNTO/J8e8BTt11Jx//YNV\n",
              "Is3ALmPKTYtH8jipYJuOLViulfwIaZuEuGs0u/jrzbxJXKB6Ii2+nCvoInNDBfeIchl+Ila11jZu\n",
              "x+mJYhe3iezd+t5btEePDrl/VIHmkdzhu5bSL9jva2vPCX1nLx60rUk/wgchTepu5bZ5lf/SIiPp\n",
              "Ob1jo+I5ojrOsNOZAek+ccRI/C7wOs3tt6AxYNbqYTT6pKwFzqvRWuYuSJ4lz2ujifYdJBp1arRR\n",
              "Ot9cHym0lY0OeLFnr401NU6AUDBAF8JSzbQV/XpfRYXZ3qsRIcWhvzuulz2XZVJIkaMC/Tvm0eRx\n",
              "pMK0ngXfFCrqHdEpMHzvVcDtmzjkxSFZigOBPY9ZrAZv74kzq+qDiF2ruOVFd6iO7yN3GRMrpSJZ\n",
              "rmBueKh8J3EPRWqY5FSR8lTEJrYbK1/NreeODkhkbgBWBQnnIM9pZs8KUezGJx1wY2Xc+PWdUWmO\n",
              "mJ0Zi8GbfxarAN8SyoEAAAItQZtQSahBbJlMCG///qeEAAZGFAD+ONGeeXOLfZ4dhfm7GzxbVTcy\n",
              "pGnfU8NSckWHRRl3SeSHF6Be3VnDJr4U6zEn8UfBlJcOFHE993jeYLBt9VmXOJIsTlgae+5kkN7z\n",
              "lwhdfeD+a5bneP2TWhH+6AbMa3u1DkYTDIwC2wUloEc+jB/vUO+5Xo5RXcMMisaLd0Z9qpL7uNLq\n",
              "FvRfDHFjxN8k4t7Kkq+eAMm2uwPBDCfnwFtl148qpubzykyXFjx+AAVsOebjXYFx4gqwA3gDFBLw\n",
              "eXU3JDhxH01kuMMRUMGfETPs2SqGCxQv8aI5xStMViH85YTKLTIiJEVjbuSNTOxL5YsbsOLyxkcv\n",
              "QyE2ZkIBFIK8od2HU9XlBoHpCFm/mXBQhqwNQ2NeHwXZRDbrH3EZuBVpJxrDi5qEFinJr5qjN9cp\n",
              "s4wrAg/VTaBXWhNplrGdZY7K0LsICSFOLTRyVimkOOaTmXKUTE/0qruu48qxAcWMvin6pftIM40k\n",
              "ls1F1ZTWUof3Mg+skih3M98DBbtUlVWHNDwWInlyJA78GvG58GbnvVtWhFzRBRFPYCs8JLRnUyq4\n",
              "AAdS0PFJfS1mQ1u4iQeG7VOOof6HnVEk0GL7Dk9rEZLcg4RjjE3TV3dcyBn4aoS9nKh3nNnK7jVq\n",
              "KKQ09NZZczTNQ4cq0O/t6dsVfi+xhJbMMZSitev60K2tk9tsKDiy4m4kuVmqYVAfRXFqVijpey4w\n",
              "2FoyiXAAAAJjQZtxSeEKUmUwIb/+p4QABkbQwElv0kUcrvN4YACktCINSC37BsYwjka08Wqje7Mu\n",
              "4MwwQ4pG5IB3SNWuciDCWSO3T3sTtp0VAJz/o7rMM3NpFIo2CihBPYf70n7kxP5W4glDI7wzvEzj\n",
              "AGOuLTzy6Rx2hbuD2RglU2IZNPCJfLHIcMkc3e5i52biHkrkcIkaZ3AX+eW2fgpHhjL4uxp9KBq6\n",
              "0SlWZURhVI3/jNC1aCyD2as5t06Lojg+64IkXN+8hbDtG6zVYrtfvV0nh2dNYFPIUVGH0dG+xD/d\n",
              "S0RfbrWzg3sy/EX1pGVS6po8oqNvThkq64pf1C3CTrpjZN60mHfdcF5KczIVet1xC9RHDfyo/+5r\n",
              "G7gWWwccopYSHxRMuGoq1yPlSoIWBOQ087QO1P1pYTJibS6RG70ZdSp6Zul4KpDwicnoimEbChP8\n",
              "VKvNz8UGxjCvcUQZLVLhvePO3u+gMHnKeMCTnnPIPsqar4VWFBvP/gf0AkgAMBrdjQ99vqsWMSNC\n",
              "PTbeAnnkaeI3wOpImIBAxi9oSqy9/pnrsQMSumlAELNoGAdgD1/dSAzbOU21viS5Ya5qriRADwiI\n",
              "0o5EU81yN/Hg9aiLVRGhlTK6Hz07MrUlp1tG3A93QC4rbo28sVOs7YBLkukr8pt9CAdiQ3ZrGjhi\n",
              "umzZ7g1Sfa5dPtaVy3dXMxGjqSo2gw0kJpg0tQZ9lbC6ZC0viRi3L/R394noZHuZTIPA/pFKgvZc\n",
              "5hK1Fp0F/hUVp9DgcnKUKyoedkBOrKxFAjc/qwb1XOPVhNIehKygg7Mdf2yHGoJMKYAAAAG+QZuT\n",
              "SeEOiZTBTRMO//6plgADLe2g6shU6RRtu7BaAL9tlaTkMAABOO67KD2qML5aAKrhU1LiVJE5PQB+\n",
              "H++HegrXTVdrNIA6qPn/YQ8APogXzNJUEWiI0fgrwFsHOHaHei+4dMiie6s/rH7FBV//30yyysRc\n",
              "Jt02okD0bYvZItt6GAFbgpXMdRqFk8QSWEnKXYrAwRwaEBVVmNayDl+SvVW2ghDlnH0wwKKkk277\n",
              "EUsM9R3p33DHIOgsGPLNPLzDAbWW8h9Ap9WoDcql1QnSvWKc52YqPgTYFvHh3WrS4Tg1DhvYYAe0\n",
              "4Ch8XwHujA+VK8Cvm2rkPwJVhp00fNguWclhBfV5KXlkmMn6pR9ev6qe7RMTFd3//K7vex6AGUcL\n",
              "YlB4+Qly7OZEPMhCv9WX2QyLgB7p7otOfZAoZBh5701rvlyEyhGu3oRfsciCmIRjN6dzyE/yC1cd\n",
              "aOx8za9NEiy1jKTPIBfEVQph2qwTkG3NC5ExFHOY8cuJZ0tTfm32wtmo8yg4H7NirNYlCGiiwzqy\n",
              "ADW2y4LloFcEeL499+/vDE4BgkGRUzWcUh482qaPrdKHe66jQxU+Ihn7x80AAAD4AZ+yakK/AAUg\n",
              "5BBmd3yH2118pw1I2V0FigbKFhLUpmTB+gA6u7Y3lt7S3kncmhN3zdVHobQxyMQxiSjpVthSk7IC\n",
              "kVnbDUYaa2cM+Sq3PfgVDcfA2hVOKtOBxL8W8tj+b9M99SJrpdi2vybdem2PtzYA8ay/RW16mZbF\n",
              "En9rK6njscuLuKANQXgmIq6+1gmvOibOKdhPDfqe7n9bcTpmEIJkMwUyMfLJiWlNPhNI+H0K9a5M\n",
              "npv9ljjPcrzgzL3uPitJphcEB6WQ4gMhUrfadVn08vMEIlt7/6UczALt9N0QukHQWjKW5EVPSAB8\n",
              "vD/4HevCa5uPLaAAAAHGQZu3SeEPJlMCG//+p4QAAk3yNIH4GZcAC2jtC59lyMGWCMrfw9I9EfUX\n",
              "m30kqZEQXuzNpbz7oeDc3LR+oXwxmUorHrtLA8mJ5c5ot9MxNASkQFsTB0m/LcoGjgHDkofDAAfE\n",
              "GT6f85VJ5lrJnGa14o9yl2bLx+8bbJjE6w0u16KWm4d+0VwPoTgloSkz7hrFyvIaM2K9L2mFCfjT\n",
              "EfHo1pSbaori+1/JazclgffBX5oG9cgvDZAOKZiocTTPEjG1jAwq7DEZ6fMwRAsamTIh11nEpUG8\n",
              "mHX+hWN5iOihWiDYVBDpz/wK8G0lXJb+twVOARWR3+wI/mksfkc9rlMSVYWL9IAq+r52IvLNxIbh\n",
              "j5rSCzqTcKT/Wide8OSdwkF/mmFTuG30cpAqRB8dZusmjmcxn0wxxpKZqZFA+/tFB7UNtIBshqkr\n",
              "noMpMN9p3Q8Rsrxni8uRbA4t7fi9QNy741kfYE+hATp0cddeOz0JbkRd3Dap5u4/k29+jnuP7p0S\n",
              "B17ytsEBUUzLec7MBzqZIsYkQVLFdJ1A+JCsnPwMVzksG6gpylBRXocZOoson0Zr5p1ITZDEzeRv\n",
              "sk7insktw3cZj+o2oAAAATdBn9VFETwv/wABYmEKNtVTUThXvO7FepWG6GRMVaXjwVTMHWYHb9sf\n",
              "WX9/QD1OqaLzxIy20475oVGLlOpvvmaB+5Ly6YwlrSp8TtCzUMxJA9YBAwfKI8xn/G5LIuTuespO\n",
              "Qs5xbUxKkvH3aE2J7aY/CYimbr+yHi7lzlONgFvWRh/6pvXke3aT1mV16ZivVw1tyD3Ajn9tNVp3\n",
              "4/hH5y2oCUT5A4whJC6WwejMkf6fgrFdj9yB2u+Sz8kTRQqiwOEwhNfwBauj+O4Y7oPeWtrmJhbi\n",
              "buO6YaSgw4OpoL7X5+7f2g0E/9YLQNI5sa2HZ0Dv5nBv0hRUg3k0ubYzbH1sRQLGWqOHZPGWB7Ja\n",
              "puoPziBtsOa1uR1JWgNGsTQV9Wnv7YMEbhbSblru3vxGXtciAu4YMWuxjQAAATQBn/R0Qr8AAduH\n",
              "s4c69tLSPrvaWm7yhenPeCxQRVwOFQAXg0PPOTM60EPQQSqOxMgBtyPBEQylidv5HQ3kOf/iOoIq\n",
              "rtOmOKwLE+C/pOByfJ1t1OIQ1Czxf7ClzE/F0GDkEV58yU6Zl5o0Zae8rrCoxSewGcwrLfHA19r9\n",
              "OhsiEmpe1Jl0pXH7IGPcQbPsIQSU7rZnkDAc/arfR6QE63p6Ob/o9ItRqwjUywGiJYoV7e88VO+/\n",
              "sW3BUOX4aRHNGxAq4rVyUHrbwzpsSnpanC8/oU2H7Y994zqKZW7dJg70Vj4TlgB0PXl02iZH9osN\n",
              "KkZFQLHj6nRQX81ouqatbUeY0IcMqo0AWLS8VswKSDkGp6JVCC3KAm1KLq56nYqy7RlXGvAQ2A/6\n",
              "VcCDsySwYW4SvlxEwAAAAVUBn/ZqQr8AAduvHnOqrCZVB+3F79ije7QAa0r4W7OuD7H3ECQqAzSQ\n",
              "HHU/bvivQ/6lbkR+qqnjC/gnJt/v1gI/uDc/R83+7L1DNgIaeaSSTWeomAT4rAdsoeGQWq1V3UVV\n",
              "ol/1CuN4whXkYG3yvubR7cPiIucdNO9tQ3p26LVWVqMq896jYwYQDORzJ2HAiV6OnEO15aUhSm5I\n",
              "wGCcvLiuKF+Gp54cKOivVk5ynH5OI6kVr6PRjk2mnr4hY2SEILsuXGewhcyJWFu8SE0dns4LWqk5\n",
              "6SwtTLsRyOx02/cJX82Oye+aBUZ9Yf2DfN0Lupi1hjh5fWZZ6jmJOK27jL56vj9Ye1batsbFalKp\n",
              "x+NGsIR6M53krymL7oa16W4vTx8anP/8dNngQoHtIizhEX3/9JHjOD02G4BW7G1jP1DNZRYMKchA\n",
              "Ew5mA3Az4xiE06ARbM5UEQAAAZhBm/pJqEFomUwIb//+p4QAAE1HwJomLC9Ir7BegQAf/tmACjc+\n",
              "h0g2UwV7b0Ixh2hDFq9wvaJ+JjcI7v/0EMt/iRiFjiDnG38V8j2BNPN/aU+7/7oNaRffL77i9B6S\n",
              "4SO3rBFVhZTWRfL8w6rXXUa7eUxbo3Qc9kyfxQBH8isKluY/KoMn2IA19pL661p4wMtq/lQD38ub\n",
              "7vzHr6EgzSQPprHmcxDRbo1wAd00tYZqkATapJEs2nfwNBlN/E7LkBatfe2qC5f3kw8CZ6jTTsK3\n",
              "kiQU2e125io9mVT3OEkYBYboZpU43mZ1L1K3BL90ss8gW4gKnGbq27f/h9pNMmL/DlZ1E9FuzC6F\n",
              "4t4OpRRcB2NMjeSRMeocZ4zCqjqnybgBEniA9czpPCl1aDft6/mVqM0ZPZBsm+42XJItaG3sonPD\n",
              "bw3xyjiaHPmmD9EOtnTDjKVu/iz1Ok0C8q4aNRdMR5ckZFrqLUGwim23UPvFTPOPC9yRiMyWXZhT\n",
              "S2yP4RorRbXBfiEqhi8ZsVuayG9701vj41NmHpEAAADyQZ4YRREsK/8AAdCvFn+rh5ARL9s3f7s8\n",
              "PLHka86FvXDP9GnoaOdiQAg8LEq8c5I8iPTI3Rdmu1/q0XnIZoFMg9unnYMyanN54gzTxop9w49p\n",
              "9+nc0wV7YUA6bUYQC74fdbrbfys5oGluOJ2Dr+6TQJ1YF1mMj2+sZnfZv9/wPBUw+W99FOtsYh4n\n",
              "dss+t7bzKXPwwXICaKOtB/joE2mSZKNo4x5RCbUCk5T4k9CTPcUn5L0IOfIQFa1fyoC/yRfmcGVn\n",
              "vSysltzqXu+vDylgXSFLQeWTPkoQQIJfmO7sb+1c0SH4T4jktPbt1P68L4piqSAAAAGSAZ45akK/\n",
              "AAHQZJV/Y3FTeTtZIhEhXi9BdV8AGw6C6FWWvbYfgotbJXR/9fTkCcJ2xA7o3PdHVzoxlNOwtuxW\n",
              "CQvIEuVrZU5oA2BjqsbH+G0dg2aq9xjosOxy5psTr+ca336ljzT+7JZDdBQh6kPirPC7/Exa6BUT\n",
              "xXdWPUQigtZs4WZ8RFVLVclbK1RjkXm0eXGqYQTf1RXXI9vNyolejZe///DTlNAxxwtolrDkX54Y\n",
              "ZMKeLcxxcQAi8IqCNpgXJgMGJBD8FgQndUCd49SwIk0+6VX9BJ46gPkKNaL1xyZP2t1AeSN1GxTB\n",
              "c9nIuw3o49j2Cjy4P1YNU7+RlO35505ISFgtVLu1rtyvVL1vD+qSj33UuKM2Gh5dgbsKOQuZn8R9\n",
              "U0yi1EqOubGM7bL7vJM3gTrHU5koaWKF2+7TLolCfVtivWZlFfAl+Hjt5qpfko+gjaz5zMMeDYV4\n",
              "TXugBOURBJKZZ0lEyHXXeb6D1QC6WIx9SoflsT7hoYgcSmNJWZJ8ZDLyUOzu+nIOhOydvlJBAAAC\n",
              "PkGaPEmoQWyZTBRMO//+qZYAARH4aQgbE/D00L8AFMS8dGWx6L5b+FXfMlYeP+qHnY7BjZA6Q/GW\n",
              "GXsWwkBHvII34q4o7vYIf1HHTwBfr/zUwdiGLaH0Llyhsecd9zvBfk/pvsOohwI5eKwrvKx2mKBz\n",
              "rOSqi1D/Nuojm5ENMdipGxFXjykxuDfC5C12DNrtvzqSEKEjmY6HV0pSJKzt4/Qf+GOuM/0p2yWl\n",
              "hRVTJLouVAgAve7tGfbs8t7eJvWuFPOaRSV3diOzlPJCf/KlvxjSj+ohpkwJ9G7bJ9OeUjYJxbSR\n",
              "HnT6T5YKpJASsctOVjsG6zmblZ4BUJzyicyqiFeUI7MlA/e5yQ8EcbAN4auKnEsyuINrACm6RNpl\n",
              "XHjsO0SiK3pTFh1rQS/o4YVts5VzkYbctn5e/d/hr8nsTnWFjutIqnMoDc/yzr0fCcUde2Z325fI\n",
              "6so0aKTbQceEBW0HLnKhZltRVo8pd1skeixiZ1WAiOqLDgCZ4RHzVPVBKhgkAuj9rQXi2KOZLOYd\n",
              "+d5aLI2sYGQylmgplRhR8VkiU/j2jVzcEIPqm1X78ZP40JoPrbpSbOUAaVpkcpnMjxWX/mabhHkO\n",
              "Pw+Utyapl4yJhLbPJmxbJU/lYju0q0mwYij930scDOUTg6rLRMtU42E3pcS7tsatajR8vAxUMNu5\n",
              "VT3SfVMOk4HOVi8HNSEWuwPA7LceyeKmTV7ILzbZIsw2hECjXdLjRVsY2efNGEs1y1TTR2qzrajg\n",
              "JmIn2oAAAAFEAZ5bakK/AAHQrxZgQHZiubbT8k7dxnw4/nwckirQAbhVFxKifqcPzCgYDND4HKeo\n",
              "ibbQAkbr0D6vuZ2NDBI4lNEc3BbFmKqRj1pfD8V1HTgIxfi8ugpXUTqD7Mch728jWOGG51hGEQns\n",
              "pOgwrm5G5AvF8Iut8jLgsE1fw6DKiGwvttObWrGuJ/dxQEvCsvJP5INO0RBMi7Qs1TkCDIm0HCzz\n",
              "ORsd5etki2ETXOoZxv/g5EAj/I+H7+pBM4rj3IfTLpncvDzQnjRob6pmOC+V24pQvHp0F9/VtEXy\n",
              "jL0AAiJmOaLdoqOqZoDt410cE7dhrvD6T+yExHvwAk+M3YmWjTxN1j84fnSG7NowjpCKS9vSVnVc\n",
              "xlYrbGLp2f1nr60k69xW79w95tRFZtYLbnXXq7qy5IO+VEXvE1S5HssN8S2tyoeBAAACOUGaX0nh\n",
              "ClJlMCHf/qmWAAEh+R1oLm1rbR8l+BA2ACVZ8U+SV2c8GLul9cBoEwQ+0DXFoBRleR+s0g7nWlDh\n",
              "sQI0uNeE70RBtLQSj2S1W3eEn7Gv6mePgio3bz6/UIR+hvJkIsY8WQv8omI/iqUQBmRln2hK7VeD\n",
              "sSBQ0irzp80ZwXvwp1i4120NvCTF0Nt/YqpaBMew7intXhoslHYIMJdmGkxCbk2JWHiaq8OR/G6d\n",
              "FllmVklr/GRnX2e+jzBDDzIZUUltORPNfOcfBDkDT+f2n41vKzECxlSGOB5N714uBsLFqDrbG3Ct\n",
              "YG29Sq7nqAN+CSedv/YUw0Hm+0uKrcpkAXL39tPetQtlwIsvS3wudRY6Ob6cl3mWwmMZz5nPu0jb\n",
              "FrVs/m6UvTP/+EMQDQBPEVCe9T6gxcNNN5W8+oFIbwE78qPfDx2l91B2K/30FAVHheEAhidXc/X4\n",
              "pIyYBaNKZ86fSvGnCXlfre0eEvjZ4aOQFXhS17rvu+io5FdZB7vgxDweG0ahWjzLSf1kn4fCwqTQ\n",
              "a1XE2aSxhTdfES9pqIblZyoJBPae37Fco6Qnb7YlFUzmvDhJ5KvNLRKOB/3XCgBg7odpOoye6fZH\n",
              "xXkNYtDxjaJOsDAHZQOUwkE/lK0GTttieTtJIPl1cQAezT3xGiOayIcZmMZ6f2dRNJkFs7Zj9YFm\n",
              "e5awiFjlevBqsRZMGa0ma7rTkfxPSUHiOtuuRTVJFXxMkkskM03iGQLjOp6cyfAI+s0PAAABIkGe\n",
              "fUU0TCv/AAHQAdkCFPmbjthughLJOeahLmxZdU+aVTdvLaLS9QKkpDSlwGQLcKqKOXEWe6/x4w/4\n",
              "KdHV7vTxEi0riBc7aMbXSI/yIWh3IwNOhn0q9/xim2XWOhcfTsVthuz1XsVmeXjL2zBbpyyKU2VB\n",
              "xhS6KTJAAAljF9NCJ5OzsIT/dEsperPooFm0xFFyd7w+0IZYiK+cPMxQ37OIL182s5u4soQmRhDH\n",
              "mlfZeNkpfgQ0TySQJ7ezXiplKyzx8ERv+3Yrd4nIjIB7swxAwzHe5SOV8bGZ8iqoZmeNgraNoRuE\n",
              "jaTD+RVD3y7+UkY081KAnzyODvmwRXZeYezQk1z4nfwUWa01+TWZt6pVEnrcvfEBfnAVNoddp3YD\n",
              "5N+AAAABNwGenmpCvwAAsTROS35yUuk4qu/7mY0AHN846OJvQcDJWDy3DfnWxlx3JWg2K68CTJDs\n",
              "cuRTe4vpV3mXhsSFo5QRb6/iE45XQVazs5er9voXsvZKYqhNzFnLCaEXdTBVagFSaCuSeG+Npbd4\n",
              "dtulHN69dTKjiLYlHY6SY9k+kFiDv0kzU6h2yGXuw4XmS2E8Ac7lTS0kZ6pTxLtn/XiQ4OGHGrmd\n",
              "6Vu5jQda54owO4E+G+UCHH9wVsGoEvGoZqj2LmV4WbU4amLd5lp6Ml5yNAljvVHmmskx2J1PkrCx\n",
              "wxhlxoOlSnGcqB8Ol6Q+k/kA8P4ee9gTNWW32TJPixRu2ESLnRPCxq5izm462guA8g52B8sjQpYZ\n",
              "W+e1YnPz7kqj/UcQwm/Z7PACIpUg6MArJUz6tBn0ExeQAAABxUGagUmoQWiZTBTw7/6plgABIeV/\n",
              "nEHp2AEJjMH1dAx+QD/AZnMBtgwT/h8EaCJyOgz29VONtYqFU9tUnB1YfgcbPwQjSQ5KkLypPpb8\n",
              "NTEHNEVcT1iXL7OxTNhQFz72s342wShTI01w2WuguVI60zlTR+6Ce79t3M0iRe72UmA/4zzYMM+U\n",
              "PEsNq9/lz0p6kx/QSqH88KRAZ8Fn8CMp/wXvXo9G/8lPcnkJPt7gjDN6TbCcbZ6tpoRe6lhtjv5v\n",
              "UEzoKMomn4oEf6lrcccnq0puwU/2eylew0RF9T2t6yADZjaJsATnPi3drALg9HjLXyGCArapHOFV\n",
              "HvPsHu+nSRYB9frSBNRJEsG8/nQd+2mZA1MesKfsweZDnh0keImN5yxG3AR2VV3MhJc+X0MSMVOn\n",
              "jgbdg+78GO0EYCpaIm4WX2BL1EWmLDrRUY3A9OYxdMa1CgvjLHKgdpHmKBikHKp3VeU66AyAm/e7\n",
              "YpE/dNUW6zZvN/bd/2sLSvVp5W2nQpEUHGKht9N4FJyBJptqCy0puQYJ/wfk9DlS8pVBemt/srn1\n",
              "7mDQLTWmOzNBVyO/EGGQ7tIih9/ssMk6pZKejjo8LH+GfQAAAS0BnqBqQr8AAdt9+R0wAZ7aVK98\n",
              "HntPI1vSVHYaV2GfjBcnv5aSnbWSTxSwsAtFA4s9pa/3i8CaeBAazRQPeD0aQ8poMbCOPrZ42Kqa\n",
              "CpoT3LcwUse3TYGeHwKvhAhWszqf6YJj71J+eOzE02d3sek3sdBa/SrUvvFmLK7jsZJjUDB8CVYi\n",
              "XbV/7M1J9Vek11qAwzkkUo+7hJAbnHguOh3WXIAynmIOzQgk7Ul2CSyB4QVzaw3PS2SXRFhHLuuL\n",
              "0yzC7W6Ao3+W8keMrLTm+Er4IlT42gQWhI7m7hDHmcVlhIOPWSTy/jAgA/5qfEvLlbT+s72ZBhNh\n",
              "Muz4FfwSbfCR7Yxfqj1gGMsupJatZYRKbD41Och9k82iuJTjEKwbQQ8yE2vQpSavI0Lrc/lbAAAB\n",
              "vUGapUnhClJlMCHf/qmWAAEokQ6/oHSyVFIgBw7J83bm+idP1LwHrohM/h5Lb9+okdmo5rG7y54k\n",
              "MSuDNuJ/yESDnP+nV0gXmr5p1RiiV7C9Lp3GY2PjH5Tbegnhm+3syB4hUQwaZd8dqc4R2Nfyl9eC\n",
              "02J08r/CCTObZhuIMYH+bXP1JByMIQdnQbvo4MiHdtkk4/3O97HbrBTv9kHxl1IIEnd1qPqe+TEo\n",
              "33R2ohlSUG2ctALNgjnDqyo23eMsUAhuXp++ROYNfnGWO1zuDgMSriX1ZNbMu1BluMiQ8z7GgedE\n",
              "fO4/IeXnL5F2T4DM55+n2AQnuCqAAHiDV/EZUks6WwlHIu+H2/WQWViEKjNX+8RdbRAey4gYx/qt\n",
              "39Cdd1bKVmJFkq1H0YwA7H3guQg/oz4IJJiNe/H/EBHEb+l1G2k45OhDMIMP56RODW9bt/WTvPSh\n",
              "pj2PArb22XABuiq4x6ecNf4ZBpNn9IIjNDszGfYibL74L/oQlKuS5bmWRhMlaf5AD2cTxP75zsZ4\n",
              "hp30Fsm/N61T6zXS7b3zNUui4Y/Mt1rA/CjiIIo3B66G46bIEnG2dGUvNV4D58EAAAFHQZ7DRTRM\n",
              "L/8AA7gDwlNuTgmhiWxONYo6z00HlN3kTYoshhIRt1d9QfOkbTI9OhRYrIC2wneUF5lrM2j3NG1G\n",
              "Oip5zMAVpQ0qlqrVumletvLlfogMl6/QWj62BYRZaYb3mBzl2Yc/WsT2RToGM3mcP05f8w//EKxp\n",
              "IU0zWdS5keE/WniQ6qWM0AS3qZHUEpwZvvb8dPwKU2MAWkehRqPNGyqUN1QEVg7nx+3K/hgz2KFa\n",
              "xNucW+KuYLjatKp81mctUrVykLBXikjlexTqDidbdlmWwughe8IADCq7mE50mf3Il+Lg7nuI4dVZ\n",
              "QQfA2lPAbJTpWrdLSreHZmDnXYszOOQuSK0Z+C6PibxpaymOJeX+02jWzs+/LkxxC50S2V7qYsf6\n",
              "cgAr3q5zqnHtLnakbm2WxIuvNIXznUKuyX5b+vtcuC8YTou4AAABgQGe4nRCvwAFIOLSTJ7AMP8A\n",
              "gn0xvhAnPSzSbzz/6W03876TtgpvfH33etO0eOP1QnUTDlutMgA4bG8rv2DA51GDt7TD6YVj9w5Z\n",
              "q2gAVC2SP/hFsqPMC7zGIirdFfQ71RvRelzHLjPGMbDho0Osb5JmZEucu0H5Au19oKfOcAQIQnEU\n",
              "KmtCmK1jVyabMSzN85HNLhuKbtxA+pVT/KsexCWHBfZXAemRKaRAEBxiu+X1Fcopp0jAv481Wyg4\n",
              "sMIKdVRQefs3/JmGitvgeXKWfkf1p77DX5MVdCS1wsg2ihFZuKc+MioF3JRzOGgBhPj9JJFKckUg\n",
              "GTCrdUZ3PZxyMWgC5GDRESF4X172NtI1Gm9Dbk/wM3JMwdgsmTIM/iD0yG0X0alDKWub9oglJzmC\n",
              "FI75JrMcxwh/+Du7D0t1oOfx2Nqpj38RMxrui3XVIDx8qzoFEwBHHdXHEOiwgj6//K5OSPfiAuS3\n",
              "TQqdckuKAmVaAkDIUzkv6zpqLpAh1PMOseEAAAGRAZ7kakK/AAUg4tJMnsAxBIingHDPvzDu1KrW\n",
              "UaEAAdkhZftplFDEKFOAM7Sgt4sTVheR4YwH1m2K2RTusBXVdqNFocosPwNNQqQ8g/39bNj13Krl\n",
              "ogoj5sjIxUZj9tfbNvuZXXP6YhBt4jGCuW/dyIvl/RS2HUvzQMCrS+6CjMpMfvCyJgfQn+2VZaiA\n",
              "tndZVLlD8igzpNt8U2hn1c6fBi57tQ2dcGQnP0didO6Q1e6IAlIIxTla4ktxmmgZ9blQI5fb8kEK\n",
              "HD9FRK4xwUed/aGXeapygEfqjxLKa7iOFqJo+aHa9u5U3eMIeGgKIlBfkuMSGuidXqn2zjDHw519\n",
              "UeI/EpOzLv2DD8Gq7Equ0z9m1yjfoO6gjHosFHEfQvXSOBnMndRHxKCu7pYoa5mHeXtf4rAT7/eo\n",
              "6bH9nqGEIRfkeGybalHPsyR/k5uAtumSvskfl+u7miz8MeuRz1sVaJKeQmakZGm45gw846FzoWH4\n",
              "cClqp90XMY+pmBSiMmoP4x6/ZkkztZWQw1qcOWQ4W0EAAAGgQZrpSahBaJlMCHf//qmWAAEp+R2P\n",
              "N0ljQ+eu5LQd3yuV2jFMMk0D/F/G1/AAFR5iVvegJlFYHjzd6b3g2qC8wkFRWPijmbijPwO1CvNk\n",
              "dN4ha1E//MrIhmvVcBsASd06R4K/rZ1XTArbsJQFqJUjUjb+8BbYo5Kzt4K0BxaIEOeBihizk5Tj\n",
              "rUjDHL1C3PD1litrI6mCW0oevJwls+0fNTzDgpf/8OPkB5kLEXX4sDYiFMRniTRWRFCIjIrMpF49\n",
              "8mMNT7E3L31w5uIYlgxWZTDwaDnyAdsMv/ZJcq3YgIcFhMPR/RiOjunnmjx3FQfSldt6vHtAdCXG\n",
              "ZG4m5P4XUhDeuyIizR3UY2n5179VqQbzBv7Rjsh0zK5Q+r+0Glt9uztcBKcTQ1zUlzsrlyc3bnbQ\n",
              "uW1Ob8FeeMf5IBijfD5vS3U0bYsKwH+uFxTRigmnpKcftOPADgcooGnVPd4Y+Eth0IZrlxEVVmWQ\n",
              "bO2PGy5hWM2orkztSXRf/ibM5kfW8O6P9VsFJG8v3T9zHDk21lz20pAw09EDxqc7Kvv8zR8AAAE0\n",
              "QZ8HRREsL/8AAWJhA0X8AvCi/v+IamxXa/8ImiFxruhk7QpwvTqhTsvv1dbNJZoa493pABUq+mAT\n",
              "THrT7yRRaqE4ObDrVFxf2yBZaWVHW4r75N5Ih+bIKjt/eOqPm8gO9ZoiouIvOauEaU76I7pnehe+\n",
              "TuV2zBI6w31HGzP5bzwAVk9fZwNGW6AQHWndUbqx1zjaB5mmQQJMbqCaC1DaKCxIBzVkn30Kd6r9\n",
              "ip1vgdoxzCJA+GoxgE74o97DkolTDiGolO/7lDporEyxiqB8mBUS31wJXz6mSsl1/x89+3hrwqOc\n",
              "w9RzOC2LpUD1LtWygp+u8leCEMVkzHPGn4JBlca8TKxr9kk6Uzixrc3H6vDWIhcXfmolCvyOywq0\n",
              "xSkzHfORQSjWK5/jDIF615JBiQl5jBkAAAIGAZ8mdEK/AAHa36hpswqE5wZfjOHwK68UVAnehGEm\n",
              "5FVjKMXyyASZ6AEJz4zRVAi32Qvp2TyaGcVyMRWVheBafA9WH13oG8jR4x/X796nD8sQTyC0gwzS\n",
              "2QQx7xHWCyaUVApRHeHvH3MkVPzWQ0R495hkGYRLApEMDv+5NFzKNakU7mecDOE4fEZe7ag6ZwJk\n",
              "oIRNvoHos1C77gdCRZycr3G6+IYf66sxVJ8JU1M+Z4Uf6ppaYyZm3NGuW0/vCiIWTACfom/q/4P9\n",
              "s/eGjQWdtjG8qbDvgipFmEWgEXAVQlGJMc2ThA8D4HWrQDLO5jStX4JuAGea/RbbtJyjo7kItxkH\n",
              "inuK8sMd5X1CjAr8S6Ug89Y4cRmAXSghdQj08fPjL8Ud36r8VjzrQcSediuU7oGXxSBxe+n+0Wrq\n",
              "u7xReGGOP5V6XqSpf4MmXE2ZH1ZLHik0/r7R1WkW+4hoghhKLYYKI8NqPJbDE2fG15cFl71lGBVZ\n",
              "6GHgqERepwZaM4SrpQ817qAbd5N46kRKV337J0vEXkAmvmOfrx24jQgJXmfJvXEFlYfUfyuASYSM\n",
              "nBs4ayBuVyIQ9goZv86/SnGcFeDP5AHQev5rYJOX3DQfUmruMFscFzAYvCvk97ERd9Svx8mIiMGA\n",
              "Ljdul/nLLpHUU1r+Qbjf2hLUw96dK9ID0FmiCc3jCoIAAAFJAZ8oakK/AAHPjJwLGqNC38nzs626\n",
              "C9sTJLd7HS6AAOIqi4lZ0oauR5TbiOc+slstL/clZcp9hcfy/KDFeNLRWUdphpRk5X0eQyeIHq1D\n",
              "wpwL4OWu3VznUFVfKoBs2RXhAf9SwiqHFZdsHM6D7uAUHelTHKl+vQfdzlz2oAEbEGM4kJXpoe+q\n",
              "e7j2sLTWpk/8xsG2HVWg/hDeDdYCFlWTikfS45QAjt3ldkXPjpYik+qyjG8JlLC8gkGIM40dNgUi\n",
              "Xg4R1zXS+Mh91vfpGNepzZyOoAJrEI46Gr+SH8W6CqvSPnx6fMjKCfqzrrhXBbSnQcZit8cnmKkH\n",
              "3PnPfNN8xAGLwmUJvpemUymua+3znJLILA3q6IYN//H9VymiZOL7fSPypZOvLGBWDgdxo6ecjPix\n",
              "kHL47r4hKrv82aSsdzzaW+HiYVOSFbAAAAFTQZstSahBbJlMCHf//qmWAABqvbQdW8AR0dnKpkf/\n",
              "rgAXZYlcXDcWPwGp+PMy/de1r9Yp+Wc2ZDSWHc1nUCi/U+Yfq3EGDHRHJ4/1SziVY3U9y5G/e5Gz\n",
              "+L+V6sOV0RywLHAwUp4F0mdW+25z6Zv5Tp5MAF3IsTgwkam5C+uC4QPFwMFhxGGz+cr3DeppjCKU\n",
              "7rMvKBBVGC91wgumn2CKO489U42VZRuoLd9Vnm4N/6Q36+MrFSaaIDGMUJg479GHvsUhy2wRSthA\n",
              "DQvUE2ejdGD/EKPPDvLvC1Pn1znt0zynFMx/xk056L7ewKxU17A/D8QM5o1xKoZQJMAE2mY/EcWK\n",
              "qz3aVRN7qoTMyv0mWhBqifm57uM5ENjUnGErJIwavvQP01X3g6zlRzXsEABWgAECnV8HTcBEYdSv\n",
              "rIqG8Wo6O5UDNBg4spR+GWaHMCw61AoZAAACN0GfS0UVLC//AAFQyL/7ZfDH4lXABMbRfpSPiCMm\n",
              "H5gtcrLDIY/91wXLKST6VXdEY0zYt1lMh90lAu4BJ42fLskuP5ph9FVkzkiQ7vmQuSUK7f5+SHla\n",
              "Bnx8cT7fAhfnSKMTgTMVSmTtrwNhxbPk/spP690llyH/oE6jun/Nr0U6CqXUn2hU/KpIl+DY3d+y\n",
              "7N9pQlYq7nXU+YHtLuVWqKy0KbSEyz0qhrLJj+317c73vVfZEeqdP3PZDM7w8tvvtJ4oD7GTDbtI\n",
              "9Jydw/X8I95uvp306Xf/vwJO2qzIXxMy1fhNWzBhJLf01T0i/6GY5rAa0HyMRSnmn4+yFsNazHn+\n",
              "RMFFjdWkrrpHlhm91u6dvc14q4JxIpqR5NL6cB1T4vgr28vqNAA6VO16ObbTw9+PXMbwbep9++zU\n",
              "xX8KF8IPwExpPH41pTQJjMMo70ASblWUoE1ERm39FmBb1ech66FrZ+QzsslWR5FTh9eWe4fObvGV\n",
              "eK4Qsx4E4llP8Wf1HHj3JfTvgoDxuFL1FQjIIPh0U2AzNyUV2w/XasNFGFl6JtAbDC6TNEM4eP+c\n",
              "B80EQ+EsGqkTnH7pehhL/eSPIloTi/PWvOVMyGySQ4F7zJk0bbBIEx8xUKaRUbbkD2orDjmcCKio\n",
              "xecGP2l7d82T4Lq5QTlBkrDmhYT0nbodCgDPUtgNWrLlp4kre3b29rnGOutWk61p4inXlRvj/Jv4\n",
              "wLY5cRXN4M9ntYc5QoPxfuGd9olixrABNwAAAecBn2p0Qr8AAdawuLZbCgAQ/HDnU3tWzL8QfVyc\n",
              "kfFeEQ71f4z4wR/XIK2prOi+WH37YvQdShjsp3+2MkFX36RPaqssCzV2CenTLqLLucdEmh5cibM3\n",
              "7dXUHskAKcgoH813HIiUH2UJGhEX7UoPHVAfPrAXdcakZ3MWeVbzFl7UJKnyE82vkJfazohJX38k\n",
              "Abb3dBYAJvQjZ9k0j34v5Q2fLb1suvz5Yst+d+S417cMcOOeknllPtvrC+/IlF2qRVvFKaktD4gy\n",
              "eLZfNml8jB/dGeU8yxvPN6lmeeK1my1/VuvwuCdOa1YyhMyAjvXOU0XPds5lhfiKn87AIWqkiEAH\n",
              "KN1pYANS1rmz959GDhiyVgFMVDI0+WJmZXOhGPyt8OE5axbZbDtmxkyuDA0sNpnYE3UiGOSRNKuQ\n",
              "KdNE3OTVExdrMxlVxk5Lwm1O8RXOiLpv7hH1jKiT1o5JfMDQT1TdVLuIHO7iOcB5XStjblZWDMcA\n",
              "bjnDh+mdpd30RU/hrtBE9R9QxO9+mWzu2//1sIqeO+7PH5hTsPF0aRcfrIQk4delOQV8xl0qybXy\n",
              "jMAW7RmJvjhY6xZ187TibCw2njPPHjGX2ujqK+sp6RxaCN+/JyIRmYULiKYkFFi62+1g971SMeok\n",
              "RKl4AAABlwGfbGpCvwABxWU22ZHeFy4eaqzYFu3BZAtmSABAtsyHk8wGospvEQW1XKnr+Re5obnV\n",
              "Fng5fCKeyf7Fyv3YXmPwZ2WXlJjA25alRIaYy2Cfm2C4GCcdk3oWGUAwYAhcOuA2mL5/ZIdNQgZQ\n",
              "PEP30Ig8VjTp6TbObaPTNvfY6XnsSavEmiXU2ZHt8qXfi0ios5P2meMK35RA+mXiXXRGLqFWYoUU\n",
              "eiMx4ZA2HDqikKJwMDxCy1A7tyjg9CVBSEAWG4g0p5rjWP5H+9n62GTqZYOVXtknVQW7rVmBO8lu\n",
              "ctA6nN0uXDZQhcVgm5VnOH5C16w0QWQTGPgrZxBFnWsoCeWpYcMUv5heM1YYuc1df0ScxcWZCkwm\n",
              "mv6mUx4p4l79fESkwdcLPay83pqrVz+tt7ia6mTTxiliJxvcBDAUj38W5DpeW+LAkaRSZyb0yt3V\n",
              "EVMwNjKP63ow0nPIv/+Nq3Uzl6xKIFGKys9o+Mt8j1dxza4awj+4JvbT08VOnAtcQVQHByDFNN0Q\n",
              "CaEDLnVN3i4zJ+xn502pAAABokGbcUmoQWyZTAh3//6plgABIeV/nEHp2ACjbbPhg58NXMsyUaFx\n",
              "KE3Vroz2JEkJTQqVvNHkzdOCOfBloclIgknZhJqBrhhlLemER+JHufpMdCFZGS39iM/btS8awGm2\n",
              "x3bXX2aB5LsMH1LiRwH9AguToaJe9ENNnQGGgQ39706GTLxNKBh6szdLHaMKKafDFrm5lepBtBLD\n",
              "0JQvWxColL1uzV/vdFeaGruu20AJUuXnAHBkLIAlr/0nsBBsblgreV2H/MKZbpS80vU4YhyA9D3d\n",
              "rMwDS9052ZazXE70tWauWLjSYWg/67KW/q9RnaCUTp/9R69w/CECYl0p6mB7N5w2cvsAlp0PrJXN\n",
              "hRC6/tv8EGWIkp59ZJ/LiT4ciqY82GQjG9gfbXguI6BINC9N9DcG+DhegbRKHN4oioujcZKV1XR5\n",
              "zNvM9xT80h/r65zNey4FdVS+rl/J1xtxM4mcvQbX6u1rGIZ9ifosDRsiFZk+KBEywxKLjIfh+o6L\n",
              "PlKW5WyTUo+jC01li+evGdZpHSJYA8C4WBZ+Av9/EqqiBkjU1q0AAAGuQZ+PRRUsL/8AAWKd5nic\n",
              "2FkEGkbp6wAl22zb/9747a3rdFiwAG3vFc5MMAkQovQaXAf/0JoStm3qMvnAsyKov4sL8KhoyjSX\n",
              "tokWXU+VNuqbE16Di/PeOt3OdzWllXapWbYhE4xLcs4wKdiA1QmMusgzGdcW5iBOztgfvvriP1ov\n",
              "Z5+KJ0Lf4d526kNN7Cj2/AzWwlkgW9ptSsehAf3z9jvB3xE0PXS97905z29468mT/Ngv14nBRwsm\n",
              "KsSHTqexY+RzwQi8fEDr44jXW3oNwBzRtf7YUpf7mtwuh0VnDXYQ5iPDkI/PEY7rOfcXyoic6Xdm\n",
              "PQw3YGHlxbK2g9oIQt8yfy5rbZUe6PALVD2xHcSLEFQEEkLRMYnFxkloxA/vGC7W1TUMOZ+xt3B9\n",
              "ye5+rzrvQrj+Nckh6lGvAX/vyHpIfzi07vSVG19DC56ehdnJL/wSV7AjvITA1rA8vNrGZTJZCE6y\n",
              "RBArVTlDpf/lxtRZfvv6eYqE3wS/9heCxcFazTWdT32lhCFZMQSfC3B8a4zOXqt06MgegQXAHyrR\n",
              "sHqgGdOSwnfUHsEd4DBHwQAAAcIBn650Qr8AAdAzEmADlQCVlyn2Fx/L/QtXIKg4QtxedpHD4exw\n",
              "LME7v9AJgiys0y5E834s6P1swTlFaivl9wrnjtjCwfM+EFXxdotr4hUIPC/Y+0q2BlEPAn0HZkCp\n",
              "BHNr+PBQ6bSeU6ryMLQjIXkTWKbpgkWKTKWMJ6Ejifplmox2rvlbdibu7myIGjEID4kLmzYQgKit\n",
              "qhHb83DILfEnlLpfMbrIbC3MoZlUMZuWFOpLDxf9iSLdHeOlZRwX0klAEu2zTUsI77W7bxCC/jqg\n",
              "7qo0uM8lJczeQeD5RnGA2vW2YRq1zFPOzNN2MXmpyyc8RZWWimeDB/Ggrf93GqkDE7r32ZAfcyFi\n",
              "p4w4g1XeK42/549rYMinQGGeFAhp9cjfJIQa7o0aLSFLefcR1FyzaTSyG+jqv0g3BRjjAq0Wj87P\n",
              "TRGimzJAKVlY0owX0FtBGt6MaHT6ZBTbAwNnwdK8PAGWMV9DKZJVnqUBJckB9N/6YCJJsIesgSnZ\n",
              "PdXOHk4udRyFWHk1lVz0JdZ74Z4G2X9f8iCk045Dxtt9zpdHeoN0zqmVdoHjNLvAl2fzz0+NXOvu\n",
              "tk618zrIojCy3bDcLOAAAAGHAZ+wakK/AAHaPRuL956pheVyYaXomG5SqaB6gPNV3nkEGm2ADsi6\n",
              "OxMVVFZDr6Z5aZrT19jR+mt9kFzx6qjNGLR67TCSgbPKIKiocCnelqWrgJhf92j42f+X2/CMlVHt\n",
              "+UBtGIPGCWU54C0EKmRw3rbwA/XO9d8sRkjvgi1gBOb00+fPKiwpVoAIOGq3kbmcKFHBM8LOWVpH\n",
              "GmGqPWM+lRNR2O2gB0SI9BRafnBGFlxBM3omWuTunKwo79kES5mMKk2wBE0xuWsxBTHqTyJw7ktG\n",
              "tkgy0UmwxBRR4S+KlzLOcWlSzHiD2eB0h7S7iVMaEtgXMcZgrBb99vDIIoMu6ksWoPVcHjDqHUbI\n",
              "G2TUUkbVnsdrt05G2x0eZP9LuwpRV5+/cl6rBYoabWHY2pLDQ3/tC+BifzX9bjzXk7dXZzBfWwec\n",
              "EvDgcyMFJGetJohm5omSbAs9xIL71oM2NX2nW39DoFHkVEvHuePKWKftZ9qu8h/8Db0z+NYBWL2O\n",
              "8rmbryQKYQmG1AAAAodBm7RJqEFsmUwId//+qZYAASH5HZm+gYhu5lmACpKOOQ+R/pkqz/5XDPrv\n",
              "ldKnV2lu67vONhfjIdxL8EkQwgudMt1ugez3PUTe+EeKvKO0F36zMv7SxMN+92RlVMGJ4o9toD6H\n",
              "EaZnGXmuQ3VbrXKtqhT7fqrgZSLd/+BTPUF1iVjswgB93btvEqhbkceTO6u0pnXdF0Bqvo2dkXMn\n",
              "pHBC/AmX18nVi8uffjywy90u1NkAswThngpSfFJCNkvK6ncs+HjJel9vQdfFjWuLY0sCz29iNPjr\n",
              "Yd9ONKjpB5skxxJl3qyKSKBG9TpPbh3PMiSRwwM/nJJa+MHEfL/c324dJD7WtsaX14OXeMxB8NcX\n",
              "Q/qAnoB60t/BqBf8PLsu1Mn3oH/4MC1VyhOEuKsLVnYOad73UMqAKw/Fz10ypMNmoLYl1T7rOlEJ\n",
              "JRcDg2jBKIeHB9gLnxgNWtc0r+Z3uo4L1Gqwl+9lz7GD/ktAuXjMspcU9s1Fp6gnZQYEZDAQMu7M\n",
              "mfZTA8dc7/7utln8idMCHwi/3MKm9pvfuVZYEuG8Y3PO6fCsk5b8UIcC9odDBMV7kLwT/dH1P+yo\n",
              "CJIV1MXEZFCSsjf/j8McfvL0pTVz18U5rc/7bMt2SdDMpo+TcLZ2jROYBXdAh8Ww6bQqjGQh6f2c\n",
              "rC1U609Vg/t5ul9vGXfcEaeGf5Fr2B9nruDQ1tszt8YS1GSoAHIIb9q0aTaOFLNle8nyc99/fqSp\n",
              "xyAAYtXiKZN2QKcH+7pziTZAljwFc8EhVn9g1jsPZYJF1IMp+90+/gv0ZlfgEA5sybpOcD/dnind\n",
              "gfl7e81g9vhyZ41MAA8sL4KNtYK17R90jVAAR5b+JhLGDQAAAPhBn9JFFSwr/wAB267+HKXvF/YM\n",
              "BQAfL29Via+Zxz7E1/pgOBK7uEuiKHm8CH4gU+DeNrsgRYAZZG/qm5iVcNslkho5dbv16qrhARaP\n",
              "zrDV0YUHQoFaEuG5NuB9Kr8oa4ZFB0gj1JJuy9FnagJEeKaGlE2hiQH06kGdX2PBg9GCcK+d6uE4\n",
              "ROgIJ9oHo/rXh5RPmF+HcYlozQz+uHm/oFyKubimLY2YemzqXoh92cO8dsoLx3HNxl/lfvVOTlLH\n",
              "tArhcEFmMIAMekZm+kIrHcbt5ehJECVP2J7BeuloaolsgNtSJv8nJng+h7qwy6devG9FA4kLe16k\n",
              "gAAAAQsBn/NqQr8AAdt9+R0wAZ7aV8TXr8IYPWsnShq1K0i+p0LWQ8ZLEYjoa30KZKoEEPmIU2HR\n",
              "R2ACOi/fFRjFimExcjHWh6nSyEUsSvUd9cpabHvWElhBTVaXqV2wuLlyzsoGpvhn66dMWOT68wv3\n",
              "E42LTivp58RTTK1GsG5nJY/wTPR+rDiDud15HyCZAqbKh3+Ddc0jccuP+9UstM70ogJdm4FMxyR3\n",
              "r8l+NRASqJWwFNLRLG5M234aCTL1+2S/yUdlk1oVqyKOlnszu0f2g578wPHLyBvzLWxZJbLF2rZA\n",
              "yWg8l+eEZVHcff6qLfmsoBdY9MGFOjHT3IsZc8IWN1oRzacZD3ocW5wQikgAAAFUQZv4SahBbJlM\n",
              "CG///qeEAAI8DO5GM60bF4AWwH0GHG5wfbY+3bKA1MatQGlxStd+D9K7vXrMOpSSjwDH9Y3+6iis\n",
              "grMfV+yx6a0v4ApsRglm42amRxjiX4jjzQfmZ2HCMO2TWBRNNAmsuBshjL5CghaItO18bicBRpBS\n",
              "YSKeUgKeFtZKYizSaYxiswTD9N47/gi2YrdHSbv84Dt4Ow+v2teEWm5P5q9dh5iGW5xxs4aQFtEz\n",
              "UfoFMdEdSqtdyTqk7S4VSFwOGDbJck5iWHK4hfpLFLkhWUd9lk1+gcCQOZLqmHBTWwLoMKvEIkhZ\n",
              "SlecRwqm6Zrdnq9whJYwybWWUc5/PKMKYf/SBEDH9VLZILv1Ia2u4W6vwHKHopWkfU1Z+dz5ZGIS\n",
              "8vbL1uogeLHmIf2ndoFF+aRjdMXybXVVeA9HDz8IJNm8ih0VTUHn87DbrzhXwQAAAVRBnhZFFSwv\n",
              "/wABYk1qP2XpVLK8BZiPJAA1XWidJcIeqUyJgttBHqWxpJm6E17adm7Lhg78v556VP7aKlgmjuZ/\n",
              "cMiTK9ER0NSUlicvb4Wm1aHV9CRLV6UiOeIPvlv12VM30BLCpYT+UzRvuf8cCYzB/gTC1FW19R2x\n",
              "Z39zkaktWbAuNtsxc1XZxiBi3J+dapWTAMokUxE/9wSk9MeS6NOLIzdf9vlnwG3QN9/2S1H9fiFQ\n",
              "BqeXGS9wcgbTAUWBjLeoZF/ZYuXOfpOWTgUpxHvOAPqdJNvm/obdsdkTAh0FSeaPMpLh+VCYkJvU\n",
              "hdE/Gc3/VP72iw1KhAvnSr1uZSb8cf1lby5to7OUQKwC7E9amZrI1T0RzuWaXreWqKAWclVaG2/3\n",
              "xvfdS/rtTdNvlD5kFsjJv/HscoWOKYbxUyuku4F0Y2FD3QfThf3voZVL4kXKidlbAAABJwGeNXRC\n",
              "vwAB2t83gnv1G6wEWYub2RdX5Q245N/xNCoQe2dYP/AfgA7Q60OEUhobsKTnmZaAcBqQ6OXVxRFX\n",
              "sKept33Nn7DGFMkAFrxSta0nEZwVN+5La77f2UiVch9Os7TyHMMaXPfOH13W/DfSwYes1dPErvy4\n",
              "HMykGLZt2S68YKCZUYyz4H7GKt5rY2ICLEBqrAjwk5zBNdELkzfdnqsaHJlHocllmACoTiatuh4I\n",
              "gvFtqtEg+10xaa/yVBPEct+Jfj/Yt0bUlOzhplNy5S9eskusLzqaTew9872Cjho2X+/0FGENK8Mr\n",
              "nOixMOxC3hzqTNYjqgNtiGi2VgRDuEpt5BqCUHszbDu44QarlkeojvocguvGseRj5of7s5Fyuirj\n",
              "iE40qYEAAAJjAZ43akK/AAHbZJUQn/J2hipfRwBG+43FgBEMQU0p1x8VnkEElBVqiJs/BF76HX0z\n",
              "nyZ5WcqWj9Nb7ILnj1VGaMQCRfz/8VXtw6DgpeaQm0fVysyPjFRbyw5XrfyEPioqpArC8ZrtHEWa\n",
              "o56S8mQJEWU0R/baeB8f8J3EEeOW0Z66hMNLvZDTIzGwHHVijmlqF9XCQjf4OGZ33VwfDTPw38Sh\n",
              "s/oMmxTBZ3Z906ZVhTajeB5Du53+HDjLG3rV7rwMSfBUiMJuVYrT9SRPOhF2tY04XFo8Wl4A2n0T\n",
              "sQV4+RQNrja47emVjUkKT9oOvnut46Hd4irSG8qZscZ2RU4PUJ3nvAUgKoyS18X2qbVAmXEBOVOn\n",
              "29PEVmjVBwbOf9ks28Qwu60mfsKXbAPjkjG9UJlQM/+ZZlz9dA73kn5jA633tr6AS8+yfOuTKgbp\n",
              "coOtbXZfi2W/2QC6VNBmvEoN0ybBX2OFTcIWc0SFJhg7+y2QIShY1KNKB4gvR4PBTViN9xYZu+dq\n",
              "9rd6IYqqgfsfMAATtdpYHKKec7VaVc7KQw3fxPLD4b7BQhSc20OSC/fqAhOyRkLgS1GOOYkhcLDZ\n",
              "50dHg0n3H++67dnJybyyzKzuK7/6+Lwkl/vraQTB/JucuwUskSizpDEDMYS+a+FscsGnPuiLgUTY\n",
              "P0DumahCiWKjuqsfa1CMEooJLfTi3xFBCQaloLNXoJU4+M4eGg0EwnsbVyIB9Ga/QFWStGfcxoAb\n",
              "QEsHYaoWu4RwGEkVQXuF9kAWCMdbMWOS52eSH+hCy9EyRKR1Uudj5/dBjfUgpv206YEAAAICQZo8\n",
              "SahBbJlMCG///qeEAADTSZaVKnBQAUxmPyLxCBudx/D02LWDY/r7p26wy0BfMF9/ihcM//GwRiXM\n",
              "0T9aAhyRKAeVrJhic+j1lh2pUCU5CQ3Uyhi/JygCJRWWrYpsfTApFY9t874CNRKktRsXCrHdQU3I\n",
              "7d+q62G09glSZUmVwe+Yqezdbup1riUpjadHHkNLzkpM/xHN1KYgJ9YJ8sA0iOgSbk3RVyKPeoZc\n",
              "h9QUVSfk3LGpmVfvakzIC3TgnyzouBeFh+lYSy7REWlDc1yG00mlv4XsDgPAoIlQzHaRjYGKXp6i\n",
              "0zPiQJ+uV21xLPe2Rn+QXLTYmbz0ZCo+8RJJKdkHsG7o1eMsXOdfjvJ1/54cNnwmulutk7ZN3CfN\n",
              "lrTrxYl2bp0oFndGn6l7XMMcyALEliehcJVu2uyV2RkVshUZpLh6l+XMKInOLyR/knxfjWOrjrr+\n",
              "fnOhONI+FAwTHiNZOdSnnjL2Nz0oYp1URVEmhOb6ds18BrD4SwsDKEUUhhNOebd4IM+L0GXjx+Ne\n",
              "ITWttzLUuwzizz4Iw3glBnEbMCYEwd4IN/pB0LfwTbw5fm+0y39iuX5+8vA1lZN6hjJ3dJ3Zygyc\n",
              "/Xzu2No/7tYdIU4ANDBROr4nADSTSbfdiL7H6pZcg2vdMSWS7HWR4BcW2cPZ46mLxgV5Nxqm4AAA\n",
              "AYpBnlpFFSwv/wADt+jtNlvmAGc0THFt1AQyOosAAdf9U3nqG3X8+7imv3V50oKLluWx2VyjTkcp\n",
              "v0D3sMU9vjwgKKLylpFTddBcYLz9ExeyxzbCLHZwXyWgxKrZs3R9Dp5Bx/fMB7otqpc8Ny7czs7D\n",
              "DI96fnfs7CR1WKF4z9oSsqDjQg//pHx6vR7+Dm85HM8VjWzxYrIqYC6WPgY7fgd0XXiQw00tRJyW\n",
              "lFF68R93jJ2nNoW6tyvhXGpck6yaET+1nTElI28LW3IUfJThO/Iwb93FF5lyS5ru3dmOVEv53s0C\n",
              "yye2addTD1zQ+wumH6MI0hi4yboKiwMsCSgnB+gTZu5EIahHJnmk7S+CNyM6AyAdi1kKxztKCk2k\n",
              "8MUtAEZpRvk3/lLs1zy357X8v/X4rHVhzUxqBgLJifsGnQF9+iOyE/euzD0idZ+OF2Hh6kWfJ/kT\n",
              "EKdr7ArpHWtQ9gZRKhoO+wrlsk52Q7Ti/264U7/pHVB0U4aoZgkzpolD2LEpNHesrtKxfCXhAAAA\n",
              "0wGeeXRCvwAFIOQQZeTcjgktGLHAy+gHVI3051UAzFABuF1+Z+23s+NZLE4z+Ul1GO00n7e6iJtt\n",
              "ACRuvQJeWJzlbtxmOKsvv+E+cCFqQX5Z4Epl0X74ZrQoesNO2BX1Ynj2AatTuQZ2BF6vsGiY8g3H\n",
              "L1Gp+N8eNiqZn8HwiP8bStob1cI7YO0VcdUnFReGwMXxrcxlZ6S8mEzjIw87YQdKpMCJcc3FbqD+\n",
              "QjWXfZKQbjh2enSepjc2r0n4+undQcekD0iXpIC0C8IY2xVJZBN0LKAAAAHPAZ57akK/AAUg5BBl\n",
              "5NyOCSzSR3gIAG1GlQ2LIWk1576ZtlmfYZx9y3J1eGjB6fzS36ZEZZ/MYL2AItgwhyII00hQW+ng\n",
              "J+8yJ2TWagtsPf2UBh5KakT23pflfYEIaE5zvv7Uoqy0WwNq+S8dow3apVpibNxOPtaYomvbmVSc\n",
              "TmqmbiAHjnxiz8ymoTZSKywyFxr/wtl9rxakMXXbpd2J3uovcQnOE3lhqNGJg0/IUZVJ2in/k3qT\n",
              "YyFlmsSZo6qf0F24hAysMu8NBG/et3SZhASB29nDjm3KVmTMPQdEDqroM4k7R5G94qX6wA/zYJiY\n",
              "L+lDnPShcwcKLYqsoDtwU7j0dAn1OFFUqzMvlhfudNw1bXw/nw3Zwygb7oEDIdo75PKcLZCDqdXZ\n",
              "XklUkNxB3hILfJ6CYqBOUcR745XwN9WVfHq9B1iepgoT24AnS0l/YxgThsi3L30kNPSccFnQxQ1j\n",
              "8bRhblE4yZOK4dokcUCj5TbxBgA1lkvASPyk1WSC3KGgCAXCYO96dQyp5Kgk3w70V+UitfpHceTC\n",
              "HO0luxZX7ph31gR0xBtC0jiHIjPfo4x+wKWoVwYDDPjYwXTkTqq/1RRMvCSIOR/mRD4bdwAAAcxB\n",
              "mn5JqEFsmUwUTDP//p4QAAiohahRG4G13/HKdlRNUVZzotfyvud5hrk5NCWOAVyZ0tJ+kA0PyqC9\n",
              "JkSmMVAGhZ/wALgWSm6GY8BjXkeD08ucUnxBlcb0rLOuqlO77YX4nNlJoOdKPnVOaluM+Gi2YMMd\n",
              "8MghNFKXp+aPcfZrf6q+/XI/fVMBw4/evGQNz6rJo1XPSY1YM6eEZhL25+fFJDESKs7dxW+OQgcI\n",
              "av7qVFA/OH8gctogIGaMct2QHV+QdNobUA1004spCLSduCBThtXwessD/BUAp7cWEoC82owLMiCW\n",
              "+RBSoVv1DR+MRrAonGN92RrXtTwGNdZ9O7ZOYNCjtHKCv8CEMJxYUn5CxvyJxLEKEeYIk/QbdejP\n",
              "rFFLw7RZ2/FMYkdpakSkfTuf2wJzQfx8ifMN797ukGN6travQoD1ZaqCJ6fTOb9IkRlGY7tlrA+w\n",
              "v5wonkLMH06ZDMGkRExRP8J367AiYdjkA6uU7VEhSCm7VM/n3dV1mv+w58ys4Hdgo9B1WLoefziF\n",
              "C+x/+ZMFPfBrkwFJCfEAdfE6AF2oGVHgD8wundcvLglNRH9fMoPWTohhJPd/gHBg+4WRC2+4ODGo\n",
              "xm/BAAAA8AGenWpCvwABzxGjyAjH6LaIgDNhTezzfgzCanvD/ww/TxqJUqWVBjKLJQ7jULQTuJRO\n",
              "aVH9fjowAOxdnrIPvEA+Zp2LMYjhJG7fmi4ujJTjdDP7hwS9zrL7fqJMnfJ+j7wuXSTyicIDQZTB\n",
              "frnkzoK5Wz/SGmGIpB9N+NIrjh1Q6DjL2Xd8hp99y/X7HzVQS6NXNbJLUm9UWkDXnBDJWFVsRT1L\n",
              "25nQZDqNu2F531nl2qbUlRBNN82NzDBjTRU2pQhczlUZ1BCM2VlobiNEXiZj7UPtabW3b2DaEvwg\n",
              "fOM33P6llADAdiA/K1SE/nltJAAAATBBmoBJ4QpSZTBSwz/+nhAACLfFi9XkOPo+1u9uvhZ/U4on\n",
              "Z9q5T6J9KAOAfrd5j6xHWOACnNucdonf5EMU2lq00080/i9BrQXjC5kWxuvwd4cF0CqMa5/dz8y6\n",
              "FbrS3kC5rlNHF1ot0j3/wOweAKfmdUkA+uHZjKHXi8DMuIVqhi/8nH/XsGpKP+Co6VbBSEzDgEW1\n",
              "O1BN9GKoowT8HDtV42Kl0fTBjF6nvZ41XLp/pBqnp/5E6mAenlMB6+oUGOuEL95MI4WQtbFkp87V\n",
              "6wB8AA6T523zy/5HVqUSp3So0Rd77aTgQ3DQ6A+nz/vNr/VBYFW3Wb/BOadAW8uMWCB6vZFCzWLu\n",
              "ucPz0L6Tmkc7RLJCA6H3vMofC7YrrGw3FH9+nDHbC6Zo6JapXfa8dA44AAABVQGev2pCvwAB26oS\n",
              "K2j7rFiRj49HrhsXEqDDoKmIiTrsyADgf03iJciQONVnzRGsKcS2V2Ih9CfKk2DEB2Kw8s9XitfR\n",
              "09YQ4OrxKOFwD45xufXUwOC3fA9QRADGenq0Q3rf9nWfXQGuUD/hJYmcQ7pl2bYXgrMxkrnHVPxQ\n",
              "A4O6br9gClBKUo+Dy8i9nEsifJm6LtsStvFfW6+nh1NU2R8HCXSmMMIVaTFGJ0yDkZTmoHiqhP1B\n",
              "qLZo5ScZbO2z5aMEUcpo9OcUheLTnC0AUvtGhu4wpsGxDjaxkqp0aZlmXIUdpMurPylNAAIRpYPa\n",
              "3SVKSHk1XzcoTSHa3C3oL3MyLD6UHeIQQa1TbV6XmpN0D2D/0SFM9gGBOYfSwTsXySbG1Sj2tzEa\n",
              "Qrzx5ZoyG6d2VZyniJxclQliVtJc1YAhYw3d6PKpUbr7EyOxTZSNbzod2rPTAAABYkGao0nhDomU\n",
              "wIV//jhAAAzvqRKSCBzRftk0siqOAAOnne545r1ho28slZ8hXwjYMTOUYxNQT1Lb6MXq66nE9/7M\n",
              "6GOvvlc7mtqBVwl2TZXUyYEUEyQ081jhPu8TWue/VmhIaKSKsJzkey4LMSX/oWfvKRGIg2fCVEzb\n",
              "1bBsHxEtOjoHpWfMHFENrc48EoUb0XeMKXM5ZEBmYzOihjhGRYROOpJ4hRR0CzFZHBtkZWx6I5IW\n",
              "o8K7Bubq5MQfLPljfskuGv+w6IXN6YAuV3hoSKMmgYdViNlm/TGZEcU6BS6cJPzA3v7UJ0uGYX/X\n",
              "XS/2Jx9ASAbaRs/v7OAWgyaLKjPaxL0o5r/263eZtbiTxJHTD7t5R8GSYrC3rnUaA73U1PD/pE+u\n",
              "QiXJ3HqiBdhSShJaK8vgLhtyVbqQRlTfexVzCXkOt1dLqfTQU1H5cMygx2CHX0dlYXGo3F+fy+1B\n",
              "5m1DwAAAAQxBnsFFFTwr/wAAs/m+DyR2MAGn/p4eRiKyAP4UThkZ/8/3QFfHZXWhgPSaCE/L4nY9\n",
              "czbA9XVpCpMOrZwHwVFaN+BP4fzqatJG2d0xLmmhmJ3HttIyYOvd49fGyC1neuiZe4OqtYTE4EQo\n",
              "qpq/zm+31Y0lfbsHOjmnL4CoI2Ct4EZmHXXzvUGa1I8r/JVK/5dWIxDsHzpQRYwyL6mrGSx6dOTr\n",
              "IHXjto9xFw+CA4WYJKYViWTrT/1lSXIh2N7vNUhrloExY68PrMUwW6q9/p2G/VaYnRpPSRWtoYkE\n",
              "zgdDxvke00xMW6CiK+voud6zSPamHaJKkRF2F5aaO6AH2WuPVWsp9/3I7i2oJEPBAAABrQGe4mpC\n",
              "vwABy7C02DcNWAA60AlZcp9hcfy/uuj5wHXlgNBLfTl6NGgADVqDrIqj3Gda0lwPyQPSftrpWUPC\n",
              "fpcNo36db+vgCJZT6onJOfSCNuCcXVzPgnU2/YS3NgS0lNjGSYuQNtiHSFjVjddm0m7Vr6qKkMDS\n",
              "RxXUhsaQtR6zUV/mfAl9jsTIdqHXm/ER8hyhESFJPBm0r3wBE/5umU42mkeWDCUKNpz1PO/iQ5yp\n",
              "rRjNbQh2g/wrGqWch/enkvMQ6911xK32sePvxfAo1VNuaJYxzR/l/r5r0egzoZCKz0c3Nyxc/U6/\n",
              "Qv5BKVT6DAJUeHXkztQbCoKR6rLtol/qrwvUIiQJNWkEB7qo64POgyeKECqA36QGPtC6p4CWu0tC\n",
              "eet5OKYFiS+jruPTcMyZOO7rrhHVqyWlR0Gp1wwjCZK8OaGIgwy8eotvw1fBn1Crovsgmy39j/RF\n",
              "fpOrLDAHne3gvG0VaIv4Ms6HcWlNPS5C3/K7uck6zWWaZmTyi7QFe2CdvyABPzV3MvtUzRf/B2OB\n",
              "9U0xjYkQ6NV3t4O8hWUOqTv7h4+IyMIVMAAAB6ptb292AAAAbG12aGQAAAAAAAAAAAAAAAAAAAPo\n",
              "AAAPoAABAAABAAAAAAAAAAAAAAAAAQAAAAAAAAAAAAAAAAAAAAEAAAAAAAAAAAAAAAAAAEAAAAAA\n",
              "AAAAAAAAAAAAAAAAAAAAAAAAAAAAAAAAAAACAAAG1HRyYWsAAABcdGtoZAAAAAMAAAAAAAAAAAAA\n",
              "AAEAAAAAAAAPoAAAAAAAAAAAAAAAAAAAAAAAAQAAAAAAAAAAAAAAAAAAAAEAAAAAAAAAAAAAAAAA\n",
              "AEAAAAACgAAAAeAAAAAAACRlZHRzAAAAHGVsc3QAAAAAAAAAAQAAD6AAAAQAAAEAAAAABkxtZGlh\n",
              "AAAAIG1kaGQAAAAAAAAAAAAAAAAAADIAAADIAFXEAAAAAAAtaGRscgAAAAAAAAAAdmlkZQAAAAAA\n",
              "AAAAAAAAAFZpZGVvSGFuZGxlcgAAAAX3bWluZgAAABR2bWhkAAAAAQAAAAAAAAAAAAAAJGRpbmYA\n",
              "AAAcZHJlZgAAAAAAAAABAAAADHVybCAAAAABAAAFt3N0YmwAAAC3c3RzZAAAAAAAAAABAAAAp2F2\n",
              "YzEAAAAAAAAAAQAAAAAAAAAAAAAAAAAAAAACgAHgAEgAAABIAAAAAAAAAAEAAAAAAAAAAAAAAAAA\n",
              "AAAAAAAAAAAAAAAAAAAAAAAAAAAY//8AAAA1YXZjQwFkAB7/4QAYZ2QAHqzZQKA9oQAAAwABAAAD\n",
              "ADIPFi2WAQAGaOvjyyLA/fj4AAAAABx1dWlka2hA8l8kT8W6OaUbzwMj8wAAAAAAAAAYc3R0cwAA\n",
              "AAAAAAABAAAAZAAAAgAAAAAUc3RzcwAAAAAAAAABAAAAAQAAAvhjdHRzAAAAAAAAAF0AAAABAAAE\n",
              "AAAAAAEAAAYAAAAAAQAAAgAAAAABAAAKAAAAAAEAAAQAAAAAAQAAAAAAAAABAAACAAAAAAEAAAoA\n",
              "AAAAAQAABAAAAAABAAAAAAAAAAEAAAIAAAAAAQAABgAAAAABAAACAAAAAAEAAAYAAAAAAQAAAgAA\n",
              "AAABAAAGAAAAAAEAAAIAAAAAAQAABgAAAAABAAACAAAAAAEAAAYAAAAAAQAAAgAAAAABAAAGAAAA\n",
              "AAEAAAIAAAAAAQAABgAAAAABAAACAAAAAAEAAAYAAAAAAQAAAgAAAAABAAAIAAAAAAIAAAIAAAAA\n",
              "AQAABgAAAAABAAACAAAAAAEAAAgAAAAAAgAAAgAAAAABAAAEAAAAAAEAAAoAAAAAAQAABAAAAAAB\n",
              "AAAAAAAAAAEAAAIAAAAAAQAACgAAAAABAAAEAAAAAAEAAAAAAAAAAQAAAgAAAAABAAAKAAAAAAEA\n",
              "AAQAAAAAAQAAAAAAAAABAAACAAAAAAIAAAQAAAAAAQAABgAAAAABAAACAAAAAAEAAAoAAAAAAQAA\n",
              "BAAAAAABAAAAAAAAAAEAAAIAAAAAAQAACAAAAAACAAACAAAAAAEAAAYAAAAAAQAAAgAAAAABAAAI\n",
              "AAAAAAIAAAIAAAAAAQAABgAAAAABAAACAAAAAAEAAAoAAAAAAQAABAAAAAABAAAAAAAAAAEAAAIA\n",
              "AAAAAQAACgAAAAABAAAEAAAAAAEAAAAAAAAAAQAAAgAAAAABAAAKAAAAAAEAAAQAAAAAAQAAAAAA\n",
              "AAABAAACAAAAAAEAAAoAAAAAAQAABAAAAAABAAAAAAAAAAEAAAIAAAAAAQAACAAAAAACAAACAAAA\n",
              "AAEAAAoAAAAAAQAABAAAAAABAAAAAAAAAAEAAAIAAAAAAQAACgAAAAABAAAEAAAAAAEAAAAAAAAA\n",
              "AQAAAgAAAAABAAAGAAAAAAEAAAIAAAAAAQAABgAAAAABAAACAAAAAAEAAAgAAAAAAgAAAgAAAAAc\n",
              "c3RzYwAAAAAAAAABAAAAAQAAAGQAAAABAAABpHN0c3oAAAAAAAAAAAAAAGQAAAg3AAACzQAAAdcA\n",
              "AAE6AAAB+QAAANEAAAFtAAAB3QAAAf0AAAFUAAABMgAAAyAAAAFGAAAB8gAAARgAAAF3AAABcQAA\n",
              "ASAAAAGCAAABOgAAAZ4AAAElAAABXAAAAocAAAEnAAABPgAAAUoAAAG0AAABggAAASUAAAJhAAAB\n",
              "4QAAAg4AAAFbAAABwAAAAYcAAAIQAAABvQAAARQAAAISAAABGgAAAUgAAAEyAAABvwAAATIAAAIQ\n",
              "AAABtgAAAZ0AAAIxAAACZwAAAcIAAAD8AAABygAAATsAAAE4AAABWQAAAZwAAAD2AAABlgAAAkIA\n",
              "AAFIAAACPQAAASYAAAE7AAAByQAAATEAAAHBAAABSwAAAYUAAAGVAAABpAAAATgAAAIKAAABTQAA\n",
              "AVcAAAI7AAAB6wAAAZsAAAGmAAABsgAAAcYAAAGLAAACiwAAAPwAAAEPAAABWAAAAVgAAAErAAAC\n",
              "ZwAAAgYAAAGOAAAA1wAAAdMAAAHQAAAA9AAAATQAAAFZAAABZgAAARAAAAGxAAAAFHN0Y28AAAAA\n",
              "AAAAAQAAADAAAABidWR0YQAAAFptZXRhAAAAAAAAACFoZGxyAAAAAAAAAABtZGlyYXBwbAAAAAAA\n",
              "AAAAAAAAAC1pbHN0AAAAJal0b28AAAAdZGF0YQAAAAEAAAAATGF2ZjU4Ljc2LjEwMA==\n",
              "\">\n",
              "  Your browser does not support the video tag.\n",
              "</video>"
            ]
          },
          "metadata": {},
          "execution_count": 38
        },
        {
          "output_type": "display_data",
          "data": {
            "text/plain": [
              "<Figure size 640x480 with 1 Axes>"
            ],
            "image/png": "[encoded data removed]"
          },
          "metadata": {}
        }
      ],
      "source": [
        "spike_data = spikegen.rate(data_it, num_steps=num_steps, gain=0.25)\n",
        "\n",
        "spike_data_sample2 = spike_data[:, 0, 0]\n",
        "fig, ax = plt.subplots()\n",
        "anim = splt.animator(spike_data_sample2, fig, ax)\n",
        "HTML(anim.to_html5_video())"
      ]
    },
    {
      "cell_type": "code",
      "execution_count": 39,
      "metadata": {
        "id": "dicJdyG2obY5",
        "pycharm": {
          "name": "#%%\n"
        }
      },
      "outputs": [],
      "source": [
        "# Uncomment for optional save\n",
        "# anim.save(\"spike_mnist_test2.mp4\")"
      ]
    },
    {
      "cell_type": "markdown",
      "metadata": {
        "id": "JgPZBNIaobY5"
      },
      "source": [
        "이제 시간 축 전체에서 스파이크를 평균내어 입력 이미지를 재구성하세요.\n"
      ]
    },
    {
      "cell_type": "code",
      "execution_count": 40,
      "metadata": {
        "id": "e4ikMCQLobY6",
        "pycharm": {
          "name": "#%%\n"
        },
        "colab": {
          "base_uri": "https://localhost:8080/",
          "height": 284
        },
        "outputId": "5a83702c-3474-4d25-b525-7c15a3fb496a"
      },
      "outputs": [
        {
          "output_type": "display_data",
          "data": {
            "text/plain": [
              "<Figure size 640x480 with 2 Axes>"
            ],
            "image/png": "[encoded data removed]"
          },
          "metadata": {}
        }
      ],
      "source": [
        "plt.figure(facecolor=\"w\")\n",
        "plt.subplot(1,2,1)\n",
        "plt.imshow(spike_data_sample.mean(axis=0).reshape((28,-1)).cpu(), cmap='binary')\n",
        "plt.axis('off')\n",
        "plt.title('Gain = 1')\n",
        "\n",
        "plt.subplot(1,2,2)\n",
        "plt.imshow(spike_data_sample2.mean(axis=0).reshape((28,-1)).cpu(), cmap='binary')\n",
        "plt.axis('off')\n",
        "plt.title('Gain = 0.25')\n",
        "\n",
        "plt.show()"
      ]
    },
    {
      "cell_type": "markdown",
      "metadata": {
        "id": "6bbbI1o2obY7",
        "pycharm": {
          "name": "#%% md\n"
        }
      },
      "source": [
        "`gain=0.25`인 경우는 `gain=1`일 때보다 더 옅게 보입니다. 스파이크 발생 확률이 $\\times 4$만큼 감소했기 때문입니다.\n"
      ]
    },
    {
      "cell_type": "markdown",
      "metadata": {
        "id": "WpfpKe3zobY8",
        "pycharm": {
          "name": "#%% md\n"
        }
      },
      "source": [
        "#### 2.2.2 Raster Plots\n",
        "\n",
        "\n",
        "또 다른 방법으로, 입력 샘플의 **raster plot**을 생성할 수 있습니다. 이를 위해 샘플을 2차원 텐서로 **재구성(reshape)**해야 하며, 첫 번째 차원이 **시간(time)**이 되도록 합니다. 그런 다음 이 샘플을 `spikeplot.raster` 함수에 전달하면 됩니다.\n"
      ]
    },
    {
      "cell_type": "code",
      "execution_count": 41,
      "metadata": {
        "id": "KCpsLPySobY8",
        "pycharm": {
          "name": "#%%\n"
        },
        "colab": {
          "base_uri": "https://localhost:8080/",
          "height": 487
        },
        "outputId": "5e8e93d0-ee0a-4a3f-84b7-581b5428394c"
      },
      "outputs": [
        {
          "output_type": "display_data",
          "data": {
            "text/plain": [
              "<Figure size 1000x500 with 1 Axes>"
            ],
            "image/png": "[encoded data removed]"
          },
          "metadata": {}
        }
      ],
      "source": [
        "# Reshape\n",
        "spike_data_sample2 = spike_data_sample2.reshape((num_steps, -1))\n",
        "\n",
        "# raster plot\n",
        "fig = plt.figure(facecolor=\"w\", figsize=(10, 5))\n",
        "ax = fig.add_subplot(111)\n",
        "splt.raster(spike_data_sample2, ax, s=1.5, c=\"black\")\n",
        "\n",
        "plt.title(\"Input Layer\")\n",
        "plt.xlabel(\"Time step\")\n",
        "plt.ylabel(\"Neuron Number\")\n",
        "plt.show()"
      ]
    },
    {
      "cell_type": "markdown",
      "metadata": {
        "id": "WvhIdrAZobY9",
        "pycharm": {
          "name": "#%% md\n"
        }
      },
      "source": [
        "다음 코드 예시는 단일 뉴런에 인덱싱하는 방법을 보여줍니다.\n",
        "입력 데이터에 따라, 실제로 스파이크가 발생하는 뉴런을 찾으려면 0부터 784 사이에서 몇 가지 뉴런을 시도해 봐야 할 수도 있습니다.\n"
      ]
    },
    {
      "cell_type": "code",
      "execution_count": 42,
      "metadata": {
        "id": "R3kY3uoOobY9",
        "pycharm": {
          "name": "#%%\n"
        },
        "colab": {
          "base_uri": "https://localhost:8080/",
          "height": 179
        },
        "outputId": "9f4af625-0b7f-44d8-c9c7-000e3d063871"
      },
      "outputs": [
        {
          "output_type": "display_data",
          "data": {
            "text/plain": [
              "<Figure size 800x100 with 1 Axes>"
            ],
            "image/png": "[encoded data removed]"
          },
          "metadata": {}
        }
      ],
      "source": [
        "idx = 210  # index into 210th neuron\n",
        "\n",
        "fig = plt.figure(facecolor=\"w\", figsize=(8, 1))\n",
        "ax = fig.add_subplot(111)\n",
        "\n",
        "splt.raster(spike_data_sample.reshape(num_steps, -1)[:, idx].unsqueeze(1), ax, s=100, c=\"black\", marker=\"|\")\n",
        "\n",
        "plt.title(\"Input Neuron\")\n",
        "plt.xlabel(\"Time step\")\n",
        "plt.yticks([])\n",
        "plt.show()"
      ]
    },
    {
      "cell_type": "markdown",
      "metadata": {
        "id": "1lxp91nlobY-",
        "pycharm": {
          "name": "#%% md\n"
        }
      },
      "source": [
        "#### 2.2.3 Rate Coding 요약\n",
        "\n",
        "Rate coding의 개념은 사실 꽤 논란이 있습니다. 감각 주변부에서 rate coding이 일어난다는 점에는 비교적 확신이 있지만, 대뇌피질이 전반적으로 정보를 스파이크율로 부호화한다고는 확신하지 못합니다. 그 이유로 몇 가지 설득력 있는 근거가 있습니다:\n",
        "\n",
        "* **전력 소비:** 자연은 효율성을 위해 최적화되어 있습니다. 어떤 작업을 수행하려면 여러 번의 스파이크가 필요하고, 각 스파이크는 전력을 소비합니다. 실제로 [Olshausen과 Field의 \"What is the other 85% of V1 doing?\" 연구](http://www.rctn.org/bruno/papers/V1-chapter.pdf)에서는 rate coding이 1차 시각 피질(V1) 뉴런 활동의 최대 15%만 설명할 수 있다고 보여줍니다. 자원 제약이 크고 매우 효율적인 뇌에서 이것이 유일한 메커니즘일 가능성은 낮습니다.\n",
        "\n",
        "* **반응 속도:** 인간의 반응 시간은 대략 250ms 정도입니다. 인간 뇌 뉴런의 평균 발화율이 약 10Hz라면, 우리의 반응 시간 내에 약 2번의 스파이크만 처리할 수 있습니다.\n",
        "\n",
        "그렇다면 전력 효율이나 지연(latency) 측면에서 최적이 아닌 rate code를 왜 사용할까요? 뇌가 데이터를 스파이크율로 처리하지 않더라도, 생물학적 센서는 그렇게 처리한다고 꽤 확신합니다. 전력/지연의 단점은 큰 노이즈 강인성을 보여줌으로써 일부 상쇄됩니다. 일부 스파이크가 생성되지 않아도, 그 자리를 채울 충분히 많은 스파이크가 존재하기 때문입니다.\n",
        "\n",
        "또한, 여러분은 [\"함께 발화하는 뉴런은 함께 연결된다\"는 Hebbian 격언](https://doi.org/10.2307/1418888)을 들어본 적이 있을 것입니다. 스파이크가 많이 발생한다면 학습도 많이 일어날 가능성이 있습니다. SNN 학습이 어려운 경우, rate code를 통해 발화를 늘리는 것이 하나의 해결책이 될 수 있습니다.\n",
        "\n",
        "Rate coding은 거의 확실히 뇌 속의 다른 부호화 방식들과 함께 작동하고 있습니다. 다음 절에서 이러한 다른 부호화 메커니즘들을 살펴보겠습니다.\n",
        "여기까지가 `spikegen.rate` 함수에 대한 설명입니다. 더 많은 정보는 [여기 문서](https://snntorch.readthedocs.io/en/latest/snntorch.spikegen.html)에서 확인할 수 있습니다.\n"
      ]
    },
    {
      "cell_type": "markdown",
      "metadata": {
        "id": "enzqRvuNobY-",
        "pycharm": {
          "name": "#%% md\n"
        }
      },
      "source": [
        "### 2.3 Latency Coding of MNIST\n",
        "Temporal codes capture information about the precise firing time of neurons; a single spike carries much more meaning than in rate codes which rely on firing frequency. While this opens up more susceptibility to noise, it can also decrease the power consumed by the hardware running SNN algorithms by orders of magnitude.\n",
        "\n",
        "`spikegen.latency` is a function that allows each input to fire at most **once** during the full time sweep.\n",
        "Features closer to `1` will fire earlier and features closer to `0` will fire later. I.e., in our MNIST case, bright pixels will fire earlier and dark pixels will fire later.\n",
        "\n",
        "The following block derives how this works. If you've forgotten circuit theory and/or the math means nothing to you, then don't worry! All that matters is: **big** input means **fast** spike; **small** input means **late** spike.\n"
      ]
    },
    {
      "cell_type": "markdown",
      "metadata": {
        "id": "d5yZdcX4So-W"
      },
      "source": [
        "---\n",
        "**Optional: Derivation of Latency Code Mechanism**\n",
        "\n",
        "By default, spike timing is calculated by treating the input feature as the current injection $I_{in}$ into an RC circuit. This current moves charge onto the capacitor, which increases $V(t)$. We assume that there is a trigger voltage, $V_{thr}$, which once reached, generates a spike. The question then becomes: *for a given input current (and equivalently, input feature), how long does it take for a spike to be generated?*\n",
        "\n",
        "Starting with Kirchhoff's current law, $I_{in} = I_R + I_C$, the rest of the derivation leads us to a logarithmic relationship between time and the input.\n",
        "\n",
        "<center>\n",
        "<img src='https://github.com/jeshraghian/snntorch/blob/master/docs/_static/img/examples/tutorial1/1_2_4_latencyrc.png?raw=true' width=\"600\">\n",
        "</center>\n",
        "\n",
        "---"
      ]
    },
    {
      "cell_type": "markdown",
      "metadata": {
        "id": "DqJlK7AhjGHw"
      },
      "source": [
        "The following function uses the above result to convert a feature of intensity $X_{ij}\\in [0,1]$ into a latency coded response $L_{ij}$."
      ]
    },
    {
      "cell_type": "code",
      "execution_count": null,
      "metadata": {
        "id": "J06UgGHKTkea"
      },
      "outputs": [],
      "source": [
        "def convert_to_time(data, tau=5, threshold=0.01):\n",
        "  spike_time = tau * torch.log(data / (data - threshold))\n",
        "  return spike_time"
      ]
    },
    {
      "cell_type": "markdown",
      "metadata": {
        "id": "voBg5kujkGFQ"
      },
      "source": [
        "Now, use the above function to visualize the relationship between input feature intensity and its corresponding spike time.\n"
      ]
    },
    {
      "cell_type": "code",
      "execution_count": null,
      "metadata": {
        "id": "52PwqfpKkK-I"
      },
      "outputs": [],
      "source": [
        "raw_input = torch.arange(0, 5, 0.05) # tensor from 0 to 5\n",
        "spike_times = convert_to_time(raw_input)\n",
        "\n",
        "plt.plot(raw_input, spike_times)\n",
        "plt.xlabel('Input Value')\n",
        "plt.ylabel('Spike Time (s)')\n",
        "plt.show()"
      ]
    },
    {
      "cell_type": "markdown",
      "metadata": {
        "id": "P972FBhmluv3"
      },
      "source": [
        "The smaller the value, the later the spike occurs with exponential dependence.\n",
        "\n",
        "The vector `spike_times` contains the time at which spikes are triggered, rather than a sparse tensor that contains the spikes themselves (1's and 0's).\n",
        "When running an SNN simulation, we need the 1/0 representation to obtain all of the advantages of using spikes.\n",
        "This whole process can be automated using `spikegen.latency`, where we pass a minibatch from the MNIST dataset in `data_it`:"
      ]
    },
    {
      "cell_type": "code",
      "execution_count": null,
      "metadata": {
        "id": "m835u23QobY-",
        "pycharm": {
          "name": "#%%\n"
        }
      },
      "outputs": [],
      "source": [
        "spike_data = spikegen.latency(data_it, num_steps=100, tau=5, threshold=0.01)"
      ]
    },
    {
      "cell_type": "markdown",
      "metadata": {
        "id": "AKDPjTvKobY_",
        "pycharm": {
          "name": "#%% md\n"
        }
      },
      "source": [
        "Some of the arguments include:\n",
        "\n",
        "* `tau`:  the RC time constant of the circuit. By default, the input features are treated as a constant current injected into an RC circuit. A higher ``tau`` will induce slower firing.\n",
        "* `threshold`: the membrane potential firing threshold. Input values below this threshold do not have a closed-form solution, as the input current is insufficient to drive the membrane up to the threshold. All values below the threshold are clipped and assigned to the final time step."
      ]
    },
    {
      "cell_type": "markdown",
      "metadata": {
        "id": "VGH7b49SobY_",
        "pycharm": {
          "name": "#%% md\n"
        }
      },
      "source": [
        "#### 2.3.1 Raster plot"
      ]
    },
    {
      "cell_type": "code",
      "execution_count": null,
      "metadata": {
        "id": "kypMtfF7obY_",
        "pycharm": {
          "name": "#%%\n"
        }
      },
      "outputs": [],
      "source": [
        "fig = plt.figure(facecolor=\"w\", figsize=(10, 5))\n",
        "ax = fig.add_subplot(111)\n",
        "splt.raster(spike_data[:, 0].view(num_steps, -1), ax, s=25, c=\"black\")\n",
        "\n",
        "plt.title(\"Input Layer\")\n",
        "plt.xlabel(\"Time step\")\n",
        "plt.ylabel(\"Neuron Number\")\n",
        "plt.show()\n",
        "\n",
        "# optional save\n",
        "# fig.savefig('destination_path.png', format='png', dpi=300)"
      ]
    },
    {
      "cell_type": "markdown",
      "metadata": {
        "id": "Hm1--DHYobZA",
        "pycharm": {
          "name": "#%% md\n"
        }
      },
      "source": [
        "To make sense of the raster plot, note that high intensity features fire first, whereas low intensity features fire last:\n",
        "\n",
        "<center>\n",
        "<img src='https://github.com/jeshraghian/snntorch/blob/master/docs/_static/img/examples/tutorial1/1_2_5_latencyraster.png?raw=true' width=\"800\">\n",
        "</center>\n",
        "\n",
        "The logarithmic code coupled with the lack of diverse input values (i.e., the lack of midtone/grayscale features) causes significant clustering in two areas of the plot.\n",
        "The bright pixels induce firing at the start of the run, and the dark pixels at the end.\n",
        "We can increase `tau` to slow down the spike times, or linearize the spike times by setting the optional argument `linear=True`."
      ]
    },
    {
      "cell_type": "code",
      "execution_count": null,
      "metadata": {
        "id": "ZX8azDNWobZA",
        "pycharm": {
          "name": "#%%\n"
        }
      },
      "outputs": [],
      "source": [
        "spike_data = spikegen.latency(data_it, num_steps=100, tau=5, threshold=0.01, linear=True)\n",
        "\n",
        "fig = plt.figure(facecolor=\"w\", figsize=(10, 5))\n",
        "ax = fig.add_subplot(111)\n",
        "splt.raster(spike_data[:, 0].view(num_steps, -1), ax, s=25, c=\"black\")\n",
        "plt.title(\"Input Layer\")\n",
        "plt.xlabel(\"Time step\")\n",
        "plt.ylabel(\"Neuron Number\")\n",
        "plt.show()"
      ]
    },
    {
      "cell_type": "markdown",
      "metadata": {
        "id": "pZuk6g3NobZB",
        "pycharm": {
          "name": "#%% md\n"
        }
      },
      "source": [
        "The spread of firing times is much more evenly distributed now. This is achieved by linearizing the logarithmic equation according to the rules shown below. Unlike the RC model, there is no physical basis for the model. It's just simpler.\n",
        "\n",
        "<center>\n",
        "<img src='https://github.com/jeshraghian/snntorch/blob/master/docs/_static/img/examples/tutorial1/1_2_6_latencylinear.png?raw=true' width=\"600\">\n",
        "</center>\n",
        "\n",
        "\n",
        "But note how all firing occurs within the first ~5 time steps, whereas the simulation range is 100 time steps.\n",
        "This indicates that we have a lot of redundant time steps doing nothing. This can be solved by either increasing `tau` to slow down the time constant, or setting the optional argument `normalize=True` to span the full range of `num_steps`."
      ]
    },
    {
      "cell_type": "code",
      "execution_count": null,
      "metadata": {
        "id": "RLgntdwSobZB",
        "pycharm": {
          "name": "#%%\n"
        }
      },
      "outputs": [],
      "source": [
        "spike_data = spikegen.latency(data_it, num_steps=100, tau=5, threshold=0.01,\n",
        "                              normalize=True, linear=True)\n",
        "\n",
        "fig = plt.figure(facecolor=\"w\", figsize=(10, 5))\n",
        "ax = fig.add_subplot(111)\n",
        "splt.raster(spike_data[:, 0].view(num_steps, -1), ax, s=25, c=\"black\")\n",
        "\n",
        "plt.title(\"Input Layer\")\n",
        "plt.xlabel(\"Time step\")\n",
        "plt.ylabel(\"Neuron Number\")\n",
        "plt.show()"
      ]
    },
    {
      "cell_type": "markdown",
      "metadata": {
        "id": "1EFIqaylobZC",
        "pycharm": {
          "name": "#%% md\n"
        }
      },
      "source": [
        "One major advantage of latency coding over rate coding is sparsity. If neurons are constrained to firing a maximum of once over the time course of interest, then this promotes low-power operation.\n",
        "\n",
        "In the scenario shown above, a majority of the spikes occur at the final time step, where the input features fall below the threshold. In a sense, the dark background of the MNIST sample holds no useful information.\n",
        "\n",
        "We can remove these redundant features by setting `clip=True`."
      ]
    },
    {
      "cell_type": "code",
      "execution_count": null,
      "metadata": {
        "id": "uowgb4FPobZC",
        "pycharm": {
          "name": "#%%\n"
        }
      },
      "outputs": [],
      "source": [
        "spike_data = spikegen.latency(data_it, num_steps=100, tau=5, threshold=0.01,\n",
        "                              clip=True, normalize=True, linear=True)\n",
        "\n",
        "fig = plt.figure(facecolor=\"w\", figsize=(10, 5))\n",
        "ax = fig.add_subplot(111)\n",
        "splt.raster(spike_data[:, 0].view(num_steps, -1), ax, s=25, c=\"black\")\n",
        "\n",
        "plt.title(\"Input Layer\")\n",
        "plt.xlabel(\"Time step\")\n",
        "plt.ylabel(\"Neuron Number\")\n",
        "plt.show()"
      ]
    },
    {
      "cell_type": "markdown",
      "metadata": {
        "id": "W7gN02QOobZC",
        "pycharm": {
          "name": "#%% md\n"
        }
      },
      "source": [
        "That looks much better!"
      ]
    },
    {
      "cell_type": "markdown",
      "metadata": {
        "id": "XG9erdfxobZD",
        "pycharm": {
          "name": "#%% md\n"
        }
      },
      "source": [
        "#### 2.3.2 Animation\n",
        "We will run the exact same code block as before to create an animation."
      ]
    },
    {
      "cell_type": "code",
      "execution_count": null,
      "metadata": {
        "id": "BjLC1Pl_obZD",
        "pycharm": {
          "name": "#%%\n"
        }
      },
      "outputs": [],
      "source": [
        "spike_data_sample = spike_data[:, 0, 0]\n",
        "print(spike_data_sample.size())"
      ]
    },
    {
      "cell_type": "code",
      "execution_count": null,
      "metadata": {
        "id": "uwVwMVpzobZD",
        "pycharm": {
          "name": "#%%\n"
        }
      },
      "outputs": [],
      "source": [
        "fig, ax = plt.subplots()\n",
        "anim = splt.animator(spike_data_sample, fig, ax)\n",
        "\n",
        "HTML(anim.to_html5_video())"
      ]
    },
    {
      "cell_type": "markdown",
      "metadata": {
        "id": "FONW5DIkobZE",
        "pycharm": {
          "name": "#%% md\n"
        }
      },
      "source": [
        "This animation is obviously much tougher to make out in video form, but a keen eye will be able to catch a glimpse of the initial frame where most of the spikes occur.\n",
        "Index into the corresponding target value to check its value."
      ]
    },
    {
      "cell_type": "code",
      "execution_count": null,
      "metadata": {
        "id": "VgNLaB90obZD",
        "pycharm": {
          "name": "#%%\n"
        }
      },
      "outputs": [],
      "source": [
        "# Save output: .gif, .mp4 etc.\n",
        "# anim.save(\"mnist_latency.gif\")"
      ]
    },
    {
      "cell_type": "code",
      "execution_count": null,
      "metadata": {
        "id": "wrqfPu43obZE",
        "pycharm": {
          "name": "#%%\n"
        }
      },
      "outputs": [],
      "source": [
        "print(targets_it[0])"
      ]
    },
    {
      "cell_type": "markdown",
      "metadata": {
        "id": "sl93G7LwnG67"
      },
      "source": [
        "That's it for the `spikegen.latency` function. Further information [can be found in the documentation here](https://snntorch.readthedocs.io/en/latest/snntorch.spikegen.html)."
      ]
    },
    {
      "cell_type": "markdown",
      "metadata": {
        "id": "Uxe0msNpmpcN"
      },
      "source": [
        "### 2.4 Delta Modulation\n",
        "There are theories that the retina is adaptive: it will only process information when there is something new to process. If there is no change in your field of view, then your photoreceptor cells are  less prone to firing.\n",
        "\n",
        "That is to say: **biology is event-driven**. Neurons thrive on change.\n",
        "\n",
        "As a nifty example, a few researchers have dedicated their lives to designing retina-inspired image sensors, for example, the [Dynamic Vision Sensor](https://ieeexplore.ieee.org/abstract/document/7128412/). Although [the attached link is from over a decade ago, the work in this video](https://www.youtube.com/watch?v=6eOM15U_t1M&ab_channel=TobiDelbruck) was ahead of its time.\n",
        "\n",
        "Delta modulation is based on event-driven spiking. The `snntorch.delta` function accepts a time-series tensor as input. It takes the difference between each subsequent feature across all time steps. By default, if the difference is both *positive* and *greater than the threshold $V_{thr}$*, a spike is generated:\n",
        "\n",
        "<center>\n",
        "<img src='https://github.com/jeshraghian/snntorch/blob/master/docs/_static/img/examples/tutorial1/1_2_7_delta.png?raw=true' width=\"600\">\n",
        "</center>\n",
        "\n",
        "To illustrate, let's first come up with a contrived example where we create our own input tensor."
      ]
    },
    {
      "cell_type": "code",
      "execution_count": null,
      "metadata": {
        "id": "0AOr1kN-r4n-"
      },
      "outputs": [],
      "source": [
        "# Create a tensor with some fake time-series data\n",
        "data = torch.Tensor([0, 1, 0, 2, 8, -20, 20, -5, 0, 1, 0])\n",
        "\n",
        "# Plot the tensor\n",
        "plt.plot(data)\n",
        "\n",
        "plt.title(\"Some fake time-series data\")\n",
        "plt.xlabel(\"Time step\")\n",
        "plt.ylabel(\"Voltage (mV)\")\n",
        "plt.show()"
      ]
    },
    {
      "cell_type": "markdown",
      "metadata": {
        "id": "Ih_UJ526tJPo"
      },
      "source": [
        "Pass the above tensor into the `spikegen.delta` function, with an arbitrarily selected `threshold=4`:"
      ]
    },
    {
      "cell_type": "code",
      "execution_count": null,
      "metadata": {
        "id": "WSNI1zGdtHac"
      },
      "outputs": [],
      "source": [
        "# Convert data\n",
        "spike_data = spikegen.delta(data, threshold=4)\n",
        "\n",
        "# Create fig, ax\n",
        "fig = plt.figure(facecolor=\"w\", figsize=(8, 1))\n",
        "ax = fig.add_subplot(111)\n",
        "\n",
        "# Raster plot of delta converted data\n",
        "splt.raster(spike_data, ax, c=\"black\")\n",
        "\n",
        "plt.title(\"Input Neuron\")\n",
        "plt.xlabel(\"Time step\")\n",
        "plt.yticks([])\n",
        "plt.xlim(0, len(data))\n",
        "plt.show()"
      ]
    },
    {
      "cell_type": "markdown",
      "metadata": {
        "id": "dlmCwN40uPLq"
      },
      "source": [
        "There are three time steps where the difference between $data[T]$ and $data[T+1]$ is greater than or equal to $V_{thr}=4$. This means there are three *on-spikes*.\n",
        "\n",
        "The large dip to $-20$ has not been captured above. If negative swings have importance in your data, you can enable the optional argument `off_spike=True`."
      ]
    },
    {
      "cell_type": "code",
      "execution_count": null,
      "metadata": {
        "id": "WMrUGhRnuN8e"
      },
      "outputs": [],
      "source": [
        "# Convert data\n",
        "spike_data = spikegen.delta(data, threshold=4, off_spike=True)\n",
        "\n",
        "# Create fig, ax\n",
        "fig = plt.figure(facecolor=\"w\", figsize=(8, 1))\n",
        "ax = fig.add_subplot(111)\n",
        "\n",
        "# Raster plot of delta converted data\n",
        "splt.raster(spike_data, ax, c=\"black\")\n",
        "\n",
        "plt.title(\"Input Neuron\")\n",
        "plt.xlabel(\"Time step\")\n",
        "plt.yticks([])\n",
        "plt.xlim(0, len(data))\n",
        "plt.show()"
      ]
    },
    {
      "cell_type": "markdown",
      "metadata": {
        "id": "S_5FajsDvnEw"
      },
      "source": [
        "We've generated additional spikes, but this isn't actually the full picture!\n",
        "\n",
        "Printing out the tensor will show the presence of \"off-spikes\" which take on a value of `-1`."
      ]
    },
    {
      "cell_type": "code",
      "execution_count": null,
      "metadata": {
        "id": "9deHKE2zxGA5"
      },
      "outputs": [],
      "source": [
        "print(spike_data)"
      ]
    },
    {
      "cell_type": "markdown",
      "metadata": {
        "id": "-Nz32V0fxm2d"
      },
      "source": [
        "While `spikegen.delta` has only been demonstrated on a fake sample of data, its true use is to compress time-series data by only generating spikes for sufficiently large changes/events.\n",
        "\n",
        "That wraps up the three main spike conversion functions! There are still additional features to each of the three conversion techniques that have not been detailed in this tutorial. In particular, we have only looked at encoding input data; we have not considered how we might encode targets, and when that is necessary. We recommend [referring to the documentation for a deeper dive](https://snntorch.readthedocs.io/en/latest/snntorch.spikegen.html)."
      ]
    },
    {
      "cell_type": "markdown",
      "metadata": {
        "id": "mxrGoLIjobZE",
        "pycharm": {
          "name": "#%% md\n"
        }
      },
      "source": [
        "## 3. Spike Generation (Optional)\n",
        "Now what if we don't actually have any data to start with?\n",
        "Say we just want a randomly generated spike train from scratch. Inside of\n",
        "`spikegen.rate` is a nested function, `rate_conv`, which actually performs the  spike conversion step.\n",
        "\n",
        "All we have to do is initialize a randomly generated `torchTensor` to pass in."
      ]
    },
    {
      "cell_type": "code",
      "execution_count": null,
      "metadata": {
        "id": "-Q_7uj0vobZE",
        "pycharm": {
          "name": "#%%\n"
        }
      },
      "outputs": [],
      "source": [
        "# Create a random spike train\n",
        "spike_prob = torch.rand((num_steps, 28, 28), dtype=dtype) * 0.5\n",
        "spike_rand = spikegen.rate_conv(spike_prob)"
      ]
    },
    {
      "cell_type": "markdown",
      "metadata": {
        "id": "KOy-NZ5YobZF",
        "pycharm": {
          "name": "#%% md\n"
        }
      },
      "source": [
        "### 3.1 Animation"
      ]
    },
    {
      "cell_type": "code",
      "execution_count": null,
      "metadata": {
        "id": "yCIwKN0WobZF",
        "pycharm": {
          "name": "#%%\n"
        }
      },
      "outputs": [],
      "source": [
        "fig, ax = plt.subplots()\n",
        "anim = splt.animator(spike_rand, fig, ax)\n",
        "\n",
        "HTML(anim.to_html5_video())"
      ]
    },
    {
      "cell_type": "code",
      "execution_count": null,
      "metadata": {
        "id": "kx-VKWxFobZF",
        "pycharm": {
          "name": "#%%\n"
        }
      },
      "outputs": [],
      "source": [
        "# Save output: .gif, .mp4 etc.\n",
        "# anim.save(\"random_spikes.gif\")"
      ]
    },
    {
      "cell_type": "markdown",
      "metadata": {
        "id": "C_IH912xobZF",
        "pycharm": {
          "name": "#%% md\n"
        }
      },
      "source": [
        "### 3.2 Raster"
      ]
    },
    {
      "cell_type": "code",
      "execution_count": null,
      "metadata": {
        "id": "F6QgcKCrobZF",
        "pycharm": {
          "name": "#%%\n"
        }
      },
      "outputs": [],
      "source": [
        "fig = plt.figure(facecolor=\"w\", figsize=(10, 5))\n",
        "ax = fig.add_subplot(111)\n",
        "splt.raster(spike_rand[:, 0].view(num_steps, -1), ax, s=25, c=\"black\")\n",
        "\n",
        "plt.title(\"Input Layer\")\n",
        "plt.xlabel(\"Time step\")\n",
        "plt.ylabel(\"Neuron Number\")\n",
        "plt.show()"
      ]
    },
    {
      "cell_type": "markdown",
      "metadata": {
        "id": "QwEXpWkRy8_N"
      },
      "source": [
        "# Conclusion"
      ]
    },
    {
      "cell_type": "markdown",
      "metadata": {
        "id": "N-SsITWKobZF",
        "pycharm": {
          "name": "#%% md\n"
        }
      },
      "source": [
        "That's it for spike conversion and generation.\n",
        "This approach generalizes beyond images, to single-dimensional and multi-dimensional tensors.\n",
        "\n",
        "For reference, the documentation for [`spikegen` can be found here](https://snntorch.readthedocs.io/en/latest/snntorch.spikegen.html) and for [`spikeplot`, here](https://snntorch.readthedocs.io/en/latest/snntorch.spikeplot.html)\n",
        "\n",
        "[In the next tutorial](https://snntorch.readthedocs.io/en/latest/tutorials/index.html), you will learn the basics of spiking neurons and how to use them.\n",
        "\n",
        "If you like this project, please consider starring ⭐ the repo on GitHub as it is the easiest and best way to support it."
      ]
    },
    {
      "cell_type": "markdown",
      "metadata": {
        "id": "5EjmSqPs-VWw"
      },
      "source": [
        "# Additional Resources\n",
        "\n",
        "* [Check out the snnTorch GitHub project here.](https://github.com/jeshraghian/snntorch)"
      ]
    }
  ],
  "metadata": {
    "accelerator": "GPU",
    "colab": {
      "collapsed_sections": [
        "9QXsrr6Mp5e_",
        "1EWDw3bip8Ie",
        "vFM8UV9CreIX",
        "xXkTAJ9ws1Y6",
        "OgkWg605tE1y",
        "OBt0WDzyujnk",
        "xC96eesMqYo-",
        "mszPTrYOluym",
        "VTHK-wAWV57B"
      ],
      "name": "snntorch_tutorial_1.ipynb",
      "provenance": []
    },
    "interpreter": {
      "hash": "579503e60735c0b0ad61cf404d04af89041cf694c55fa4cc17d05f5d9b483dbc"
    },
    "kernelspec": {
      "display_name": "Python 3 (ipykernel)",
      "language": "python",
      "name": "python3"
    },
    "language_info": {
      "codemirror_mode": {
        "name": "ipython",
        "version": 3
      },
      "file_extension": ".py",
      "mimetype": "text/x-python",
      "name": "python",
      "nbconvert_exporter": "python",
      "pygments_lexer": "ipython3",
      "version": "3.9.5"
    }
  },
  "nbformat": 4,
  "nbformat_minor": 0
}